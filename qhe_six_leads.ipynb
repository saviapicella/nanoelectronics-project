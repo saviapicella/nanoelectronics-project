{
 "cells": [
  {
   "cell_type": "markdown",
   "id": "7d211f71",
   "metadata": {},
   "source": [
    "# <center>Graphene quantum Hall effect</center>\n",
    "<hr>"
   ]
  },
  {
   "cell_type": "code",
   "execution_count": 1,
   "id": "a87a2a3c",
   "metadata": {},
   "outputs": [],
   "source": [
    "import kwant\n",
    "import numpy as np\n",
    "import random\n",
    "from matplotlib import pyplot as plt\n",
    "import matplotlib"
   ]
  },
  {
   "cell_type": "markdown",
   "id": "93c52809",
   "metadata": {},
   "source": [
    "### Figures Management"
   ]
  },
  {
   "cell_type": "code",
   "execution_count": 2,
   "id": "3c26527e",
   "metadata": {},
   "outputs": [],
   "source": [
    "matplotlib.rcParams.update({\n",
    "    \"pgf.texsystem\": \"pdflatex\",\n",
    "    'font.family': 'serif',\n",
    "    'font.size': 14,\n",
    "    'toolbar': 'None',\n",
    "    'text.usetex': True,\n",
    "    'pgf.rcfonts': False,\n",
    "    'legend.fancybox': False,\n",
    "    'legend.shadow': False\n",
    "})\n",
    "\n",
    "fig_path = \"./figures/\""
   ]
  },
  {
   "cell_type": "markdown",
   "id": "57b88c51",
   "metadata": {},
   "source": [
    "### Fundamental constants"
   ]
  },
  {
   "cell_type": "code",
   "execution_count": 3,
   "id": "c3929b67",
   "metadata": {},
   "outputs": [],
   "source": [
    "h = 6.626069e-34  # Planck constant (Js)\n",
    "h_bar =h/(2*np.pi) # With h_bar oom larger and Bmax=30, it works perfectly\n",
    "\n",
    "# Scaling factor of 10 required --> h_bar normal, Bmax=3\n",
    "\n",
    "e = 1.602e-19      # electron charge (C)\n",
    "c = 299792458       # Light celerity (m/s)\n",
    "kB = 1.3806503e-23  # Boltzmann constant (kg m2/Ks2)\n",
    "m_e = 9.1e-31       # electron mass (kg)"
   ]
  },
  {
   "cell_type": "markdown",
   "id": "41f1f3c9",
   "metadata": {},
   "source": [
    "### Scaling"
   ]
  },
  {
   "cell_type": "code",
   "execution_count": 4,
   "id": "8cdae985",
   "metadata": {},
   "outputs": [],
   "source": [
    "asquare = 1e-9 # [m] a is the lattice parameter\n",
    "tsquare = 1 # [eV] t is the hopping parameter\n",
    "\n",
    "# scaling\n",
    "\n",
    "scaling = 4 # scaling factor\n",
    "a = asquare * scaling\n",
    "t = tsquare / scaling"
   ]
  },
  {
   "cell_type": "markdown",
   "id": "9514f54b",
   "metadata": {},
   "source": [
    "### Geometrical parameters"
   ]
  },
  {
   "cell_type": "code",
   "execution_count": 5,
   "id": "86f1afd4",
   "metadata": {},
   "outputs": [],
   "source": [
    "W=200e-9 ; L = 1000e-9 # let's try W = 200, 400, 600, 800\n",
    "\n",
    "# For width smaller than 50 nm, the script does not work since the magnetic length is 30 nm so wf start to overlap (?)\n",
    "# Also for width slightly larger than that, the steps in the Hall resistance are lost. For w=200 nm they are recovered.\n",
    "\n",
    "width_lead=15e-9                                         \n",
    "posL = 450e-9 # pos of the leads along x # 350e-9 before\n",
    "lead_ext = posL + width_lead / 2\n",
    "lead_int = posL - width_lead / 2\n",
    "\n",
    "flag=0"
   ]
  },
  {
   "cell_type": "markdown",
   "id": "1c7558c3",
   "metadata": {},
   "source": [
    "#### Geometry of the device"
   ]
  },
  {
   "cell_type": "code",
   "execution_count": 6,
   "id": "9cd338d4",
   "metadata": {},
   "outputs": [],
   "source": [
    "def geom(pos):\n",
    "    x, y = pos\n",
    "    return abs(x) < L / 2 and abs(y) < W / 2"
   ]
  },
  {
   "cell_type": "markdown",
   "id": "7d163064",
   "metadata": {},
   "source": [
    "#### Geometry of the leads"
   ]
  },
  {
   "cell_type": "code",
   "execution_count": 7,
   "id": "8e9136b8",
   "metadata": {},
   "outputs": [],
   "source": [
    "def lead_shape(pos):\n",
    "    x, y = pos\n",
    "    return -W/2 < y < W/2\n",
    "\n",
    "\n",
    "def lead_shape_left(pos):\n",
    "    x, y = pos\n",
    "    return -lead_ext < x < -lead_int\n",
    "\n",
    "\n",
    "def lead_shape_right(pos):\n",
    "    x, y = pos    \n",
    "    return lead_int < x < lead_ext"
   ]
  },
  {
   "cell_type": "markdown",
   "id": "13cacfe0",
   "metadata": {},
   "source": [
    "#### Potentials & Disorder\n",
    "\n",
    "The minus sign in the expression of the potentials comes from the fact that those potentials are associated to the potential energy of an electron ($qV = -eV$). Introducing a disorder of 0.01 leads to peaks in longitudinal resistance but we retain anyway plateaus in Hall resistance.\n"
   ]
  },
  {
   "cell_type": "code",
   "execution_count": 8,
   "id": "f85fe69b",
   "metadata": {},
   "outputs": [],
   "source": [
    "def step_potential(x, y):\n",
    "\n",
    "    region_1 = 150e-9\n",
    "    w_pot = 0\n",
    "    \n",
    "    in_region_1 = abs(x) < region_1 and abs(y) < W / 2 - w_pot\n",
    "    \n",
    "    return (-1) * in_region_1 * v_tip\n",
    "\n",
    "\n",
    "def smooth_potential(x, y):\n",
    "    \n",
    "    region_1 = 150e-9\n",
    "    w_pot = 0\n",
    "    \n",
    "    in_region_1 = abs(x) < region_1 and abs(y) < W / 2 - w_pot\n",
    "    \n",
    "    return (-1) * in_region_1 * np.cos(abs(x) * np.pi / (2 * region_1)) * (v_tip - 0.01)\n",
    "\n",
    "\n",
    "def lorentzian_potential(x, y):\n",
    "    \n",
    "    a = v_tip**-1\n",
    "    \n",
    "    return (-1) * a / ((x * 1.1e8)**2 + (y * 1.1e8)**2 + a**2)\n",
    "\n",
    "\n",
    "def stair_potential(x, y):\n",
    "    \n",
    "    region_1 = 50e-9\n",
    "    region_2 = 200e-9\n",
    "    w_pot = 0 \n",
    "\n",
    "    in_region_2 = abs(x) < region_2 and abs(y) < W / 2 - w_pot\n",
    "    in_region_1 = abs(x) < region_1 and abs(y) < W / 2 - w_pot\n",
    "    \n",
    "    return (-1) * (in_region_1 + in_region_2) * v_tip / 2\n",
    "\n",
    "\n",
    "def disorder(pos):\n",
    "    x, y = pos\n",
    "    \n",
    "    if (dis_enable):\n",
    "        pot = 0.01 * random.uniform(-t / 2, t / 2)\n",
    "    else:\n",
    "        pot = 0\n",
    "    \n",
    "    return pot"
   ]
  },
  {
   "cell_type": "markdown",
   "id": "174cd0d2",
   "metadata": {},
   "source": [
    "#### Defining onsite and hopping parameters"
   ]
  },
  {
   "cell_type": "code",
   "execution_count": 9,
   "id": "68423b85",
   "metadata": {},
   "outputs": [],
   "source": [
    "def onsite(site):\n",
    "    \"\"\"\n",
    "    Definition of the potential. To reach the bottom of the conduction band, the potential is set at 4*t.\n",
    "    A zone of potential v_tip (above the bottom of the conduction band) can be defined in a given zone \n",
    "    (square or circle here). \n",
    "    \"\"\"\n",
    "    x, y = site.pos\n",
    "        \n",
    "    return potential_function(x, y) + disorder(site) "
   ]
  },
  {
   "cell_type": "markdown",
   "id": "8fd81382",
   "metadata": {},
   "source": [
    "#### Hopping parameter"
   ]
  },
  {
   "cell_type": "code",
   "execution_count": 10,
   "id": "49c70bf2",
   "metadata": {},
   "outputs": [],
   "source": [
    "def hopping(site_i, site_j):  \n",
    "    \n",
    "    xi, yi = site_i.pos\n",
    "    xj, yj = site_j.pos\n",
    "    \n",
    "    # The definition of hop to include the magnetic field Bfield in the definition of the hopping parameter\n",
    "    \n",
    "    hop = t * np.exp(1j * e * Bfield * (yi + yj) * (xj - xi) / (2 * h_bar))\n",
    "    \n",
    "    return hop"
   ]
  },
  {
   "cell_type": "markdown",
   "id": "d9b5d2f7",
   "metadata": {},
   "source": [
    "## Building the system"
   ]
  },
  {
   "cell_type": "code",
   "execution_count": 11,
   "id": "b0974cdf",
   "metadata": {},
   "outputs": [],
   "source": [
    "def sys_builder():\n",
    "    \n",
    "    graphene = kwant.lattice.general([(np.sqrt(3) * a, 0), (0, 3 * a)], \n",
    "                                     [(a * np.sqrt(3) / 2, 0), (0, a / 2), (0, 3 * a / 2), (a * np.sqrt(3) / 2, 2 * a)], \n",
    "                                     norbs = 1)\n",
    "    \n",
    "    A, B, C, D = graphene.sublattices\n",
    "      \n",
    "    sys = kwant.Builder()\n",
    "    sys[graphene.shape(geom, (0,0))] = onsite\n",
    "    \n",
    "    hoppings = (((0, 0), B, A), ((0, 0), C, B), ((0, 0), D, C), ((-1, 0), A, B), ((-1, 0), D, C), ((0, 1), A, D)) \n",
    "    sys[[kwant.builder.HoppingKind(*hopping) for hopping in hoppings]] = hopping\n",
    "\n",
    "# Schematic of the Hall bar\n",
    "#   ,----------o----Vxx----.--------------.\n",
    "#   |  Lead 3  |           |  Lead 5    __|__\n",
    "#  Vxy     __|   |_______|   |__        '''''    (ground)\n",
    "#   |               I\n",
    "#   | Lead 1      ----->      Lead 2\n",
    "#   |      __     _______     __\n",
    "#   |        |   |       |   |\n",
    "#   |  Lead 4  |               Lead 6\n",
    "#   `----------'\n",
    "    \n",
    "    \"\"\" Lead 1 \"\"\"\n",
    "    sym0 = kwant.TranslationalSymmetry(graphene.vec((-1, 0)))\n",
    "    lead0 = kwant.Builder(sym0)\n",
    "    lead0[graphene.shape(lead_shape, (0, 0))] = 0 # is it really zero here? I think yes\n",
    "    lead0[graphene.neighbors()] = hopping\n",
    "\n",
    "    \"\"\" Lead 2 \"\"\"\n",
    "    sym1 = kwant.TranslationalSymmetry(graphene.vec((1, 0)))\n",
    "    lead1 = kwant.Builder(sym1)\n",
    "    lead1[graphene.shape(lead_shape, (0, 0))] = 0    \n",
    "    lead1[graphene.neighbors()] = hopping\n",
    "\n",
    "    \"\"\" Lead 3 \"\"\"\n",
    "    sym2 = kwant.TranslationalSymmetry(graphene.vec((0, 1)))\n",
    "    lead2 = kwant.Builder(sym2)\n",
    "    lead2[graphene.shape(lead_shape_left, (-posL, 0))] = 0\n",
    "    lead2[graphene.neighbors()] = hopping\n",
    "\n",
    "    \"\"\" Lead 4 \"\"\"\n",
    "    sym3 = kwant.TranslationalSymmetry(graphene.vec((0, -1)))\n",
    "    lead3 = kwant.Builder(sym3)\n",
    "    lead3[graphene.shape(lead_shape_left, (-posL, 0))] = 0\n",
    "    lead3[graphene.neighbors()] = hopping\n",
    "\n",
    "    \"\"\" Lead 5 \"\"\" \n",
    "    lead4 = kwant.Builder(sym2)\n",
    "    lead4[graphene.shape(lead_shape_right, (posL, 0))] = 0\n",
    "    lead4[graphene.neighbors()] = hopping\n",
    "    \n",
    "    \"\"\"Lead 6\"\"\"\n",
    "    lead5 = kwant.Builder(sym3)\n",
    "    lead5[graphene.shape(lead_shape_right, (posL, 0))] = 0\n",
    "    lead5[graphene.neighbors()] = hopping\n",
    "    \n",
    "    \"\"\" The leads are attached \"\"\"\n",
    "    sys.attach_lead(lead0)\n",
    "    sys.attach_lead(lead1)\n",
    "    sys.attach_lead(lead2)\n",
    "    sys.attach_lead(lead3)\n",
    "    sys.attach_lead(lead4)\n",
    "    sys.attach_lead(lead5)\n",
    " \n",
    "    sys = sys.finalized()\n",
    "    \n",
    "    return sys   "
   ]
  },
  {
   "cell_type": "code",
   "execution_count": 12,
   "id": "7f92ff4b",
   "metadata": {},
   "outputs": [],
   "source": [
    "sys = sys_builder()"
   ]
  },
  {
   "cell_type": "markdown",
   "id": "5ce01c8e",
   "metadata": {},
   "source": [
    "#### Plotting the system"
   ]
  },
  {
   "cell_type": "code",
   "execution_count": 13,
   "id": "c576a2af",
   "metadata": {},
   "outputs": [
    {
     "data": {
      "image/png": "[encoded data removed]",
      "text/plain": [
       "<Figure size 432x288 with 1 Axes>"
      ]
     },
     "metadata": {
      "needs_background": "light"
     },
     "output_type": "display_data"
    },
    {
     "data": {
      "image/png": "[encoded data removed]",
      "text/plain": [
       "<Figure size 432x288 with 1 Axes>"
      ]
     },
     "execution_count": 13,
     "metadata": {},
     "output_type": "execute_result"
    }
   ],
   "source": [
    "kwant.plot(sys, site_size = 1e-9)"
   ]
  },
  {
   "cell_type": "markdown",
   "id": "7fdf8c5d",
   "metadata": {},
   "source": [
    "## Electronic properties"
   ]
  },
  {
   "cell_type": "code",
   "execution_count": 14,
   "id": "78c49cc5",
   "metadata": {},
   "outputs": [],
   "source": [
    "Ef = 0.17\n",
    "Bfield = 1.82\n",
    "v_tip = +0.02\n",
    "potential_function = step_potential\n",
    "dis_enable = False\n",
    "\n",
    "params = dict(Bfield = Bfield, v_tip = v_tip) # params take the magnetic field as a parameter for the function hopping"
   ]
  },
  {
   "cell_type": "code",
   "execution_count": 15,
   "id": "f073c2d7",
   "metadata": {},
   "outputs": [],
   "source": [
    "# The wavelength must be (much more) larger than the lattice parameter \n",
    "# We can also check the width of the device w.r.t. the magnetic length, which is the extension of the wf \n",
    "\n",
    "lambda_F = 3 * np.pi * t* a /abs(Ef) # computation of the wavelength\n",
    "mag_length=np.sqrt(h_bar/(e*Bfield))\n",
    "\n",
    "if lambda_F/a < 2:\n",
    "    print('Warning : lambda_F must be larger than the lattice parameter a')\n",
    "    \n",
    "if mag_length > W/2:\n",
    "    print('Warning : wavefunctions extend across the whole bar')"
   ]
  },
  {
   "cell_type": "markdown",
   "id": "5b44c840",
   "metadata": {},
   "source": [
    "#### Visualization of the Landau Levels"
   ]
  },
  {
   "cell_type": "code",
   "execution_count": 16,
   "id": "2981ca22",
   "metadata": {
    "scrolled": false
   },
   "outputs": [
    {
     "name": "stdout",
     "output_type": "stream",
     "text": [
      "LL-4 = -0.22308232368408085\n",
      "LL-3 = -0.19319495944567694\n",
      "LL-2 = -0.15774302383986594\n",
      "LL-1 = -0.11154116184204042\n",
      "LL0 = -0.0\n",
      "LL1 = 0.11154116184204042\n",
      "LL2 = 0.15774302383986594\n",
      "LL3 = 0.19319495944567694\n",
      "LL4 = 0.22308232368408085\n",
      "Fermi Energy =0.17\n"
     ]
    },
    {
     "data": {
      "image/png": "[encoded data removed]",
      "text/plain": [
       "<Figure size 432x288 with 1 Axes>"
      ]
     },
     "metadata": {
      "needs_background": "light"
     },
     "output_type": "display_data"
    }
   ],
   "source": [
    "num_ll = 5\n",
    "ll_indexes = np.arange(0, num_ll)\n",
    "lls = -3 * t * a * np.sqrt(e  * ll_indexes * Bfield / (2 * h_bar))\n",
    "lls = np.append(lls[::-1], -lls[1:])\n",
    "\n",
    "plt.figure()\n",
    "\n",
    "for n, ll in enumerate(lls):\n",
    "     \n",
    "    # Landau levels as a function of the magnetic field Bfield and the Landau level label n\n",
    "    plt.hlines(ll, 0, 1, color=\"b\")\n",
    "    plt.hlines(ll, 0, 1, color=\"b\")\n",
    "    print(f'LL{n - (num_ll - 1)} = {ll}')\n",
    "    \n",
    "print (f'Fermi Energy ={Ef}')\n",
    "    \n",
    "plt.axhline(Ef, 0, 1, color='r', linestyle=\"dashed\", label='Fermi level', linewidth=1) # to plot the Fermi energy (in red)\n",
    "plt.xlabel('DOS [a.u.]')\n",
    "plt.ylabel('Energy [eV]')\n",
    "plt.legend()\n",
    "plt.show()"
   ]
  },
  {
   "cell_type": "markdown",
   "id": "eae3b8b8",
   "metadata": {},
   "source": [
    "### Visualization of the LL + step potential"
   ]
  },
  {
   "cell_type": "code",
   "execution_count": 17,
   "id": "5a71421e",
   "metadata": {
    "scrolled": false
   },
   "outputs": [
    {
     "data": {
      "image/png": "[encoded data removed]",
      "text/plain": [
       "<Figure size 432x288 with 1 Axes>"
      ]
     },
     "metadata": {
      "needs_background": "light"
     },
     "output_type": "display_data"
    }
   ],
   "source": [
    "N=500\n",
    "x_positions = np.linspace(-L / 2, L / 2, N)\n",
    "y_positions = np.linspace(-W / 2, W / 2)\n",
    "ll_pot_matrix = np.zeros((2 * num_ll - 1, N))\n",
    "\n",
    "for x_idx, x_pos in enumerate(x_positions):\n",
    "    ll_pot_matrix[:, x_idx] = lls[:] + potential_function(x_pos, 0)\n",
    "\n",
    "plt.figure()\n",
    "for ll_row in ll_pot_matrix:\n",
    "    \n",
    "    plt.plot(x_positions, ll_row, color='blue', linewidth=1)\n",
    "\n",
    "plt.axhline(Ef, color='red', linestyle=\"dashed\", label='Fermi level', linewidth=1)\n",
    "plt.xlabel('X position in the Hall bar')\n",
    "plt.ylabel('Energy [eV]')\n",
    "plt.title(f'LLs in a {potential_function.__name__.replace(\"_\", \" \")}')\n",
    "plt.legend()\n",
    "\n",
    "if(1):\n",
    "    plt.tight_layout()\n",
    "    plt.savefig(fig_path + f'lls_{potential_function.__name__}.pdf')\n",
    "else: \n",
    "    plt.show()\n",
    "\n",
    "# piece of code to plot the contour of the lorentzian potential on the bar.\n",
    "#\n",
    "# plt.figure()\n",
    "# xx, yy = np.meshgrid(x_positions, y_positions)\n",
    "# zz = lorentzian_potential(xx, yy)\n",
    "# plt.contourf(xx, yy, zz, levels=50, cmap=\"jet\")\n",
    "# plt.axis('equal')\n",
    "\n",
    "# plt.show()"
   ]
  },
  {
   "cell_type": "markdown",
   "id": "e42e2aa3",
   "metadata": {},
   "source": [
    "### Current and wf density"
   ]
  },
  {
   "cell_type": "markdown",
   "id": "55774c9f",
   "metadata": {},
   "source": [
    "#### Wave function"
   ]
  },
  {
   "cell_type": "code",
   "execution_count": 18,
   "id": "6a643fc3",
   "metadata": {},
   "outputs": [],
   "source": [
    "wfs = kwant.wave_function(sys, energy=Ef, params = params) # the wf is obtained by giving the parameters in arguments\n",
    "scattering_wf = wfs(0) # all scattering wave functions from lead 0"
   ]
  },
  {
   "cell_type": "markdown",
   "id": "1feee122",
   "metadata": {},
   "source": [
    "#### Current density\n"
   ]
  },
  {
   "cell_type": "code",
   "execution_count": 19,
   "id": "a3cc38b9",
   "metadata": {
    "scrolled": false
   },
   "outputs": [
    {
     "data": {
      "image/png": "[encoded data removed]",
      "text/plain": [
       "<Figure size 432x288 with 2 Axes>"
      ]
     },
     "metadata": {
      "needs_background": "light"
     },
     "output_type": "display_data"
    },
    {
     "name": "stderr",
     "output_type": "stream",
     "text": [
      "/tmp/ipykernel_16045/3019392658.py:17: RuntimeWarning: invalid value encountered in true_divide\n",
      "  kwant.plotter.current(sys, current, cmap=\"jet\", max_linewidth=0, min_linewidth=0)\n"
     ]
    },
    {
     "data": {
      "image/png": "[encoded data removed]",
      "text/plain": [
       "<Figure size 432x288 with 2 Axes>"
      ]
     },
     "metadata": {
      "needs_background": "light"
     },
     "output_type": "display_data"
    },
    {
     "name": "stderr",
     "output_type": "stream",
     "text": [
      "/tmp/ipykernel_16045/3019392658.py:18: RuntimeWarning: invalid value encountered in true_divide\n",
      "  kwant.plotter.current(sys, current_right, cmap=\"jet\", max_linewidth=0, min_linewidth=0)\n"
     ]
    }
   ],
   "source": [
    "# To obtain edge states, a strong field is required, in order to be in the high magnetic field regime. 2 T gives edge states, \n",
    "# 0.1 T gives normal conduction\n",
    "\n",
    "J0 = kwant.operator.Current(sys)\n",
    "wf_left = wfs(0)\n",
    "wf_right = wfs(1)\n",
    "\n",
    "current = sum(J0(p, params = params) for p in wf_left) # to sum over all the lead's mode\n",
    "current_right=sum(J0(p, params = params) for p in wf_right)\n",
    "\n",
    "if (0): # put 1 if you want to save the currents in pdf.\n",
    "    kwant.plotter.current(sys, current, cmap=\"jet\", max_linewidth=0, min_linewidth=0, \n",
    "                          file=fig_path + f\"{potential_function.__name__}_current_left.pdf\")\n",
    "    kwant.plotter.current(sys, current_right, cmap=\"jet\", max_linewidth=0, min_linewidth=0, \n",
    "                          file=fig_path + f\"{potential_function.__name__}_current_right.pdf\")\n",
    "else:\n",
    "    kwant.plotter.current(sys, current, cmap=\"jet\", max_linewidth=0, min_linewidth=0)\n",
    "    kwant.plotter.current(sys, current_right, cmap=\"jet\", max_linewidth=0, min_linewidth=0)\n",
    "plt.show()"
   ]
  },
  {
   "cell_type": "markdown",
   "id": "85219244",
   "metadata": {},
   "source": [
    "To have clear current plots you have to make sure the potential zone does not overlap with the leads."
   ]
  },
  {
   "cell_type": "markdown",
   "id": "69553cde",
   "metadata": {},
   "source": [
    "### Plotting Hall conductance as function of the back gate voltage applied (Fermi level)"
   ]
  },
  {
   "cell_type": "code",
   "execution_count": 20,
   "id": "c5bcd78e",
   "metadata": {},
   "outputs": [],
   "source": [
    "Ef_min = lls[0 + (num_ll - 1)] + 5e-2 # at ll0\n",
    "Ef_max = lls[4 + (num_ll - 1)] + 5e-2 # at ll+3 \n",
    "num_it = 200 # discretization of the fermi level \n",
    "num_leads = 6\n",
    "\n",
    "fermi_energies = np.linspace(Ef_min, Ef_max, num_it)\n",
    "R = np.zeros((num_it, num_leads - 1)) # r_xx = R[:, 3] and r_xy = R[:, 4]\n",
    "\n",
    "params = dict(Bfield = Bfield, v_tip = v_tip)\n",
    "\n",
    "for idx, en in enumerate(fermi_energies):\n",
    "        \n",
    "    try:    \n",
    "        s = kwant.smatrix(sys, energy=en, params=params)\n",
    "        cond = np.array([[s.transmission(i, j) for j in range(num_leads)] for i in range(num_leads)])     \n",
    "        cond -= np.diag(cond.sum(axis=0))  \n",
    "        cm = s.conductance_matrix()[:-1, :-1] # we don't even use the cond matrix so what is the point?\n",
    "#         cm = cond[:-1, :-1]\n",
    "        \n",
    "        R[idx] = np.linalg.solve(cm, [1, -1, 0, 0, 0])\n",
    "    \n",
    "    except Exception as e:\n",
    "        \n",
    "        print(f'problem encountered at iteration {idx} with fermi energy {en} with the following error: \\n {e}')"
   ]
  },
  {
   "cell_type": "markdown",
   "id": "e46d74da",
   "metadata": {},
   "source": [
    "### Hall resistivity vs Fermi Energy"
   ]
  },
  {
   "cell_type": "code",
   "execution_count": 21,
   "id": "fcc7dee3",
   "metadata": {},
   "outputs": [
    {
     "data": {
      "image/png": "[encoded data removed]",
      "text/plain": [
       "<Figure size 432x288 with 1 Axes>"
      ]
     },
     "metadata": {
      "needs_background": "light"
     },
     "output_type": "display_data"
    }
   ],
   "source": [
    "plt.figure()\n",
    "plt.title(\"Hall resistance w.r.t. the Fermi energy\")\n",
    "plt.plot(fermi_energies, R[:, 4], color='red', label=\"$V_{tip}=\" + f\"{v_tip}$\")\n",
    "\n",
    "for _, ll in enumerate(lls):\n",
    "    if(Ef_min < ll < Ef_max):\n",
    "        plt.axvline(x=ll, color='k', linestyle='--', linewidth=1)\n",
    "        \n",
    "plt.xlabel('Fermi Energy [eV]')\n",
    "plt.ylabel('$R_{xy}$ [h/2e²]')\n",
    "plt.legend()\n",
    "\n",
    "if(0):\n",
    "    plt.tight_layout()\n",
    "    plt.savefig(fig_path + 'hr6_p02_nd.pdf')\n",
    "else: \n",
    "    plt.show()"
   ]
  },
  {
   "cell_type": "markdown",
   "id": "c5ae287c",
   "metadata": {},
   "source": [
    "### Longitudinal resistivity vs Fermi energy (with non-zero tip potential)"
   ]
  },
  {
   "cell_type": "code",
   "execution_count": 22,
   "id": "8ab3b687",
   "metadata": {
    "scrolled": true
   },
   "outputs": [
    {
     "data": {
      "image/png": "[encoded data removed]",
      "text/plain": [
       "<Figure size 432x288 with 1 Axes>"
      ]
     },
     "metadata": {
      "needs_background": "light"
     },
     "output_type": "display_data"
    }
   ],
   "source": [
    "overhead_amount = 0 # 140\n",
    "plt.figure()\n",
    "plt.title(\"Longitudinal resistance w.r.t. the Fermi energy\")\n",
    "plt.plot(fermi_energies[overhead_amount:], R[overhead_amount:, 3], color='blue', label=\"$V_{tip}=\" + f\"{v_tip}$\")\n",
    "\n",
    "# plt.axhline(y=1/3, linestyle='--')\n",
    "# plt.axhline(y=1/2.5, color='k')\n",
    "\n",
    "for _, ll in enumerate(lls):\n",
    "    if(Ef_min < ll < Ef_max):\n",
    "        plt.axvline(x=ll, color='k', linestyle='--', linewidth=1)\n",
    "        \n",
    "plt.xlabel('Fermi energy [eV]')\n",
    "plt.ylabel('$R_{xx}$ [h/2e²]')\n",
    "plt.legend()\n",
    "\n",
    "if(0):\n",
    "    plt.tight_layout()\n",
    "    plt.savefig(fig_path + 'lr6_p02_nd.pdf')\n",
    "else: \n",
    "    plt.show()"
   ]
  },
  {
   "cell_type": "code",
   "execution_count": 23,
   "id": "6500a5a2",
   "metadata": {},
   "outputs": [
    {
     "data": {
      "image/png": "[encoded data removed]",
      "text/plain": [
       "<Figure size 576x360 with 2 Axes>"
      ]
     },
     "metadata": {
      "needs_background": "light"
     },
     "output_type": "display_data"
    }
   ],
   "source": [
    "# Create figure and subplot manually\n",
    "# fig = plt.figure()\n",
    "# host = fig.add_subplot(111)\n",
    "\n",
    "# More versatile wrapper\n",
    "fig, host = plt.subplots(figsize=(8,5)) # (width, height) in inches\n",
    "plt.title(\"Longitudinal and Hall resistances\")\n",
    "    \n",
    "par1 = host.twinx()\n",
    "\n",
    "for _, ll in enumerate(lls):\n",
    "    if(Ef_min < ll < Ef_max):\n",
    "        host.axvline(x=ll, color='.8', linestyle='-', linewidth=1)\n",
    "\n",
    "host.plot(fermi_energies, R[:, 3], color='blue', label=\"$R_{xx}$\")\n",
    "par1.plot(fermi_energies, R[:, 4], color='k', label=\"$R_{xy}$\", linestyle=\"--\")\n",
    "\n",
    "host.set_xlabel('Fermi energy [eV]')\n",
    "host.set_ylabel('$R_{xx}$ [h/2e²]')\n",
    "par1.set_ylabel('$R_{xy}$ [h/2e²]')\n",
    "fig.legend(loc=(.12, .78))\n",
    "\n",
    "if(1):\n",
    "    plt.tight_layout()\n",
    "    plt.savefig(fig_path + f'{potential_function.__name__}_res_indirect_bs_200.pdf')\n",
    "else: \n",
    "    plt.show()"
   ]
  },
  {
   "cell_type": "code",
   "execution_count": 24,
   "id": "0e54542a",
   "metadata": {},
   "outputs": [
    {
     "ename": "KeyboardInterrupt",
     "evalue": "",
     "output_type": "error",
     "traceback": [
      "\u001b[0;31m---------------------------------------------------------------------------\u001b[0m",
      "\u001b[0;31mKeyboardInterrupt\u001b[0m                         Traceback (most recent call last)",
      "\u001b[0;32m/tmp/ipykernel_16045/1449008642.py\u001b[0m in \u001b[0;36m<module>\u001b[0;34m\u001b[0m\n\u001b[1;32m     11\u001b[0m \u001b[0;34m\u001b[0m\u001b[0m\n\u001b[1;32m     12\u001b[0m     \u001b[0;32mtry\u001b[0m\u001b[0;34m:\u001b[0m\u001b[0;34m\u001b[0m\u001b[0;34m\u001b[0m\u001b[0m\n\u001b[0;32m---> 13\u001b[0;31m         \u001b[0ms\u001b[0m \u001b[0;34m=\u001b[0m \u001b[0mkwant\u001b[0m\u001b[0;34m.\u001b[0m\u001b[0msmatrix\u001b[0m\u001b[0;34m(\u001b[0m\u001b[0msys\u001b[0m\u001b[0;34m,\u001b[0m \u001b[0menergy\u001b[0m\u001b[0;34m=\u001b[0m\u001b[0men\u001b[0m\u001b[0;34m,\u001b[0m \u001b[0mparams\u001b[0m\u001b[0;34m=\u001b[0m\u001b[0mparams\u001b[0m\u001b[0;34m)\u001b[0m\u001b[0;34m\u001b[0m\u001b[0;34m\u001b[0m\u001b[0m\n\u001b[0m\u001b[1;32m     14\u001b[0m         \u001b[0mcond\u001b[0m \u001b[0;34m=\u001b[0m \u001b[0mnp\u001b[0m\u001b[0;34m.\u001b[0m\u001b[0marray\u001b[0m\u001b[0;34m(\u001b[0m\u001b[0;34m[\u001b[0m\u001b[0;34m[\u001b[0m\u001b[0ms\u001b[0m\u001b[0;34m.\u001b[0m\u001b[0mtransmission\u001b[0m\u001b[0;34m(\u001b[0m\u001b[0mi\u001b[0m\u001b[0;34m,\u001b[0m \u001b[0mj\u001b[0m\u001b[0;34m)\u001b[0m \u001b[0;32mfor\u001b[0m \u001b[0mj\u001b[0m \u001b[0;32min\u001b[0m \u001b[0mrange\u001b[0m\u001b[0;34m(\u001b[0m\u001b[0mnum_leads\u001b[0m\u001b[0;34m)\u001b[0m\u001b[0;34m]\u001b[0m \u001b[0;32mfor\u001b[0m \u001b[0mi\u001b[0m \u001b[0;32min\u001b[0m \u001b[0mrange\u001b[0m\u001b[0;34m(\u001b[0m\u001b[0mnum_leads\u001b[0m\u001b[0;34m)\u001b[0m\u001b[0;34m]\u001b[0m\u001b[0;34m)\u001b[0m\u001b[0;34m\u001b[0m\u001b[0;34m\u001b[0m\u001b[0m\n\u001b[1;32m     15\u001b[0m         \u001b[0mcond\u001b[0m \u001b[0;34m-=\u001b[0m \u001b[0mnp\u001b[0m\u001b[0;34m.\u001b[0m\u001b[0mdiag\u001b[0m\u001b[0;34m(\u001b[0m\u001b[0mcond\u001b[0m\u001b[0;34m.\u001b[0m\u001b[0msum\u001b[0m\u001b[0;34m(\u001b[0m\u001b[0maxis\u001b[0m\u001b[0;34m=\u001b[0m\u001b[0;36m0\u001b[0m\u001b[0;34m)\u001b[0m\u001b[0;34m)\u001b[0m\u001b[0;34m\u001b[0m\u001b[0;34m\u001b[0m\u001b[0m\n",
      "\u001b[0;32m/usr/lib/python3/dist-packages/kwant/_common.py\u001b[0m in \u001b[0;36minner\u001b[0;34m(*args, **kwargs)\u001b[0m\n\u001b[1;32m     70\u001b[0m             \u001b[0;32mif\u001b[0m \u001b[0msig\u001b[0m\u001b[0;34m.\u001b[0m\u001b[0mbind\u001b[0m\u001b[0;34m(\u001b[0m\u001b[0;34m*\u001b[0m\u001b[0margs\u001b[0m\u001b[0;34m,\u001b[0m \u001b[0;34m**\u001b[0m\u001b[0mkwargs\u001b[0m\u001b[0;34m)\u001b[0m\u001b[0;34m.\u001b[0m\u001b[0marguments\u001b[0m\u001b[0;34m.\u001b[0m\u001b[0mget\u001b[0m\u001b[0;34m(\u001b[0m\u001b[0mparameter_name\u001b[0m\u001b[0;34m)\u001b[0m\u001b[0;34m:\u001b[0m\u001b[0;34m\u001b[0m\u001b[0;34m\u001b[0m\u001b[0m\n\u001b[1;32m     71\u001b[0m                 \u001b[0mwarn\u001b[0m\u001b[0;34m(\u001b[0m\u001b[0;34m)\u001b[0m\u001b[0;34m\u001b[0m\u001b[0;34m\u001b[0m\u001b[0m\n\u001b[0;32m---> 72\u001b[0;31m             \u001b[0;32mreturn\u001b[0m \u001b[0mf\u001b[0m\u001b[0;34m(\u001b[0m\u001b[0;34m*\u001b[0m\u001b[0margs\u001b[0m\u001b[0;34m,\u001b[0m \u001b[0;34m**\u001b[0m\u001b[0mkwargs\u001b[0m\u001b[0;34m)\u001b[0m\u001b[0;34m\u001b[0m\u001b[0;34m\u001b[0m\u001b[0m\n\u001b[0m\u001b[1;32m     73\u001b[0m \u001b[0;34m\u001b[0m\u001b[0m\n\u001b[1;32m     74\u001b[0m         \u001b[0;32mreturn\u001b[0m \u001b[0minner\u001b[0m\u001b[0;34m\u001b[0m\u001b[0;34m\u001b[0m\u001b[0m\n",
      "\u001b[0;32m/usr/lib/python3/dist-packages/kwant/solvers/common.py\u001b[0m in \u001b[0;36msmatrix\u001b[0;34m(self, sys, energy, args, out_leads, in_leads, check_hermiticity, params)\u001b[0m\n\u001b[1;32m    369\u001b[0m             \u001b[0;32mraise\u001b[0m \u001b[0mValueError\u001b[0m\u001b[0;34m(\u001b[0m\u001b[0;34m\"No output is requested.\"\u001b[0m\u001b[0;34m)\u001b[0m\u001b[0;34m\u001b[0m\u001b[0;34m\u001b[0m\u001b[0m\n\u001b[1;32m    370\u001b[0m \u001b[0;34m\u001b[0m\u001b[0m\n\u001b[0;32m--> 371\u001b[0;31m         linsys, lead_info = self._make_linear_sys(syst, in_leads, energy, args,\n\u001b[0m\u001b[1;32m    372\u001b[0m                                                   \u001b[0mcheck_hermiticity\u001b[0m\u001b[0;34m,\u001b[0m \u001b[0;32mFalse\u001b[0m\u001b[0;34m,\u001b[0m\u001b[0;34m\u001b[0m\u001b[0;34m\u001b[0m\u001b[0m\n\u001b[1;32m    373\u001b[0m                                                   params=params)\n",
      "\u001b[0;32m/usr/lib/python3/dist-packages/kwant/solvers/common.py\u001b[0m in \u001b[0;36m_make_linear_sys\u001b[0;34m(self, sys, in_leads, energy, args, check_hermiticity, realspace, params)\u001b[0m\n\u001b[1;32m    189\u001b[0m             \u001b[0mlead\u001b[0m \u001b[0;34m=\u001b[0m \u001b[0msyst\u001b[0m\u001b[0;34m.\u001b[0m\u001b[0mleads\u001b[0m\u001b[0;34m[\u001b[0m\u001b[0mleadnum\u001b[0m\u001b[0;34m]\u001b[0m\u001b[0;34m\u001b[0m\u001b[0;34m\u001b[0m\u001b[0m\n\u001b[1;32m    190\u001b[0m             \u001b[0;32mif\u001b[0m \u001b[0;32mnot\u001b[0m \u001b[0mrealspace\u001b[0m\u001b[0;34m:\u001b[0m\u001b[0;34m\u001b[0m\u001b[0;34m\u001b[0m\u001b[0m\n\u001b[0;32m--> 191\u001b[0;31m                 \u001b[0mprop\u001b[0m\u001b[0;34m,\u001b[0m \u001b[0mstab\u001b[0m \u001b[0;34m=\u001b[0m \u001b[0mlead\u001b[0m\u001b[0;34m.\u001b[0m\u001b[0mmodes\u001b[0m\u001b[0;34m(\u001b[0m\u001b[0menergy\u001b[0m\u001b[0;34m,\u001b[0m \u001b[0margs\u001b[0m\u001b[0;34m,\u001b[0m \u001b[0mparams\u001b[0m\u001b[0;34m=\u001b[0m\u001b[0mparams\u001b[0m\u001b[0;34m)\u001b[0m\u001b[0;34m\u001b[0m\u001b[0;34m\u001b[0m\u001b[0m\n\u001b[0m\u001b[1;32m    192\u001b[0m                 \u001b[0mlead_info\u001b[0m\u001b[0;34m.\u001b[0m\u001b[0mappend\u001b[0m\u001b[0;34m(\u001b[0m\u001b[0mprop\u001b[0m\u001b[0;34m)\u001b[0m\u001b[0;34m\u001b[0m\u001b[0;34m\u001b[0m\u001b[0m\n\u001b[1;32m    193\u001b[0m                 \u001b[0mu\u001b[0m \u001b[0;34m=\u001b[0m \u001b[0mstab\u001b[0m\u001b[0;34m.\u001b[0m\u001b[0mvecs\u001b[0m\u001b[0;34m\u001b[0m\u001b[0;34m\u001b[0m\u001b[0m\n",
      "\u001b[0;32m/usr/lib/python3/dist-packages/kwant/_common.py\u001b[0m in \u001b[0;36minner\u001b[0;34m(*args, **kwargs)\u001b[0m\n\u001b[1;32m     70\u001b[0m             \u001b[0;32mif\u001b[0m \u001b[0msig\u001b[0m\u001b[0;34m.\u001b[0m\u001b[0mbind\u001b[0m\u001b[0;34m(\u001b[0m\u001b[0;34m*\u001b[0m\u001b[0margs\u001b[0m\u001b[0;34m,\u001b[0m \u001b[0;34m**\u001b[0m\u001b[0mkwargs\u001b[0m\u001b[0;34m)\u001b[0m\u001b[0;34m.\u001b[0m\u001b[0marguments\u001b[0m\u001b[0;34m.\u001b[0m\u001b[0mget\u001b[0m\u001b[0;34m(\u001b[0m\u001b[0mparameter_name\u001b[0m\u001b[0;34m)\u001b[0m\u001b[0;34m:\u001b[0m\u001b[0;34m\u001b[0m\u001b[0;34m\u001b[0m\u001b[0m\n\u001b[1;32m     71\u001b[0m                 \u001b[0mwarn\u001b[0m\u001b[0;34m(\u001b[0m\u001b[0;34m)\u001b[0m\u001b[0;34m\u001b[0m\u001b[0;34m\u001b[0m\u001b[0m\n\u001b[0;32m---> 72\u001b[0;31m             \u001b[0;32mreturn\u001b[0m \u001b[0mf\u001b[0m\u001b[0;34m(\u001b[0m\u001b[0;34m*\u001b[0m\u001b[0margs\u001b[0m\u001b[0;34m,\u001b[0m \u001b[0;34m**\u001b[0m\u001b[0mkwargs\u001b[0m\u001b[0;34m)\u001b[0m\u001b[0;34m\u001b[0m\u001b[0;34m\u001b[0m\u001b[0m\n\u001b[0m\u001b[1;32m     73\u001b[0m \u001b[0;34m\u001b[0m\u001b[0m\n\u001b[1;32m     74\u001b[0m         \u001b[0;32mreturn\u001b[0m \u001b[0minner\u001b[0m\u001b[0;34m\u001b[0m\u001b[0;34m\u001b[0m\u001b[0m\n",
      "\u001b[0;32m/usr/lib/python3/dist-packages/kwant/system.py\u001b[0m in \u001b[0;36mmodes\u001b[0;34m(self, energy, args, params)\u001b[0m\n\u001b[1;32m    328\u001b[0m         \u001b[0;32mif\u001b[0m \u001b[0menergy\u001b[0m\u001b[0;34m:\u001b[0m\u001b[0;34m\u001b[0m\u001b[0;34m\u001b[0m\u001b[0m\n\u001b[1;32m    329\u001b[0m             \u001b[0msymmetries\u001b[0m\u001b[0;34m.\u001b[0m\u001b[0mparticle_hole\u001b[0m \u001b[0;34m=\u001b[0m \u001b[0msymmetries\u001b[0m\u001b[0;34m.\u001b[0m\u001b[0mchiral\u001b[0m \u001b[0;34m=\u001b[0m \u001b[0;32mNone\u001b[0m\u001b[0;34m\u001b[0m\u001b[0;34m\u001b[0m\u001b[0m\n\u001b[0;32m--> 330\u001b[0;31m         \u001b[0;32mreturn\u001b[0m \u001b[0mphysics\u001b[0m\u001b[0;34m.\u001b[0m\u001b[0mmodes\u001b[0m\u001b[0;34m(\u001b[0m\u001b[0mham\u001b[0m\u001b[0;34m,\u001b[0m \u001b[0mhop\u001b[0m\u001b[0;34m,\u001b[0m \u001b[0mdiscrete_symmetry\u001b[0m\u001b[0;34m=\u001b[0m\u001b[0msymmetries\u001b[0m\u001b[0;34m)\u001b[0m\u001b[0;34m\u001b[0m\u001b[0;34m\u001b[0m\u001b[0m\n\u001b[0m\u001b[1;32m    331\u001b[0m \u001b[0;34m\u001b[0m\u001b[0m\n\u001b[1;32m    332\u001b[0m     \u001b[0;34m@\u001b[0m\u001b[0mdeprecate_args\u001b[0m\u001b[0;34m\u001b[0m\u001b[0;34m\u001b[0m\u001b[0m\n",
      "\u001b[0;32m/usr/lib/python3/dist-packages/kwant/physics/leads.py\u001b[0m in \u001b[0;36mmodes\u001b[0;34m(h_cell, h_hop, tol, stabilization, discrete_symmetry, projectors, time_reversal, particle_hole, chiral)\u001b[0m\n\u001b[1;32m   1126\u001b[0m                 \u001b[0;32mcontinue\u001b[0m\u001b[0;34m\u001b[0m\u001b[0;34m\u001b[0m\u001b[0m\n\u001b[1;32m   1127\u001b[0m             \u001b[0;31m# We did not compute this block yet.\u001b[0m\u001b[0;34m\u001b[0m\u001b[0;34m\u001b[0m\u001b[0;34m\u001b[0m\u001b[0m\n\u001b[0;32m-> 1128\u001b[0;31m             block_modes[i] = compute_block_modes(h, t, tol, stabilization,\n\u001b[0m\u001b[1;32m   1129\u001b[0m                                                  *symmetries)\n\u001b[1;32m   1130\u001b[0m         \u001b[0;32melse\u001b[0m\u001b[0;34m:\u001b[0m\u001b[0;34m\u001b[0m\u001b[0;34m\u001b[0m\u001b[0m\n",
      "\u001b[0;32m/usr/lib/python3/dist-packages/kwant/physics/leads.py\u001b[0m in \u001b[0;36mcompute_block_modes\u001b[0;34m(h_cell, h_hop, tol, stabilization, time_reversal, particle_hole, chiral)\u001b[0m\n\u001b[1;32m    880\u001b[0m \u001b[0;34m\u001b[0m\u001b[0m\n\u001b[1;32m    881\u001b[0m     \u001b[0;31m# Defer most of the calculation to helper routines.\u001b[0m\u001b[0;34m\u001b[0m\u001b[0;34m\u001b[0m\u001b[0;34m\u001b[0m\u001b[0m\n\u001b[0;32m--> 882\u001b[0;31m     \u001b[0mmatrices\u001b[0m\u001b[0;34m,\u001b[0m \u001b[0mv\u001b[0m\u001b[0;34m,\u001b[0m \u001b[0mextract\u001b[0m \u001b[0;34m=\u001b[0m \u001b[0msetup_linsys\u001b[0m\u001b[0;34m(\u001b[0m\u001b[0mh_cell\u001b[0m\u001b[0;34m,\u001b[0m \u001b[0mh_hop\u001b[0m\u001b[0;34m,\u001b[0m \u001b[0mtol\u001b[0m\u001b[0;34m,\u001b[0m \u001b[0mstabilization\u001b[0m\u001b[0;34m)\u001b[0m\u001b[0;34m\u001b[0m\u001b[0;34m\u001b[0m\u001b[0m\n\u001b[0m\u001b[1;32m    883\u001b[0m     ev, evanselect, propselect, vec_gen, ord_schur = unified_eigenproblem(\n\u001b[1;32m    884\u001b[0m         *(matrices + (tol,)))\n",
      "\u001b[0;32m/usr/lib/python3/dist-packages/kwant/physics/leads.py\u001b[0m in \u001b[0;36msetup_linsys\u001b[0;34m(h_cell, h_hop, tol, stabilization)\u001b[0m\n\u001b[1;32m    375\u001b[0m         \u001b[0;32mif\u001b[0m \u001b[0mneed_to_stabilize\u001b[0m\u001b[0;34m:\u001b[0m\u001b[0;34m\u001b[0m\u001b[0;34m\u001b[0m\u001b[0m\n\u001b[1;32m    376\u001b[0m             \u001b[0mB\u001b[0m\u001b[0;34m[\u001b[0m\u001b[0mbegin\u001b[0m\u001b[0;34m,\u001b[0m \u001b[0mend\u001b[0m\u001b[0;34m]\u001b[0m \u001b[0;34m+=\u001b[0m \u001b[0;36m1j\u001b[0m \u001b[0;34m*\u001b[0m \u001b[0mtemp2\u001b[0m\u001b[0;34m\u001b[0m\u001b[0;34m\u001b[0m\u001b[0m\n\u001b[0;32m--> 377\u001b[0;31m         \u001b[0mtemp2\u001b[0m \u001b[0;34m=\u001b[0m \u001b[0mdot\u001b[0m\u001b[0;34m(\u001b[0m\u001b[0mv\u001b[0m\u001b[0;34m.\u001b[0m\u001b[0mT\u001b[0m\u001b[0;34m.\u001b[0m\u001b[0mconj\u001b[0m\u001b[0;34m(\u001b[0m\u001b[0;34m)\u001b[0m\u001b[0;34m,\u001b[0m \u001b[0mtemp\u001b[0m\u001b[0;34m)\u001b[0m\u001b[0;34m\u001b[0m\u001b[0;34m\u001b[0m\u001b[0m\n\u001b[0m\u001b[1;32m    378\u001b[0m         \u001b[0mB\u001b[0m\u001b[0;34m[\u001b[0m\u001b[0mend\u001b[0m\u001b[0;34m,\u001b[0m \u001b[0mbegin\u001b[0m\u001b[0;34m]\u001b[0m \u001b[0;34m=\u001b[0m \u001b[0;34m-\u001b[0m\u001b[0mtemp2\u001b[0m\u001b[0;34m\u001b[0m\u001b[0;34m\u001b[0m\u001b[0m\n\u001b[1;32m    379\u001b[0m         \u001b[0;32mif\u001b[0m \u001b[0mneed_to_stabilize\u001b[0m\u001b[0;34m:\u001b[0m\u001b[0;34m\u001b[0m\u001b[0;34m\u001b[0m\u001b[0m\n",
      "\u001b[0;32m<__array_function__ internals>\u001b[0m in \u001b[0;36mdot\u001b[0;34m(*args, **kwargs)\u001b[0m\n",
      "\u001b[0;31mKeyboardInterrupt\u001b[0m: "
     ]
    }
   ],
   "source": [
    "# potential_function = step_potential\n",
    "# v_tip = 0 # needed because previously assigned\n",
    "dis_enable = True # activate disorder\n",
    "\n",
    "fermi_energies = np.linspace(Ef_min, Ef_max, num_it)\n",
    "R_0 = np.zeros((num_it, num_leads - 1)) # r_xx = R[:, 3] and r_xy = R[:, 4]\n",
    "\n",
    "params = dict(Bfield = Bfield, v_tip = v_tip)\n",
    "\n",
    "for idx, en in enumerate(fermi_energies):\n",
    "        \n",
    "    try:    \n",
    "        s = kwant.smatrix(sys, energy=en, params=params)\n",
    "        cond = np.array([[s.transmission(i, j) for j in range(num_leads)] for i in range(num_leads)])     \n",
    "        cond -= np.diag(cond.sum(axis=0))  \n",
    "        cm = s.conductance_matrix()[:-1, :-1] # we don't even use the cond matrix so what is the point?\n",
    "#         cm = cond[:-1, :-1]\n",
    "        \n",
    "        R_0[idx] = np.linalg.solve(cm, [1, -1, 0, 0, 0])\n",
    "    \n",
    "    except Exception as e:\n",
    "        \n",
    "        print(f'problem encountered at iteration {idx} with fermi energy {en} with the following error: \\n {e}')"
   ]
  },
  {
   "cell_type": "code",
   "execution_count": null,
   "id": "6f09fd8d",
   "metadata": {},
   "outputs": [],
   "source": [
    "plt.figure()\n",
    "plt.title(\"Hall resistance w.r.t. the Fermi energy\")\n",
    "plt.plot(fermi_energies, R[:, 4], color='red', label=\"$V_{tip} =\" + f\" -0.02$\")\n",
    "plt.plot(fermi_energies, R_0[:, 4], '--k', label=\"$V_{tip} = 0$\")\n",
    "\n",
    "for _, ll in enumerate(lls):\n",
    "    if(Ef_min < ll < Ef_max):\n",
    "        plt.axvline(x=ll, color='k', linestyle='--', linewidth=1)\n",
    "        \n",
    "# plt.axhline(y=1/3, color='k', linestyle='--', linewidth=1)   # v=6  v'=2  v=6\n",
    "# plt.axhline(y=1/10, color='k', linestyle='--', linewidth=1)  # v=10 v'=6  v=10\n",
    "# plt.axhline(y=1/35, color='k', linestyle='--', linewidth=1)  # v=14 v'=10 v=14\n",
    "\n",
    "        \n",
    "plt.xlabel('Fermi energy [eV]')\n",
    "plt.ylabel('$R_{xy}$ [h/2e²]')\n",
    "plt.legend()\n",
    "\n",
    "if(0):\n",
    "    plt.tight_layout()\n",
    "    plt.savefig(fig_path + 'hb_base.pdf')\n",
    "else: \n",
    "    plt.show()"
   ]
  },
  {
   "cell_type": "code",
   "execution_count": null,
   "id": "424028e6",
   "metadata": {},
   "outputs": [],
   "source": [
    "overhead_amount = 0 # 140\n",
    "plt.figure()\n",
    "plt.title(\"Longitudinal resistance w.r.t. the Fermi energy\")\n",
    "plt.plot(fermi_energies[overhead_amount:], R[overhead_amount:, 3], color='blue', label=\"$V_{tip} = -0.02$\")\n",
    "plt.plot(fermi_energies[overhead_amount:], R_0[overhead_amount:, 3], '--k', label=\"$V_{tip} = 0$\")\n",
    "\n",
    "# plt.axhline(y=1/3, linestyle='--')\n",
    "# plt.axhline(y=1/2.5, color='k')\n",
    "\n",
    "for _, ll in enumerate(lls):\n",
    "    if(Ef_min < ll < Ef_max):\n",
    "        plt.axvline(x=ll, color='k', linestyle='--', linewidth=1)\n",
    "        \n",
    "plt.xlabel('Fermi energy [eV]')\n",
    "plt.ylabel('$R_{xx}$ [h/2e²]')\n",
    "plt.legend()\n",
    "\n",
    "if(0):\n",
    "    plt.tight_layout()\n",
    "    plt.savefig(fig_path + 'longitudinal_resistivity.pdf')\n",
    "else: \n",
    "    plt.show()"
   ]
  }
 ],
 "metadata": {
  "kernelspec": {
   "display_name": "Python 3 (ipykernel)",
   "language": "python",
   "name": "python3"
  },
  "language_info": {
   "codemirror_mode": {
    "name": "ipython",
    "version": 3
   },
   "file_extension": ".py",
   "mimetype": "text/x-python",
   "name": "python",
   "nbconvert_exporter": "python",
   "pygments_lexer": "ipython3",
   "version": "3.8.10"
  }
 },
 "nbformat": 4,
 "nbformat_minor": 5
}
