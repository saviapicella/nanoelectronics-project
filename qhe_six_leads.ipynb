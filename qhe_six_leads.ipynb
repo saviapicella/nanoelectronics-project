{
 "cells": [
  {
   "cell_type": "markdown",
   "id": "7d211f71",
   "metadata": {},
   "source": [
    "# <center>Graphene quantum Hall effect</center>\n",
    "<hr>"
   ]
  },
  {
   "cell_type": "code",
   "execution_count": 1,
   "id": "a87a2a3c",
   "metadata": {},
   "outputs": [],
   "source": [
    "import kwant\n",
    "import numpy as np\n",
    "import random\n",
    "from matplotlib import pyplot as plt\n",
    "import matplotlib"
   ]
  },
  {
   "cell_type": "markdown",
   "id": "93c52809",
   "metadata": {},
   "source": [
    "### Figures Management"
   ]
  },
  {
   "cell_type": "code",
   "execution_count": 2,
   "id": "3c26527e",
   "metadata": {},
   "outputs": [],
   "source": [
    "matplotlib.rcParams.update({\n",
    "    \"pgf.texsystem\": \"pdflatex\",\n",
    "    'font.family': 'serif',\n",
    "    'font.size': 14,\n",
    "    'toolbar': 'None',\n",
    "    'text.usetex': True,\n",
    "    'pgf.rcfonts': False,\n",
    "    'legend.fancybox': False,\n",
    "    'legend.shadow': False\n",
    "})"
   ]
  },
  {
   "cell_type": "markdown",
   "id": "57b88c51",
   "metadata": {},
   "source": [
    "### Fundamental constants"
   ]
  },
  {
   "cell_type": "code",
   "execution_count": 3,
   "id": "c3929b67",
   "metadata": {},
   "outputs": [],
   "source": [
    "h = 6.626069e-34  # Planck constant (Js)\n",
    "h_bar =h/(2*np.pi) # With h_bar oom larger and Bmax=30, it works perfectly\n",
    "\n",
    "# Scaling factor of 10 required --> h_bar normal, Bmax=3\n",
    "\n",
    "e = 1.602e-19      # electron charge (C)\n",
    "c = 299792458       # Light celerity (m/s)\n",
    "kB = 1.3806503e-23  # Boltzmann constant (kg m2/Ks2)\n",
    "m_e = 9.1e-31       # electron mass (kg)"
   ]
  },
  {
   "cell_type": "markdown",
   "id": "41f1f3c9",
   "metadata": {},
   "source": [
    "### Scaling"
   ]
  },
  {
   "cell_type": "code",
   "execution_count": 4,
   "id": "8cdae985",
   "metadata": {},
   "outputs": [],
   "source": [
    "asquare = 1e-9 # [m] a is the lattice parameter\n",
    "tsquare = 1 # [eV] t is the hopping parameter\n",
    "\n",
    "# scaling\n",
    "\n",
    "scaling = 4 # scaling factor\n",
    "a = asquare * scaling\n",
    "t = tsquare / scaling"
   ]
  },
  {
   "cell_type": "markdown",
   "id": "9514f54b",
   "metadata": {},
   "source": [
    "### Geometrical parameters"
   ]
  },
  {
   "cell_type": "code",
   "execution_count": 5,
   "id": "86f1afd4",
   "metadata": {},
   "outputs": [],
   "source": [
    "W=200e-9 ; L = 1000e-9 # let's try W = 200, 400, 600, 800\n",
    "\n",
    "# For width smaller than 50 nm, the script does not work since the magnetic length is 30 nm so wf start to overlap (?)\n",
    "# Also for width slightly larger than that, the steps in the Hall resistance are lost. For w=200 nm they are recovered.\n",
    "\n",
    "width_lead=15e-9                                         \n",
    "posL = 450e-9 # pos of the leads along x # 350e-9 before\n",
    "lead_ext = posL + width_lead / 2\n",
    "lead_int = posL - width_lead / 2\n",
    "\n",
    "flag=0"
   ]
  },
  {
   "cell_type": "markdown",
   "id": "1c7558c3",
   "metadata": {},
   "source": [
    "#### Geometry of the device"
   ]
  },
  {
   "cell_type": "code",
   "execution_count": 6,
   "id": "9cd338d4",
   "metadata": {},
   "outputs": [],
   "source": [
    "def geom(pos):\n",
    "    x, y = pos\n",
    "    return abs(x) < L / 2 and abs(y) < W / 2"
   ]
  },
  {
   "cell_type": "markdown",
   "id": "7d163064",
   "metadata": {},
   "source": [
    "#### Geometry of the leads"
   ]
  },
  {
   "cell_type": "code",
   "execution_count": 7,
   "id": "8e9136b8",
   "metadata": {},
   "outputs": [],
   "source": [
    "def lead_shape(pos):\n",
    "    x, y = pos\n",
    "    return -W/2 < y < W/2\n",
    "\n",
    "\n",
    "def lead_shape_left(pos):\n",
    "    x, y = pos\n",
    "    return -lead_ext < x < -lead_int\n",
    "\n",
    "\n",
    "def lead_shape_right(pos):\n",
    "    x, y = pos    \n",
    "    return lead_int < x < lead_ext"
   ]
  },
  {
   "cell_type": "markdown",
   "id": "13cacfe0",
   "metadata": {},
   "source": [
    "#### Potentials & Disorder\n",
    "\n",
    "The minus sign in the expression of the potentials comes from the fact that those potentials are associated to the potential energy of an electron ($qV = -eV$). Introducing a disorder of 0.01 leads to peaks in longitudinal resistance but we retain anyway plateaus in Hall resistance.\n"
   ]
  },
  {
   "cell_type": "code",
   "execution_count": 8,
   "id": "f85fe69b",
   "metadata": {},
   "outputs": [],
   "source": [
    "def step_potential(x, y):\n",
    "\n",
    "    region_1 = 150e-9\n",
    "    w_pot = 0\n",
    "    \n",
    "    in_region_1 = abs(x) < region_1 and abs(y) < W / 2 - w_pot\n",
    "    \n",
    "    return (-1) * in_region_1 * v_tip\n",
    "\n",
    "\n",
    "def smooth_potential(x, y):\n",
    "    \n",
    "    region_1 = 150e-9\n",
    "    w_pot = 0\n",
    "    \n",
    "    in_region_1 = abs(x) < region_1 and abs(y) < W / 2 - w_pot\n",
    "    \n",
    "    return (-1) * in_region_1 * np.cos(abs(x) * np.pi / (2 * region_1)) * (v_tip - 0.01)\n",
    "\n",
    "\n",
    "def lorentzian_potential(x, y):\n",
    "    \n",
    "    a = v_tip**-1\n",
    "    \n",
    "    return (-1) * a / ((x * 1.1e8)**2 + (y * 1.1e8)**2 + a**2)\n",
    "\n",
    "\n",
    "def stair_potential(x, y):\n",
    "    \n",
    "    region_1 = 50e-9\n",
    "    region_2 = 200e-9\n",
    "    w_pot = 0 \n",
    "\n",
    "    in_region_2 = abs(x) < region_2 and abs(y) < W / 2 - w_pot\n",
    "    in_region_1 = abs(x) < region_1 and abs(y) < W / 2 - w_pot\n",
    "    \n",
    "    return (-1) * (in_region_1 + in_region_2) * v_tip / 2\n",
    "\n",
    "\n",
    "def disorder(pos):\n",
    "    x, y = pos\n",
    "    \n",
    "    # pot = 0.01 * random.uniform(-t / 2, t / 2)\n",
    "    pot = 0\n",
    "    \n",
    "    return pot"
   ]
  },
  {
   "cell_type": "markdown",
   "id": "174cd0d2",
   "metadata": {},
   "source": [
    "#### Defining onsite and hopping parameters"
   ]
  },
  {
   "cell_type": "code",
   "execution_count": 9,
   "id": "68423b85",
   "metadata": {},
   "outputs": [],
   "source": [
    "def onsite(site):\n",
    "    \"\"\"\n",
    "    Definition of the potential. To reach the bottom of the conduction band, the potential is set at 4*t.\n",
    "    A zone of potential v_tip (above the bottom of the conduction band) can be defined in a given zone \n",
    "    (square or circle here). \n",
    "    \"\"\"\n",
    "    x, y = site.pos\n",
    "    \n",
    "        \n",
    "    return potential_function(x, y) + disorder(site) "
   ]
  },
  {
   "cell_type": "markdown",
   "id": "8fd81382",
   "metadata": {},
   "source": [
    "#### Hopping parameter"
   ]
  },
  {
   "cell_type": "code",
   "execution_count": 10,
   "id": "49c70bf2",
   "metadata": {},
   "outputs": [],
   "source": [
    "def hopping(site_i, site_j):  \n",
    "    \n",
    "    xi, yi = site_i.pos\n",
    "    xj, yj = site_j.pos\n",
    "    \n",
    "    # The definition of hop to include the magnetic field Bfield in the definition of the hopping parameter\n",
    "    \n",
    "    hop = t * np.exp(1j * e * Bfield * (yi + yj) * (xj - xi) / (2 * h_bar))\n",
    "    \n",
    "    return hop"
   ]
  },
  {
   "cell_type": "markdown",
   "id": "d9b5d2f7",
   "metadata": {},
   "source": [
    "## Building the system"
   ]
  },
  {
   "cell_type": "code",
   "execution_count": 11,
   "id": "b0974cdf",
   "metadata": {},
   "outputs": [],
   "source": [
    "def sys_builder():\n",
    "    \n",
    "    graphene = kwant.lattice.general([(np.sqrt(3) * a, 0), (0, 3 * a)], \n",
    "                                     [(a * np.sqrt(3) / 2, 0), (0, a / 2), (0, 3 * a / 2), (a * np.sqrt(3) / 2, 2 * a)], \n",
    "                                     norbs = 1)\n",
    "    \n",
    "    A, B, C, D = graphene.sublattices\n",
    "      \n",
    "    sys = kwant.Builder()\n",
    "    sys[graphene.shape(geom, (0,0))] = onsite\n",
    "    \n",
    "    hoppings = (((0, 0), B, A), ((0, 0), C, B), ((0, 0), D, C), ((-1, 0), A, B), ((-1, 0), D, C), ((0, 1), A, D)) \n",
    "    sys[[kwant.builder.HoppingKind(*hopping) for hopping in hoppings]] = hopping\n",
    "\n",
    "# Schematic of the Hall bar\n",
    "#   ,----------o----Vxx----.--------------.\n",
    "#   |  Lead 3  |           |  Lead 5    __|__\n",
    "#  Vxy     __|   |_______|   |__        '''''    (ground)\n",
    "#   |               I\n",
    "#   | Lead 1      ----->      Lead 2\n",
    "#   |      __     _______     __\n",
    "#   |        |   |       |   |\n",
    "#   |  Lead 4  |               Lead 6\n",
    "#   `----------'\n",
    "    \n",
    "    \"\"\" Lead 1 \"\"\"\n",
    "    sym0 = kwant.TranslationalSymmetry(graphene.vec((-1, 0)))\n",
    "    lead0 = kwant.Builder(sym0)\n",
    "    lead0[graphene.shape(lead_shape, (0, 0))] = 0 # is it really zero here? I think yes\n",
    "    lead0[graphene.neighbors()] = hopping\n",
    "\n",
    "    \"\"\" Lead 2 \"\"\"\n",
    "    sym1 = kwant.TranslationalSymmetry(graphene.vec((1, 0)))\n",
    "    lead1 = kwant.Builder(sym1)\n",
    "    lead1[graphene.shape(lead_shape, (0, 0))] = 0    \n",
    "    lead1[graphene.neighbors()] = hopping\n",
    "\n",
    "    \"\"\" Lead 3 \"\"\"\n",
    "    sym2 = kwant.TranslationalSymmetry(graphene.vec((0, 1)))\n",
    "    lead2 = kwant.Builder(sym2)\n",
    "    lead2[graphene.shape(lead_shape_left, (-posL, 0))] = 0\n",
    "    lead2[graphene.neighbors()] = hopping\n",
    "\n",
    "    \"\"\" Lead 4 \"\"\"\n",
    "    sym3 = kwant.TranslationalSymmetry(graphene.vec((0, -1)))\n",
    "    lead3 = kwant.Builder(sym3)\n",
    "    lead3[graphene.shape(lead_shape_left, (-posL, 0))] = 0\n",
    "    lead3[graphene.neighbors()] = hopping\n",
    "\n",
    "    \"\"\" Lead 5 \"\"\" \n",
    "    lead4 = kwant.Builder(sym2)\n",
    "    lead4[graphene.shape(lead_shape_right, (posL, 0))] = 0\n",
    "    lead4[graphene.neighbors()] = hopping\n",
    "    \n",
    "    \"\"\"Lead 6\"\"\"\n",
    "    lead5 = kwant.Builder(sym3)\n",
    "    lead5[graphene.shape(lead_shape_right, (posL, 0))] = 0\n",
    "    lead5[graphene.neighbors()] = hopping\n",
    "    \n",
    "    \"\"\" The leads are attached \"\"\"\n",
    "    sys.attach_lead(lead0)\n",
    "    sys.attach_lead(lead1)\n",
    "    sys.attach_lead(lead2)\n",
    "    sys.attach_lead(lead3)\n",
    "    sys.attach_lead(lead4)\n",
    "    sys.attach_lead(lead5)\n",
    " \n",
    "    sys = sys.finalized()\n",
    "    \n",
    "    return sys   "
   ]
  },
  {
   "cell_type": "code",
   "execution_count": 12,
   "id": "7f92ff4b",
   "metadata": {},
   "outputs": [],
   "source": [
    "sys = sys_builder()"
   ]
  },
  {
   "cell_type": "markdown",
   "id": "5ce01c8e",
   "metadata": {},
   "source": [
    "#### Plotting the system"
   ]
  },
  {
   "cell_type": "code",
   "execution_count": 13,
   "id": "c576a2af",
   "metadata": {},
   "outputs": [
    {
     "data": {
      "image/png": "[encoded data removed]",
      "text/plain": [
       "<Figure size 432x288 with 1 Axes>"
      ]
     },
     "metadata": {
      "needs_background": "light"
     },
     "output_type": "display_data"
    },
    {
     "data": {
      "image/png": "[encoded data removed]",
      "text/plain": [
       "<Figure size 432x288 with 1 Axes>"
      ]
     },
     "execution_count": 13,
     "metadata": {},
     "output_type": "execute_result"
    }
   ],
   "source": [
    "kwant.plot(sys, site_size = 1e-9)"
   ]
  },
  {
   "cell_type": "markdown",
   "id": "7fdf8c5d",
   "metadata": {},
   "source": [
    "## Electronic properties"
   ]
  },
  {
   "cell_type": "code",
   "execution_count": 14,
   "id": "78c49cc5",
   "metadata": {},
   "outputs": [],
   "source": [
    "Ef = 0.17\n",
    "Bfield = 1.82\n",
    "v_tip = -0.1\n",
    "potential_function = lorentzian_potential\n",
    "\n",
    "params = dict(Bfield = Bfield, v_tip = v_tip) # params take the magnetic field as a parameter for the function hopping"
   ]
  },
  {
   "cell_type": "code",
   "execution_count": 15,
   "id": "f073c2d7",
   "metadata": {},
   "outputs": [],
   "source": [
    "# The wavelength must be (much more) larger than the lattice parameter \n",
    "# We can also check the width of the device w.r.t. the magnetic length, which is the extension of the wf \n",
    "\n",
    "lambda_F = 3 * np.pi * t* a /abs(Ef) # computation of the wavelength\n",
    "mag_length=np.sqrt(h_bar/(e*Bfield))\n",
    "\n",
    "if lambda_F/a < 2:\n",
    "    print('Warning : lambda_F must be larger than the lattice parameter a')\n",
    "    \n",
    "if mag_length > W/2:\n",
    "    print('Warning : wavefunctions extend across the whole bar')"
   ]
  },
  {
   "cell_type": "markdown",
   "id": "5b44c840",
   "metadata": {},
   "source": [
    "#### Visualization of the Landau Levels"
   ]
  },
  {
   "cell_type": "code",
   "execution_count": 16,
   "id": "2981ca22",
   "metadata": {
    "scrolled": false
   },
   "outputs": [
    {
     "name": "stdout",
     "output_type": "stream",
     "text": [
      "LL-4 = -0.22308232368408085\n",
      "LL-3 = -0.19319495944567694\n",
      "LL-2 = -0.15774302383986594\n",
      "LL-1 = -0.11154116184204042\n",
      "LL0 = -0.0\n",
      "LL1 = 0.11154116184204042\n",
      "LL2 = 0.15774302383986594\n",
      "LL3 = 0.19319495944567694\n",
      "LL4 = 0.22308232368408085\n",
      "Fermi Energy =0.17\n"
     ]
    },
    {
     "data": {
      "image/png": "[encoded data removed]",
      "text/plain": [
       "<Figure size 432x288 with 1 Axes>"
      ]
     },
     "metadata": {
      "needs_background": "light"
     },
     "output_type": "display_data"
    }
   ],
   "source": [
    "num_ll = 5\n",
    "ll_indexes = np.arange(0, num_ll)\n",
    "lls = -3 * t * a * np.sqrt(e  * ll_indexes * Bfield / (2 * h_bar))\n",
    "lls = np.append(lls[::-1], -lls[1:])\n",
    "\n",
    "plt.figure()\n",
    "\n",
    "for n, ll in enumerate(lls):\n",
    "     \n",
    "    # Landau levels as a function of the magnetic field Bfield and the Landau level label n\n",
    "    plt.hlines(ll, 0, 1, color=\"b\")\n",
    "    plt.hlines(ll, 0, 1, color=\"b\")\n",
    "    print(f'LL{n - (num_ll - 1)} = {ll}')\n",
    "    \n",
    "print (f'Fermi Energy ={Ef}')\n",
    "    \n",
    "plt.axhline(Ef, 0, 1, color='r', linestyle=\"dashed\", label='Fermi level', linewidth=1) # to plot the Fermi energy (in red)\n",
    "plt.xlabel('DOS [a.u.]')\n",
    "plt.ylabel('Energy [eV]')\n",
    "plt.legend()\n",
    "plt.show()"
   ]
  },
  {
   "cell_type": "markdown",
   "id": "eae3b8b8",
   "metadata": {},
   "source": [
    "### Visualization of the LL + step potential"
   ]
  },
  {
   "cell_type": "code",
   "execution_count": 17,
   "id": "5a71421e",
   "metadata": {
    "scrolled": false
   },
   "outputs": [
    {
     "data": {
      "image/png": "[encoded data removed]",
      "text/plain": [
       "<Figure size 432x288 with 1 Axes>"
      ]
     },
     "metadata": {
      "needs_background": "light"
     },
     "output_type": "display_data"
    },
    {
     "data": {
      "image/png": "[encoded data removed]",
      "text/plain": [
       "<Figure size 432x288 with 1 Axes>"
      ]
     },
     "metadata": {
      "needs_background": "light"
     },
     "output_type": "display_data"
    }
   ],
   "source": [
    "N=500\n",
    "x_positions = np.linspace(-L / 2, L / 2, N)\n",
    "y_positions = np.linspace(-W / 2, W / 2)\n",
    "ll_pot_matrix = np.zeros((2 * num_ll - 1, N))\n",
    "\n",
    "for x_idx, x_pos in enumerate(x_positions):\n",
    "    ll_pot_matrix[:, x_idx] = lls[:] + potential_function(x_pos, 0)\n",
    "\n",
    "plt.figure()\n",
    "for ll_row in ll_pot_matrix:\n",
    "    \n",
    "    plt.plot(x_positions, ll_row, color='blue')\n",
    "\n",
    "plt.axhline(Ef, color='red', linestyle=\"dashed\", label='Fermi level', linewidth=1)\n",
    "plt.xlabel('X position in the Hall bar')\n",
    "plt.ylabel('Energy [eV]')\n",
    "plt.title(f'LLs with a tip {potential_function.__name__.replace(\"_\", \" \")}')\n",
    "plt.legend()\n",
    "\n",
    "plt.figure()\n",
    "xx, yy = np.meshgrid(x_positions, y_positions)\n",
    "zz = lorentzian_potential(xx, yy)\n",
    "plt.contourf(xx, yy, zz, levels=50, cmap=\"jet\")\n",
    "plt.axis('equal')\n",
    "\n",
    "plt.show()"
   ]
  },
  {
   "cell_type": "markdown",
   "id": "e42e2aa3",
   "metadata": {},
   "source": [
    "### Current and wf density"
   ]
  },
  {
   "cell_type": "markdown",
   "id": "55774c9f",
   "metadata": {},
   "source": [
    "#### Wave function"
   ]
  },
  {
   "cell_type": "code",
   "execution_count": 18,
   "id": "6a643fc3",
   "metadata": {},
   "outputs": [],
   "source": [
    "wfs = kwant.wave_function(sys, energy=Ef, params = params) # the wf is obtained by giving the parameters in arguments\n",
    "scattering_wf = wfs(0) # all scattering wave functions from lead 0"
   ]
  },
  {
   "cell_type": "markdown",
   "id": "1feee122",
   "metadata": {},
   "source": [
    "#### Current density\n"
   ]
  },
  {
   "cell_type": "code",
   "execution_count": 19,
   "id": "a3cc38b9",
   "metadata": {
    "scrolled": false
   },
   "outputs": [
    {
     "name": "stderr",
     "output_type": "stream",
     "text": [
      "/tmp/ipykernel_3395/4065630978.py:12: RuntimeWarning: invalid value encountered in true_divide\n",
      "  kwant.plotter.current(sys, current, cmap=\"jet\", max_linewidth=0, min_linewidth=0, file=\"current_left.pdf\")\n",
      "/tmp/ipykernel_3395/4065630978.py:13: RuntimeWarning: invalid value encountered in true_divide\n",
      "  kwant.plotter.current(sys, current_right, cmap=\"jet\", max_linewidth=0, min_linewidth=0, file=\"current_right.pdf\")\n"
     ]
    }
   ],
   "source": [
    "# To obtain edge states, a strong field is required, in order to be in the high magnetic field regime. 2 T gives edge states, \n",
    "# 0.1 T gives normal conduction\n",
    "\n",
    "J0 = kwant.operator.Current(sys)\n",
    "wf_left = wfs(0)\n",
    "wf_right = wfs(1)\n",
    "\n",
    "current = sum(J0(p, params = params) for p in wf_left) # to sum over all the lead's mode\n",
    "current_right=sum(J0(p, params = params) for p in wf_right)\n",
    "\n",
    "# kwant.plotter.current(sys, current, file=\"current.pdf\")\n",
    "kwant.plotter.current(sys, current, cmap=\"jet\", max_linewidth=0, min_linewidth=0, file=\"current_left.pdf\")\n",
    "kwant.plotter.current(sys, current_right, cmap=\"jet\", max_linewidth=0, min_linewidth=0, file=\"current_right.pdf\")\n",
    "plt.show()"
   ]
  },
  {
   "cell_type": "markdown",
   "id": "85219244",
   "metadata": {},
   "source": [
    "To have clear current plots you have to make sure the potential zone does not overlap with the leads."
   ]
  },
  {
   "cell_type": "markdown",
   "id": "69553cde",
   "metadata": {},
   "source": [
    "### Plotting Hall conductance as function of the back gate voltage applied (Fermi level)"
   ]
  },
  {
   "cell_type": "code",
   "execution_count": 20,
   "id": "c5bcd78e",
   "metadata": {},
   "outputs": [],
   "source": [
    "Ef_min = lls[0 + (num_ll - 1)] + 5e-2  # at ll0\n",
    "Ef_max = lls[3 + (num_ll - 1)] + 5e-2  # at ll+3 \n",
    "num_it = 200 # discretization of the fermi level \n",
    "num_leads = 6\n",
    "\n",
    "fermi_energies = np.linspace(Ef_min, Ef_max, num_it)\n",
    "R = np.zeros((num_it, num_leads - 1)) # r_xx = R[:, 3] and r_xy = R[:, 4]\n",
    "\n",
    "params = dict(Bfield = Bfield, v_tip = v_tip)\n",
    "\n",
    "for idx, en in enumerate(fermi_energies):\n",
    "        \n",
    "    try:    \n",
    "        s = kwant.smatrix(sys, energy=en, params=params)\n",
    "        cond = np.array([[s.transmission(i, j) for j in range(num_leads)] for i in range(num_leads)])     \n",
    "        cond -= np.diag(cond.sum(axis=0))  \n",
    "        cm = s.conductance_matrix()[:-1, :-1] # we don't even use the cond matrix so what is the point?\n",
    "#         cm = cond[:-1, :-1]\n",
    "        \n",
    "        R[idx] = np.linalg.solve(cm, [1, -1, 0, 0, 0])\n",
    "    \n",
    "    except Exception as e:\n",
    "        \n",
    "        print(f'problem encountered at iteration {idx} with fermi energy {en} with the following error: \\n {e}')"
   ]
  },
  {
   "cell_type": "markdown",
   "id": "e46d74da",
   "metadata": {},
   "source": [
    "### Hall resistivity vs Fermi Energy"
   ]
  },
  {
   "cell_type": "code",
   "execution_count": 21,
   "id": "fcc7dee3",
   "metadata": {},
   "outputs": [
    {
     "data": {
      "image/png": "[encoded data removed]",
      "text/plain": [
       "<Figure size 432x288 with 1 Axes>"
      ]
     },
     "metadata": {
      "needs_background": "light"
     },
     "output_type": "display_data"
    }
   ],
   "source": [
    "plt.figure()\n",
    "plt.title(\"Hall resistance w.r.t. the Fermi energy\")\n",
    "plt.plot(fermi_energies, R[:, 4], color='red', label=\"$V_{tip}=\" + f\"{v_tip}$\")\n",
    "\n",
    "for _, ll in enumerate(lls):\n",
    "    if(Ef_min < ll < Ef_max):\n",
    "        plt.axvline(x=ll, color='k', linestyle='--', linewidth=1)\n",
    "        \n",
    "plt.xlabel('Fermi Energy [eV]')\n",
    "plt.ylabel('$R_{xy}$ [h/2e²]')\n",
    "plt.legend()\n",
    "\n",
    "if(1):\n",
    "    plt.tight_layout()\n",
    "    plt.savefig('hr6_p02_nd.pdf')\n",
    "else: \n",
    "    plt.show()"
   ]
  },
  {
   "cell_type": "markdown",
   "id": "c5ae287c",
   "metadata": {},
   "source": [
    "### Longitudinal resistivity vs Fermi energy (with non-zero tip potential)"
   ]
  },
  {
   "cell_type": "code",
   "execution_count": 22,
   "id": "8ab3b687",
   "metadata": {
    "scrolled": true
   },
   "outputs": [
    {
     "data": {
      "image/png": "[encoded data removed]",
      "text/plain": [
       "<Figure size 432x288 with 1 Axes>"
      ]
     },
     "metadata": {
      "needs_background": "light"
     },
     "output_type": "display_data"
    }
   ],
   "source": [
    "overhead_amount = 0 # 140\n",
    "plt.figure()\n",
    "plt.title(\"Longitudinal resistance w.r.t. the Fermi energy\")\n",
    "plt.plot(fermi_energies[overhead_amount:], R[overhead_amount:, 3], color='blue', label=\"$V_{tip}=\" + f\"{v_tip}$\")\n",
    "\n",
    "# plt.axhline(y=1/3, linestyle='--')\n",
    "# plt.axhline(y=1/2.5, color='k')\n",
    "\n",
    "for _, ll in enumerate(lls):\n",
    "    if(Ef_min < ll < Ef_max):\n",
    "        plt.axvline(x=ll, color='k', linestyle='--', linewidth=1)\n",
    "        \n",
    "plt.xlabel('Fermi energy [eV]')\n",
    "plt.ylabel('$R_{xx}$ [h/2e²]')\n",
    "plt.legend()\n",
    "\n",
    "if(0):\n",
    "    plt.tight_layout()\n",
    "    plt.savefig('lr6_p02_nd.pdf')\n",
    "else: \n",
    "    plt.show()"
   ]
  },
  {
   "cell_type": "code",
   "execution_count": 26,
   "id": "0e54542a",
   "metadata": {},
   "outputs": [
    {
     "name": "stdout",
     "output_type": "stream",
     "text": [
      "problem encountered at iteration 0 with fermi energy 0.05 with the following error: \n",
      " Error occurred in user-supplied value function \"hopping\".\n",
      "See the upper part of the above backtrace for more information.\n",
      "problem encountered at iteration 1 with fermi energy 0.05195146423682502 with the following error: \n",
      " Error occurred in user-supplied value function \"hopping\".\n",
      "See the upper part of the above backtrace for more information.\n",
      "problem encountered at iteration 2 with fermi energy 0.05390292847365004 with the following error: \n",
      " Error occurred in user-supplied value function \"hopping\".\n",
      "See the upper part of the above backtrace for more information.\n",
      "problem encountered at iteration 3 with fermi energy 0.05585439271047506 with the following error: \n",
      " Error occurred in user-supplied value function \"hopping\".\n",
      "See the upper part of the above backtrace for more information.\n",
      "problem encountered at iteration 4 with fermi energy 0.05780585694730008 with the following error: \n",
      " Error occurred in user-supplied value function \"hopping\".\n",
      "See the upper part of the above backtrace for more information.\n",
      "problem encountered at iteration 5 with fermi energy 0.0597573211841251 with the following error: \n",
      " Error occurred in user-supplied value function \"hopping\".\n",
      "See the upper part of the above backtrace for more information.\n",
      "problem encountered at iteration 6 with fermi energy 0.061708785420950124 with the following error: \n",
      " Error occurred in user-supplied value function \"hopping\".\n",
      "See the upper part of the above backtrace for more information.\n",
      "problem encountered at iteration 7 with fermi energy 0.06366024965777514 with the following error: \n",
      " Error occurred in user-supplied value function \"hopping\".\n",
      "See the upper part of the above backtrace for more information.\n",
      "problem encountered at iteration 8 with fermi energy 0.06561171389460016 with the following error: \n",
      " Error occurred in user-supplied value function \"hopping\".\n",
      "See the upper part of the above backtrace for more information.\n",
      "problem encountered at iteration 9 with fermi energy 0.06756317813142518 with the following error: \n",
      " Error occurred in user-supplied value function \"hopping\".\n",
      "See the upper part of the above backtrace for more information.\n",
      "problem encountered at iteration 10 with fermi energy 0.0695146423682502 with the following error: \n",
      " Error occurred in user-supplied value function \"hopping\".\n",
      "See the upper part of the above backtrace for more information.\n",
      "problem encountered at iteration 11 with fermi energy 0.07146610660507521 with the following error: \n",
      " Error occurred in user-supplied value function \"hopping\".\n",
      "See the upper part of the above backtrace for more information.\n",
      "problem encountered at iteration 12 with fermi energy 0.07341757084190023 with the following error: \n",
      " Error occurred in user-supplied value function \"hopping\".\n",
      "See the upper part of the above backtrace for more information.\n",
      "problem encountered at iteration 13 with fermi energy 0.07536903507872525 with the following error: \n",
      " Error occurred in user-supplied value function \"hopping\".\n",
      "See the upper part of the above backtrace for more information.\n",
      "problem encountered at iteration 14 with fermi energy 0.07732049931555028 with the following error: \n",
      " Error occurred in user-supplied value function \"hopping\".\n",
      "See the upper part of the above backtrace for more information.\n",
      "problem encountered at iteration 15 with fermi energy 0.0792719635523753 with the following error: \n",
      " Error occurred in user-supplied value function \"hopping\".\n",
      "See the upper part of the above backtrace for more information.\n",
      "problem encountered at iteration 16 with fermi energy 0.08122342778920032 with the following error: \n",
      " Error occurred in user-supplied value function \"hopping\".\n",
      "See the upper part of the above backtrace for more information.\n",
      "problem encountered at iteration 17 with fermi energy 0.08317489202602533 with the following error: \n",
      " Error occurred in user-supplied value function \"hopping\".\n",
      "See the upper part of the above backtrace for more information.\n",
      "problem encountered at iteration 18 with fermi energy 0.08512635626285035 with the following error: \n",
      " Error occurred in user-supplied value function \"hopping\".\n",
      "See the upper part of the above backtrace for more information.\n",
      "problem encountered at iteration 19 with fermi energy 0.08707782049967538 with the following error: \n",
      " Error occurred in user-supplied value function \"hopping\".\n",
      "See the upper part of the above backtrace for more information.\n",
      "problem encountered at iteration 20 with fermi energy 0.0890292847365004 with the following error: \n",
      " Error occurred in user-supplied value function \"hopping\".\n",
      "See the upper part of the above backtrace for more information.\n",
      "problem encountered at iteration 21 with fermi energy 0.09098074897332542 with the following error: \n",
      " Error occurred in user-supplied value function \"hopping\".\n",
      "See the upper part of the above backtrace for more information.\n",
      "problem encountered at iteration 22 with fermi energy 0.09293221321015044 with the following error: \n",
      " Error occurred in user-supplied value function \"hopping\".\n",
      "See the upper part of the above backtrace for more information.\n",
      "problem encountered at iteration 23 with fermi energy 0.09488367744697546 with the following error: \n",
      " Error occurred in user-supplied value function \"hopping\".\n",
      "See the upper part of the above backtrace for more information.\n",
      "problem encountered at iteration 24 with fermi energy 0.09683514168380047 with the following error: \n",
      " Error occurred in user-supplied value function \"hopping\".\n",
      "See the upper part of the above backtrace for more information.\n",
      "problem encountered at iteration 25 with fermi energy 0.09878660592062549 with the following error: \n",
      " Error occurred in user-supplied value function \"hopping\".\n",
      "See the upper part of the above backtrace for more information.\n",
      "problem encountered at iteration 26 with fermi energy 0.10073807015745051 with the following error: \n",
      " Error occurred in user-supplied value function \"hopping\".\n",
      "See the upper part of the above backtrace for more information.\n",
      "problem encountered at iteration 27 with fermi energy 0.10268953439427553 with the following error: \n",
      " Error occurred in user-supplied value function \"hopping\".\n",
      "See the upper part of the above backtrace for more information.\n",
      "problem encountered at iteration 28 with fermi energy 0.10464099863110055 with the following error: \n",
      " Error occurred in user-supplied value function \"hopping\".\n",
      "See the upper part of the above backtrace for more information.\n",
      "problem encountered at iteration 29 with fermi energy 0.10659246286792556 with the following error: \n",
      " Error occurred in user-supplied value function \"hopping\".\n",
      "See the upper part of the above backtrace for more information.\n",
      "problem encountered at iteration 30 with fermi energy 0.1085439271047506 with the following error: \n",
      " Error occurred in user-supplied value function \"hopping\".\n",
      "See the upper part of the above backtrace for more information.\n",
      "problem encountered at iteration 31 with fermi energy 0.11049539134157561 with the following error: \n",
      " Error occurred in user-supplied value function \"hopping\".\n",
      "See the upper part of the above backtrace for more information.\n",
      "problem encountered at iteration 32 with fermi energy 0.11244685557840063 with the following error: \n",
      " Error occurred in user-supplied value function \"hopping\".\n",
      "See the upper part of the above backtrace for more information.\n",
      "problem encountered at iteration 33 with fermi energy 0.11439831981522565 with the following error: \n",
      " Error occurred in user-supplied value function \"hopping\".\n",
      "See the upper part of the above backtrace for more information.\n",
      "problem encountered at iteration 34 with fermi energy 0.11634978405205067 with the following error: \n",
      " Error occurred in user-supplied value function \"hopping\".\n",
      "See the upper part of the above backtrace for more information.\n",
      "problem encountered at iteration 35 with fermi energy 0.11830124828887568 with the following error: \n",
      " Error occurred in user-supplied value function \"hopping\".\n",
      "See the upper part of the above backtrace for more information.\n",
      "problem encountered at iteration 36 with fermi energy 0.1202527125257007 with the following error: \n",
      " Error occurred in user-supplied value function \"hopping\".\n",
      "See the upper part of the above backtrace for more information.\n",
      "problem encountered at iteration 37 with fermi energy 0.12220417676252573 with the following error: \n",
      " Error occurred in user-supplied value function \"hopping\".\n",
      "See the upper part of the above backtrace for more information.\n",
      "problem encountered at iteration 38 with fermi energy 0.12415564099935075 with the following error: \n",
      " Error occurred in user-supplied value function \"hopping\".\n",
      "See the upper part of the above backtrace for more information.\n",
      "problem encountered at iteration 39 with fermi energy 0.12610710523617577 with the following error: \n",
      " Error occurred in user-supplied value function \"hopping\".\n",
      "See the upper part of the above backtrace for more information.\n",
      "problem encountered at iteration 40 with fermi energy 0.1280585694730008 with the following error: \n",
      " Error occurred in user-supplied value function \"hopping\".\n",
      "See the upper part of the above backtrace for more information.\n"
     ]
    },
    {
     "name": "stdout",
     "output_type": "stream",
     "text": [
      "problem encountered at iteration 41 with fermi energy 0.1300100337098258 with the following error: \n",
      " Error occurred in user-supplied value function \"hopping\".\n",
      "See the upper part of the above backtrace for more information.\n",
      "problem encountered at iteration 42 with fermi energy 0.13196149794665082 with the following error: \n",
      " Error occurred in user-supplied value function \"hopping\".\n",
      "See the upper part of the above backtrace for more information.\n",
      "problem encountered at iteration 43 with fermi energy 0.13391296218347584 with the following error: \n",
      " Error occurred in user-supplied value function \"hopping\".\n",
      "See the upper part of the above backtrace for more information.\n",
      "problem encountered at iteration 44 with fermi energy 0.1358644264203009 with the following error: \n",
      " Error occurred in user-supplied value function \"hopping\".\n",
      "See the upper part of the above backtrace for more information.\n",
      "problem encountered at iteration 45 with fermi energy 0.1378158906571259 with the following error: \n",
      " Error occurred in user-supplied value function \"hopping\".\n",
      "See the upper part of the above backtrace for more information.\n",
      "problem encountered at iteration 46 with fermi energy 0.13976735489395092 with the following error: \n",
      " Error occurred in user-supplied value function \"hopping\".\n",
      "See the upper part of the above backtrace for more information.\n",
      "problem encountered at iteration 47 with fermi energy 0.14171881913077594 with the following error: \n",
      " Error occurred in user-supplied value function \"hopping\".\n",
      "See the upper part of the above backtrace for more information.\n",
      "problem encountered at iteration 48 with fermi energy 0.14367028336760096 with the following error: \n",
      " Error occurred in user-supplied value function \"hopping\".\n",
      "See the upper part of the above backtrace for more information.\n",
      "problem encountered at iteration 49 with fermi energy 0.14562174760442598 with the following error: \n",
      " Error occurred in user-supplied value function \"hopping\".\n",
      "See the upper part of the above backtrace for more information.\n",
      "problem encountered at iteration 50 with fermi energy 0.147573211841251 with the following error: \n",
      " Error occurred in user-supplied value function \"hopping\".\n",
      "See the upper part of the above backtrace for more information.\n",
      "problem encountered at iteration 51 with fermi energy 0.149524676078076 with the following error: \n",
      " Error occurred in user-supplied value function \"hopping\".\n",
      "See the upper part of the above backtrace for more information.\n",
      "problem encountered at iteration 52 with fermi energy 0.15147614031490103 with the following error: \n",
      " Error occurred in user-supplied value function \"hopping\".\n",
      "See the upper part of the above backtrace for more information.\n",
      "problem encountered at iteration 53 with fermi energy 0.15342760455172605 with the following error: \n",
      " Error occurred in user-supplied value function \"hopping\".\n",
      "See the upper part of the above backtrace for more information.\n",
      "problem encountered at iteration 54 with fermi energy 0.15537906878855107 with the following error: \n",
      " Error occurred in user-supplied value function \"hopping\".\n",
      "See the upper part of the above backtrace for more information.\n",
      "problem encountered at iteration 55 with fermi energy 0.15733053302537608 with the following error: \n",
      " Error occurred in user-supplied value function \"hopping\".\n",
      "See the upper part of the above backtrace for more information.\n",
      "problem encountered at iteration 56 with fermi energy 0.1592819972622011 with the following error: \n",
      " Error occurred in user-supplied value function \"hopping\".\n",
      "See the upper part of the above backtrace for more information.\n",
      "problem encountered at iteration 57 with fermi energy 0.16123346149902612 with the following error: \n",
      " Error occurred in user-supplied value function \"hopping\".\n",
      "See the upper part of the above backtrace for more information.\n",
      "problem encountered at iteration 58 with fermi energy 0.16318492573585114 with the following error: \n",
      " Error occurred in user-supplied value function \"hopping\".\n",
      "See the upper part of the above backtrace for more information.\n",
      "problem encountered at iteration 59 with fermi energy 0.16513638997267616 with the following error: \n",
      " Error occurred in user-supplied value function \"hopping\".\n",
      "See the upper part of the above backtrace for more information.\n",
      "problem encountered at iteration 60 with fermi energy 0.16708785420950117 with the following error: \n",
      " Error occurred in user-supplied value function \"hopping\".\n",
      "See the upper part of the above backtrace for more information.\n",
      "problem encountered at iteration 61 with fermi energy 0.1690393184463262 with the following error: \n",
      " Error occurred in user-supplied value function \"hopping\".\n",
      "See the upper part of the above backtrace for more information.\n",
      "problem encountered at iteration 62 with fermi energy 0.1709907826831512 with the following error: \n",
      " Error occurred in user-supplied value function \"hopping\".\n",
      "See the upper part of the above backtrace for more information.\n",
      "problem encountered at iteration 63 with fermi energy 0.17294224691997623 with the following error: \n",
      " Error occurred in user-supplied value function \"hopping\".\n",
      "See the upper part of the above backtrace for more information.\n",
      "problem encountered at iteration 64 with fermi energy 0.17489371115680125 with the following error: \n",
      " Error occurred in user-supplied value function \"hopping\".\n",
      "See the upper part of the above backtrace for more information.\n",
      "problem encountered at iteration 65 with fermi energy 0.17684517539362626 with the following error: \n",
      " Error occurred in user-supplied value function \"hopping\".\n",
      "See the upper part of the above backtrace for more information.\n",
      "problem encountered at iteration 66 with fermi energy 0.17879663963045128 with the following error: \n",
      " Error occurred in user-supplied value function \"hopping\".\n",
      "See the upper part of the above backtrace for more information.\n",
      "problem encountered at iteration 67 with fermi energy 0.1807481038672763 with the following error: \n",
      " Error occurred in user-supplied value function \"hopping\".\n",
      "See the upper part of the above backtrace for more information.\n",
      "problem encountered at iteration 68 with fermi energy 0.18269956810410132 with the following error: \n",
      " Error occurred in user-supplied value function \"hopping\".\n",
      "See the upper part of the above backtrace for more information.\n",
      "problem encountered at iteration 69 with fermi energy 0.18465103234092634 with the following error: \n",
      " Error occurred in user-supplied value function \"hopping\".\n",
      "See the upper part of the above backtrace for more information.\n",
      "problem encountered at iteration 70 with fermi energy 0.18660249657775135 with the following error: \n",
      " Error occurred in user-supplied value function \"hopping\".\n",
      "See the upper part of the above backtrace for more information.\n",
      "problem encountered at iteration 71 with fermi energy 0.18855396081457637 with the following error: \n",
      " Error occurred in user-supplied value function \"hopping\".\n",
      "See the upper part of the above backtrace for more information.\n",
      "problem encountered at iteration 72 with fermi energy 0.1905054250514014 with the following error: \n",
      " Error occurred in user-supplied value function \"hopping\".\n",
      "See the upper part of the above backtrace for more information.\n",
      "problem encountered at iteration 73 with fermi energy 0.19245688928822646 with the following error: \n",
      " Error occurred in user-supplied value function \"hopping\".\n",
      "See the upper part of the above backtrace for more information.\n",
      "problem encountered at iteration 74 with fermi energy 0.19440835352505148 with the following error: \n",
      " Error occurred in user-supplied value function \"hopping\".\n",
      "See the upper part of the above backtrace for more information.\n",
      "problem encountered at iteration 75 with fermi energy 0.1963598177618765 with the following error: \n",
      " Error occurred in user-supplied value function \"hopping\".\n",
      "See the upper part of the above backtrace for more information.\n",
      "problem encountered at iteration 76 with fermi energy 0.19831128199870152 with the following error: \n",
      " Error occurred in user-supplied value function \"hopping\".\n",
      "See the upper part of the above backtrace for more information.\n",
      "problem encountered at iteration 77 with fermi energy 0.20026274623552653 with the following error: \n",
      " Error occurred in user-supplied value function \"hopping\".\n",
      "See the upper part of the above backtrace for more information.\n",
      "problem encountered at iteration 78 with fermi energy 0.20221421047235155 with the following error: \n",
      " Error occurred in user-supplied value function \"hopping\".\n",
      "See the upper part of the above backtrace for more information.\n",
      "problem encountered at iteration 79 with fermi energy 0.20416567470917657 with the following error: \n",
      " Error occurred in user-supplied value function \"hopping\".\n",
      "See the upper part of the above backtrace for more information.\n",
      "problem encountered at iteration 80 with fermi energy 0.2061171389460016 with the following error: \n",
      " Error occurred in user-supplied value function \"hopping\".\n",
      "See the upper part of the above backtrace for more information.\n",
      "problem encountered at iteration 81 with fermi energy 0.2080686031828266 with the following error: \n",
      " Error occurred in user-supplied value function \"hopping\".\n",
      "See the upper part of the above backtrace for more information.\n",
      "problem encountered at iteration 82 with fermi energy 0.21002006741965162 with the following error: \n",
      " Error occurred in user-supplied value function \"hopping\".\n",
      "See the upper part of the above backtrace for more information.\n",
      "problem encountered at iteration 83 with fermi energy 0.21197153165647664 with the following error: \n",
      " Error occurred in user-supplied value function \"hopping\".\n",
      "See the upper part of the above backtrace for more information.\n",
      "problem encountered at iteration 84 with fermi energy 0.21392299589330166 with the following error: \n",
      " Error occurred in user-supplied value function \"hopping\".\n",
      "See the upper part of the above backtrace for more information.\n",
      "problem encountered at iteration 85 with fermi energy 0.21587446013012668 with the following error: \n",
      " Error occurred in user-supplied value function \"hopping\".\n",
      "See the upper part of the above backtrace for more information.\n"
     ]
    },
    {
     "name": "stdout",
     "output_type": "stream",
     "text": [
      "problem encountered at iteration 86 with fermi energy 0.2178259243669517 with the following error: \n",
      " Error occurred in user-supplied value function \"hopping\".\n",
      "See the upper part of the above backtrace for more information.\n",
      "problem encountered at iteration 87 with fermi energy 0.2197773886037767 with the following error: \n",
      " Error occurred in user-supplied value function \"hopping\".\n",
      "See the upper part of the above backtrace for more information.\n",
      "problem encountered at iteration 88 with fermi energy 0.22172885284060173 with the following error: \n",
      " Error occurred in user-supplied value function \"hopping\".\n",
      "See the upper part of the above backtrace for more information.\n",
      "problem encountered at iteration 89 with fermi energy 0.22368031707742675 with the following error: \n",
      " Error occurred in user-supplied value function \"hopping\".\n",
      "See the upper part of the above backtrace for more information.\n",
      "problem encountered at iteration 90 with fermi energy 0.22563178131425177 with the following error: \n",
      " Error occurred in user-supplied value function \"hopping\".\n",
      "See the upper part of the above backtrace for more information.\n",
      "problem encountered at iteration 91 with fermi energy 0.22758324555107678 with the following error: \n",
      " Error occurred in user-supplied value function \"hopping\".\n",
      "See the upper part of the above backtrace for more information.\n",
      "problem encountered at iteration 92 with fermi energy 0.2295347097879018 with the following error: \n",
      " Error occurred in user-supplied value function \"hopping\".\n",
      "See the upper part of the above backtrace for more information.\n",
      "problem encountered at iteration 93 with fermi energy 0.23148617402472682 with the following error: \n",
      " Error occurred in user-supplied value function \"hopping\".\n",
      "See the upper part of the above backtrace for more information.\n",
      "problem encountered at iteration 94 with fermi energy 0.23343763826155184 with the following error: \n",
      " Error occurred in user-supplied value function \"hopping\".\n",
      "See the upper part of the above backtrace for more information.\n",
      "problem encountered at iteration 95 with fermi energy 0.23538910249837686 with the following error: \n",
      " Error occurred in user-supplied value function \"hopping\".\n",
      "See the upper part of the above backtrace for more information.\n",
      "problem encountered at iteration 96 with fermi energy 0.23734056673520187 with the following error: \n",
      " Error occurred in user-supplied value function \"hopping\".\n",
      "See the upper part of the above backtrace for more information.\n",
      "problem encountered at iteration 97 with fermi energy 0.2392920309720269 with the following error: \n",
      " Error occurred in user-supplied value function \"hopping\".\n",
      "See the upper part of the above backtrace for more information.\n",
      "problem encountered at iteration 98 with fermi energy 0.2412434952088519 with the following error: \n",
      " Error occurred in user-supplied value function \"hopping\".\n",
      "See the upper part of the above backtrace for more information.\n",
      "problem encountered at iteration 99 with fermi energy 0.24319495944567693 with the following error: \n",
      " Error occurred in user-supplied value function \"hopping\".\n",
      "See the upper part of the above backtrace for more information.\n"
     ]
    }
   ],
   "source": [
    "Ef_min = lls[0 + (num_ll - 1)] + 5e-2  # at ll0\n",
    "Ef_max = lls[3 + (num_ll - 1)] + 5e-2  # at ll+3 \n",
    "num_it = 100 # discretization of the fermi level \n",
    "num_leads = 6\n",
    "\n",
    "potential_function = step_potential\n",
    "v_tip = 0 # needed because previously assigned\n",
    "\n",
    "fermi_energies = np.linspace(Ef_min, Ef_max, num_it)\n",
    "R_0 = np.zeros((num_it, num_leads - 1)) # r_xx = R[:, 3] and r_xy = R[:, 4]\n",
    "\n",
    "params = dict(Bfield = Bfield, v_tip = v_tip)\n",
    "\n",
    "for idx, en in enumerate(fermi_energies):\n",
    "        \n",
    "    try:    \n",
    "        s = kwant.smatrix(sys, energy=en, params=params)\n",
    "        cond = np.array([[s.transmission(i, j) for j in range(num_leads)] for i in range(num_leads)])     \n",
    "        cond -= np.diag(cond.sum(axis=0))  \n",
    "        cm = s.conductance_matrix()[:-1, :-1] # we don't even use the cond matrix so what is the point?\n",
    "#         cm = cond[:-1, :-1]\n",
    "        \n",
    "        R_0[idx] = np.linalg.solve(cm, [1, -1, 0, 0, 0])\n",
    "    \n",
    "    except Exception as e:\n",
    "        \n",
    "        print(f'problem encountered at iteration {idx} with fermi energy {en} with the following error: \\n {e}')"
   ]
  },
  {
   "cell_type": "code",
   "execution_count": 24,
   "id": "6f09fd8d",
   "metadata": {},
   "outputs": [
    {
     "ename": "ValueError",
     "evalue": "x and y must have same first dimension, but have shapes (100,) and (200,)",
     "output_type": "error",
     "traceback": [
      "\u001b[0;31m---------------------------------------------------------------------------\u001b[0m",
      "\u001b[0;31mValueError\u001b[0m                                Traceback (most recent call last)",
      "\u001b[0;32m/tmp/ipykernel_3395/1742486197.py\u001b[0m in \u001b[0;36m<module>\u001b[0;34m\u001b[0m\n\u001b[1;32m      1\u001b[0m \u001b[0mplt\u001b[0m\u001b[0;34m.\u001b[0m\u001b[0mfigure\u001b[0m\u001b[0;34m(\u001b[0m\u001b[0;34m)\u001b[0m\u001b[0;34m\u001b[0m\u001b[0;34m\u001b[0m\u001b[0m\n\u001b[1;32m      2\u001b[0m \u001b[0mplt\u001b[0m\u001b[0;34m.\u001b[0m\u001b[0mtitle\u001b[0m\u001b[0;34m(\u001b[0m\u001b[0;34m\"Hall resistance w.r.t. the Fermi energy\"\u001b[0m\u001b[0;34m)\u001b[0m\u001b[0;34m\u001b[0m\u001b[0;34m\u001b[0m\u001b[0m\n\u001b[0;32m----> 3\u001b[0;31m \u001b[0mplt\u001b[0m\u001b[0;34m.\u001b[0m\u001b[0mplot\u001b[0m\u001b[0;34m(\u001b[0m\u001b[0mfermi_energies\u001b[0m\u001b[0;34m,\u001b[0m \u001b[0mR\u001b[0m\u001b[0;34m[\u001b[0m\u001b[0;34m:\u001b[0m\u001b[0;34m,\u001b[0m \u001b[0;36m4\u001b[0m\u001b[0;34m]\u001b[0m\u001b[0;34m,\u001b[0m \u001b[0mcolor\u001b[0m\u001b[0;34m=\u001b[0m\u001b[0;34m'red'\u001b[0m\u001b[0;34m,\u001b[0m \u001b[0mlabel\u001b[0m\u001b[0;34m=\u001b[0m\u001b[0;34m\"$V_{tip} =\"\u001b[0m \u001b[0;34m+\u001b[0m \u001b[0;34mf\" -0.02$\"\u001b[0m\u001b[0;34m)\u001b[0m\u001b[0;34m\u001b[0m\u001b[0;34m\u001b[0m\u001b[0m\n\u001b[0m\u001b[1;32m      4\u001b[0m \u001b[0mplt\u001b[0m\u001b[0;34m.\u001b[0m\u001b[0mplot\u001b[0m\u001b[0;34m(\u001b[0m\u001b[0mfermi_energies\u001b[0m\u001b[0;34m,\u001b[0m \u001b[0mR_0\u001b[0m\u001b[0;34m[\u001b[0m\u001b[0;34m:\u001b[0m\u001b[0;34m,\u001b[0m \u001b[0;36m4\u001b[0m\u001b[0;34m]\u001b[0m\u001b[0;34m,\u001b[0m \u001b[0;34m'--k'\u001b[0m\u001b[0;34m,\u001b[0m \u001b[0mlabel\u001b[0m\u001b[0;34m=\u001b[0m\u001b[0;34m\"$V_{tip} = 0$\"\u001b[0m\u001b[0;34m)\u001b[0m\u001b[0;34m\u001b[0m\u001b[0;34m\u001b[0m\u001b[0m\n\u001b[1;32m      5\u001b[0m \u001b[0;34m\u001b[0m\u001b[0m\n",
      "\u001b[0;32m/usr/lib/python3/dist-packages/matplotlib/pyplot.py\u001b[0m in \u001b[0;36mplot\u001b[0;34m(scalex, scaley, data, *args, **kwargs)\u001b[0m\n\u001b[1;32m   2785\u001b[0m \u001b[0;34m@\u001b[0m\u001b[0mdocstring\u001b[0m\u001b[0;34m.\u001b[0m\u001b[0mcopy\u001b[0m\u001b[0;34m(\u001b[0m\u001b[0mAxes\u001b[0m\u001b[0;34m.\u001b[0m\u001b[0mplot\u001b[0m\u001b[0;34m)\u001b[0m\u001b[0;34m\u001b[0m\u001b[0;34m\u001b[0m\u001b[0m\n\u001b[1;32m   2786\u001b[0m \u001b[0;32mdef\u001b[0m \u001b[0mplot\u001b[0m\u001b[0;34m(\u001b[0m\u001b[0;34m*\u001b[0m\u001b[0margs\u001b[0m\u001b[0;34m,\u001b[0m \u001b[0mscalex\u001b[0m\u001b[0;34m=\u001b[0m\u001b[0;32mTrue\u001b[0m\u001b[0;34m,\u001b[0m \u001b[0mscaley\u001b[0m\u001b[0;34m=\u001b[0m\u001b[0;32mTrue\u001b[0m\u001b[0;34m,\u001b[0m \u001b[0mdata\u001b[0m\u001b[0;34m=\u001b[0m\u001b[0;32mNone\u001b[0m\u001b[0;34m,\u001b[0m \u001b[0;34m**\u001b[0m\u001b[0mkwargs\u001b[0m\u001b[0;34m)\u001b[0m\u001b[0;34m:\u001b[0m\u001b[0;34m\u001b[0m\u001b[0;34m\u001b[0m\u001b[0m\n\u001b[0;32m-> 2787\u001b[0;31m     return gca().plot(\n\u001b[0m\u001b[1;32m   2788\u001b[0m         *args, scalex=scalex, scaley=scaley, **({\"data\": data} if data\n\u001b[1;32m   2789\u001b[0m         is not None else {}), **kwargs)\n",
      "\u001b[0;32m/usr/lib/python3/dist-packages/matplotlib/axes/_axes.py\u001b[0m in \u001b[0;36mplot\u001b[0;34m(self, scalex, scaley, data, *args, **kwargs)\u001b[0m\n\u001b[1;32m   1663\u001b[0m         \"\"\"\n\u001b[1;32m   1664\u001b[0m         \u001b[0mkwargs\u001b[0m \u001b[0;34m=\u001b[0m \u001b[0mcbook\u001b[0m\u001b[0;34m.\u001b[0m\u001b[0mnormalize_kwargs\u001b[0m\u001b[0;34m(\u001b[0m\u001b[0mkwargs\u001b[0m\u001b[0;34m,\u001b[0m \u001b[0mmlines\u001b[0m\u001b[0;34m.\u001b[0m\u001b[0mLine2D\u001b[0m\u001b[0;34m.\u001b[0m\u001b[0m_alias_map\u001b[0m\u001b[0;34m)\u001b[0m\u001b[0;34m\u001b[0m\u001b[0;34m\u001b[0m\u001b[0m\n\u001b[0;32m-> 1665\u001b[0;31m         \u001b[0mlines\u001b[0m \u001b[0;34m=\u001b[0m \u001b[0;34m[\u001b[0m\u001b[0;34m*\u001b[0m\u001b[0mself\u001b[0m\u001b[0;34m.\u001b[0m\u001b[0m_get_lines\u001b[0m\u001b[0;34m(\u001b[0m\u001b[0;34m*\u001b[0m\u001b[0margs\u001b[0m\u001b[0;34m,\u001b[0m \u001b[0mdata\u001b[0m\u001b[0;34m=\u001b[0m\u001b[0mdata\u001b[0m\u001b[0;34m,\u001b[0m \u001b[0;34m**\u001b[0m\u001b[0mkwargs\u001b[0m\u001b[0;34m)\u001b[0m\u001b[0;34m]\u001b[0m\u001b[0;34m\u001b[0m\u001b[0;34m\u001b[0m\u001b[0m\n\u001b[0m\u001b[1;32m   1666\u001b[0m         \u001b[0;32mfor\u001b[0m \u001b[0mline\u001b[0m \u001b[0;32min\u001b[0m \u001b[0mlines\u001b[0m\u001b[0;34m:\u001b[0m\u001b[0;34m\u001b[0m\u001b[0;34m\u001b[0m\u001b[0m\n\u001b[1;32m   1667\u001b[0m             \u001b[0mself\u001b[0m\u001b[0;34m.\u001b[0m\u001b[0madd_line\u001b[0m\u001b[0;34m(\u001b[0m\u001b[0mline\u001b[0m\u001b[0;34m)\u001b[0m\u001b[0;34m\u001b[0m\u001b[0;34m\u001b[0m\u001b[0m\n",
      "\u001b[0;32m/usr/lib/python3/dist-packages/matplotlib/axes/_base.py\u001b[0m in \u001b[0;36m__call__\u001b[0;34m(self, *args, **kwargs)\u001b[0m\n\u001b[1;32m    223\u001b[0m                 \u001b[0mthis\u001b[0m \u001b[0;34m+=\u001b[0m \u001b[0margs\u001b[0m\u001b[0;34m[\u001b[0m\u001b[0;36m0\u001b[0m\u001b[0;34m]\u001b[0m\u001b[0;34m,\u001b[0m\u001b[0;34m\u001b[0m\u001b[0;34m\u001b[0m\u001b[0m\n\u001b[1;32m    224\u001b[0m                 \u001b[0margs\u001b[0m \u001b[0;34m=\u001b[0m \u001b[0margs\u001b[0m\u001b[0;34m[\u001b[0m\u001b[0;36m1\u001b[0m\u001b[0;34m:\u001b[0m\u001b[0;34m]\u001b[0m\u001b[0;34m\u001b[0m\u001b[0;34m\u001b[0m\u001b[0m\n\u001b[0;32m--> 225\u001b[0;31m             \u001b[0;32myield\u001b[0m \u001b[0;32mfrom\u001b[0m \u001b[0mself\u001b[0m\u001b[0;34m.\u001b[0m\u001b[0m_plot_args\u001b[0m\u001b[0;34m(\u001b[0m\u001b[0mthis\u001b[0m\u001b[0;34m,\u001b[0m \u001b[0mkwargs\u001b[0m\u001b[0;34m)\u001b[0m\u001b[0;34m\u001b[0m\u001b[0;34m\u001b[0m\u001b[0m\n\u001b[0m\u001b[1;32m    226\u001b[0m \u001b[0;34m\u001b[0m\u001b[0m\n\u001b[1;32m    227\u001b[0m     \u001b[0;32mdef\u001b[0m \u001b[0mget_next_color\u001b[0m\u001b[0;34m(\u001b[0m\u001b[0mself\u001b[0m\u001b[0;34m)\u001b[0m\u001b[0;34m:\u001b[0m\u001b[0;34m\u001b[0m\u001b[0;34m\u001b[0m\u001b[0m\n",
      "\u001b[0;32m/usr/lib/python3/dist-packages/matplotlib/axes/_base.py\u001b[0m in \u001b[0;36m_plot_args\u001b[0;34m(self, tup, kwargs)\u001b[0m\n\u001b[1;32m    389\u001b[0m             \u001b[0mx\u001b[0m\u001b[0;34m,\u001b[0m \u001b[0my\u001b[0m \u001b[0;34m=\u001b[0m \u001b[0mindex_of\u001b[0m\u001b[0;34m(\u001b[0m\u001b[0mtup\u001b[0m\u001b[0;34m[\u001b[0m\u001b[0;34m-\u001b[0m\u001b[0;36m1\u001b[0m\u001b[0;34m]\u001b[0m\u001b[0;34m)\u001b[0m\u001b[0;34m\u001b[0m\u001b[0;34m\u001b[0m\u001b[0m\n\u001b[1;32m    390\u001b[0m \u001b[0;34m\u001b[0m\u001b[0m\n\u001b[0;32m--> 391\u001b[0;31m         \u001b[0mx\u001b[0m\u001b[0;34m,\u001b[0m \u001b[0my\u001b[0m \u001b[0;34m=\u001b[0m \u001b[0mself\u001b[0m\u001b[0;34m.\u001b[0m\u001b[0m_xy_from_xy\u001b[0m\u001b[0;34m(\u001b[0m\u001b[0mx\u001b[0m\u001b[0;34m,\u001b[0m \u001b[0my\u001b[0m\u001b[0;34m)\u001b[0m\u001b[0;34m\u001b[0m\u001b[0;34m\u001b[0m\u001b[0m\n\u001b[0m\u001b[1;32m    392\u001b[0m \u001b[0;34m\u001b[0m\u001b[0m\n\u001b[1;32m    393\u001b[0m         \u001b[0;32mif\u001b[0m \u001b[0mself\u001b[0m\u001b[0;34m.\u001b[0m\u001b[0mcommand\u001b[0m \u001b[0;34m==\u001b[0m \u001b[0;34m'plot'\u001b[0m\u001b[0;34m:\u001b[0m\u001b[0;34m\u001b[0m\u001b[0;34m\u001b[0m\u001b[0m\n",
      "\u001b[0;32m/usr/lib/python3/dist-packages/matplotlib/axes/_base.py\u001b[0m in \u001b[0;36m_xy_from_xy\u001b[0;34m(self, x, y)\u001b[0m\n\u001b[1;32m    267\u001b[0m         \u001b[0my\u001b[0m \u001b[0;34m=\u001b[0m \u001b[0m_check_1d\u001b[0m\u001b[0;34m(\u001b[0m\u001b[0my\u001b[0m\u001b[0;34m)\u001b[0m\u001b[0;34m\u001b[0m\u001b[0;34m\u001b[0m\u001b[0m\n\u001b[1;32m    268\u001b[0m         \u001b[0;32mif\u001b[0m \u001b[0mx\u001b[0m\u001b[0;34m.\u001b[0m\u001b[0mshape\u001b[0m\u001b[0;34m[\u001b[0m\u001b[0;36m0\u001b[0m\u001b[0;34m]\u001b[0m \u001b[0;34m!=\u001b[0m \u001b[0my\u001b[0m\u001b[0;34m.\u001b[0m\u001b[0mshape\u001b[0m\u001b[0;34m[\u001b[0m\u001b[0;36m0\u001b[0m\u001b[0;34m]\u001b[0m\u001b[0;34m:\u001b[0m\u001b[0;34m\u001b[0m\u001b[0;34m\u001b[0m\u001b[0m\n\u001b[0;32m--> 269\u001b[0;31m             raise ValueError(\"x and y must have same first dimension, but \"\n\u001b[0m\u001b[1;32m    270\u001b[0m                              \"have shapes {} and {}\".format(x.shape, y.shape))\n\u001b[1;32m    271\u001b[0m         \u001b[0;32mif\u001b[0m \u001b[0mx\u001b[0m\u001b[0;34m.\u001b[0m\u001b[0mndim\u001b[0m \u001b[0;34m>\u001b[0m \u001b[0;36m2\u001b[0m \u001b[0;32mor\u001b[0m \u001b[0my\u001b[0m\u001b[0;34m.\u001b[0m\u001b[0mndim\u001b[0m \u001b[0;34m>\u001b[0m \u001b[0;36m2\u001b[0m\u001b[0;34m:\u001b[0m\u001b[0;34m\u001b[0m\u001b[0;34m\u001b[0m\u001b[0m\n",
      "\u001b[0;31mValueError\u001b[0m: x and y must have same first dimension, but have shapes (100,) and (200,)"
     ]
    },
    {
     "data": {
      "image/png": "[encoded data removed]",
      "text/plain": [
       "<Figure size 432x288 with 1 Axes>"
      ]
     },
     "metadata": {
      "needs_background": "light"
     },
     "output_type": "display_data"
    }
   ],
   "source": [
    "plt.figure()\n",
    "plt.title(\"Hall resistance w.r.t. the Fermi energy\")\n",
    "plt.plot(fermi_energies, R[:, 4], color='red', label=\"$V_{tip} =\" + f\" -0.02$\")\n",
    "plt.plot(fermi_energies, R_0[:, 4], '--k', label=\"$V_{tip} = 0$\")\n",
    "\n",
    "for _, ll in enumerate(lls):\n",
    "    if(Ef_min < ll < Ef_max):\n",
    "        plt.axvline(x=ll, color='k', linestyle='--', linewidth=1)\n",
    "        \n",
    "# plt.axhline(y=1/3, color='k', linestyle='--', linewidth=1)   # v=6  v'=2  v=6\n",
    "# plt.axhline(y=1/10, color='k', linestyle='--', linewidth=1)  # v=10 v'=6  v=10\n",
    "# plt.axhline(y=1/35, color='k', linestyle='--', linewidth=1)  # v=14 v'=10 v=14\n",
    "\n",
    "        \n",
    "plt.xlabel('Fermi energy [eV]')\n",
    "plt.ylabel('$R_{xy}$ [h/2e²]')\n",
    "plt.legend()\n",
    "\n",
    "if(0):\n",
    "    plt.tight_layout()\n",
    "    plt.savefig('hb_base.pdf')\n",
    "else: \n",
    "    plt.show()"
   ]
  },
  {
   "cell_type": "code",
   "execution_count": null,
   "id": "424028e6",
   "metadata": {},
   "outputs": [],
   "source": [
    "overhead_amount = 0 # 140\n",
    "plt.figure()\n",
    "plt.title(\"Longitudinal resistance w.r.t. the Fermi energy\")\n",
    "plt.plot(fermi_energies[overhead_amount:], R[overhead_amount:, 3], color='blue', label=\"$V_{tip} = -0.02$\")\n",
    "plt.plot(fermi_energies[overhead_amount:], R_0[overhead_amount:, 3], '--k', label=\"$V_{tip} = 0$\")\n",
    "\n",
    "# plt.axhline(y=1/3, linestyle='--')\n",
    "# plt.axhline(y=1/2.5, color='k')\n",
    "\n",
    "for _, ll in enumerate(lls):\n",
    "    if(Ef_min < ll < Ef_max):\n",
    "        plt.axvline(x=ll, color='k', linestyle='--', linewidth=1)\n",
    "        \n",
    "plt.xlabel('Fermi energy [eV]')\n",
    "plt.ylabel('$R_{xx}$ [h/2e²]')\n",
    "plt.legend()\n",
    "\n",
    "if(0):\n",
    "    plt.tight_layout()\n",
    "    plt.savefig('longitudinal_resistivity.pdf')\n",
    "else: \n",
    "    plt.show()"
   ]
  }
 ],
 "metadata": {
  "kernelspec": {
   "display_name": "Python 3 (ipykernel)",
   "language": "python",
   "name": "python3"
  },
  "language_info": {
   "codemirror_mode": {
    "name": "ipython",
    "version": 3
   },
   "file_extension": ".py",
   "mimetype": "text/x-python",
   "name": "python",
   "nbconvert_exporter": "python",
   "pygments_lexer": "ipython3",
   "version": "3.8.10"
  }
 },
 "nbformat": 4,
 "nbformat_minor": 5
}
