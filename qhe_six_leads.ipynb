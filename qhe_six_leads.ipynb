{
 "cells": [
  {
   "cell_type": "markdown",
   "id": "7d211f71",
   "metadata": {},
   "source": [
    "# <center>Graphene quantum Hall effect</center>\n",
    "<hr>"
   ]
  },
  {
   "cell_type": "code",
   "execution_count": 1,
   "id": "a87a2a3c",
   "metadata": {},
   "outputs": [],
   "source": [
    "import kwant\n",
    "import numpy as np\n",
    "import random\n",
    "from matplotlib import pyplot as plt\n",
    "import matplotlib"
   ]
  },
  {
   "cell_type": "markdown",
   "id": "93c52809",
   "metadata": {},
   "source": [
    "### Figures Management"
   ]
  },
  {
   "cell_type": "code",
   "execution_count": 2,
   "id": "3c26527e",
   "metadata": {},
   "outputs": [],
   "source": [
    "matplotlib.rcParams.update({\n",
    "    \"pgf.texsystem\": \"pdflatex\",\n",
    "    'font.family': 'serif',\n",
    "    'font.size': 14,\n",
    "    'toolbar': 'None',\n",
    "    'text.usetex': True,\n",
    "    'pgf.rcfonts': False,\n",
    "    'legend.fancybox': False,\n",
    "    'legend.shadow': False\n",
    "})"
   ]
  },
  {
   "cell_type": "markdown",
   "id": "57b88c51",
   "metadata": {},
   "source": [
    "### Fundamental constants"
   ]
  },
  {
   "cell_type": "code",
   "execution_count": 3,
   "id": "c3929b67",
   "metadata": {},
   "outputs": [],
   "source": [
    "h = 6.626069e-34  # Planck constant (Js)\n",
    "h_bar =h/(2*np.pi) # With h_bar oom larger and Bmax=30, it works perfectly\n",
    "\n",
    "# Scaling factor of 10 required --> h_bar normal, Bmax=3\n",
    "\n",
    "e = 1.602e-19      # electron charge (C)\n",
    "c = 299792458       # Light celerity (m/s)\n",
    "kB = 1.3806503e-23  # Boltzmann constant (kg m2/Ks2)\n",
    "m_e = 9.1e-31       # electron mass (kg)"
   ]
  },
  {
   "cell_type": "markdown",
   "id": "41f1f3c9",
   "metadata": {},
   "source": [
    "### Scaling"
   ]
  },
  {
   "cell_type": "code",
   "execution_count": 4,
   "id": "8cdae985",
   "metadata": {},
   "outputs": [],
   "source": [
    "asquare = 1e-9 # [m] a is the lattice parameter\n",
    "tsquare = 1 # [eV] t is the hopping parameter\n",
    "\n",
    "# scaling\n",
    "\n",
    "scaling = 4 # scaling factor\n",
    "a = asquare * scaling\n",
    "t = tsquare / scaling"
   ]
  },
  {
   "cell_type": "markdown",
   "id": "9514f54b",
   "metadata": {},
   "source": [
    "### Geometrical parameters"
   ]
  },
  {
   "cell_type": "code",
   "execution_count": 5,
   "id": "86f1afd4",
   "metadata": {},
   "outputs": [],
   "source": [
    "W=200e-9 ; L = 1000e-9 # let's try W = 200, 400, 600, 800\n",
    "\n",
    "# For width smaller than 50 nm, the script does not work since the magnetic length is 30 nm so wf start to overlap (?)\n",
    "# Also for width slightly larger than that, the steps in the Hall resistance are lost. For w=200 nm they are recovered.\n",
    "\n",
    "width_lead=15e-9                                         \n",
    "posL = 450e-9 # pos of the leads along x # 350e-9 before\n",
    "lead_ext = posL + width_lead / 2\n",
    "lead_int = posL - width_lead / 2\n",
    "\n",
    "flag=0"
   ]
  },
  {
   "cell_type": "markdown",
   "id": "1c7558c3",
   "metadata": {},
   "source": [
    "#### Geometry of the device"
   ]
  },
  {
   "cell_type": "code",
   "execution_count": 6,
   "id": "9cd338d4",
   "metadata": {},
   "outputs": [],
   "source": [
    "def geom(pos):\n",
    "    x, y = pos\n",
    "    return abs(x) < L / 2 and abs(y) < W / 2"
   ]
  },
  {
   "cell_type": "markdown",
   "id": "7d163064",
   "metadata": {},
   "source": [
    "#### Geometry of the leads"
   ]
  },
  {
   "cell_type": "code",
   "execution_count": 7,
   "id": "8e9136b8",
   "metadata": {},
   "outputs": [],
   "source": [
    "def lead_shape(pos):\n",
    "    x, y = pos\n",
    "    return -W/2 < y < W/2\n",
    "\n",
    "\n",
    "def lead_shape_left(pos):\n",
    "    x, y = pos\n",
    "    return -lead_ext < x < -lead_int\n",
    "\n",
    "\n",
    "def lead_shape_right(pos):\n",
    "    x, y = pos    \n",
    "    return lead_int < x < lead_ext"
   ]
  },
  {
   "cell_type": "markdown",
   "id": "13cacfe0",
   "metadata": {},
   "source": [
    "#### Potentials & Disorder\n",
    "\n",
    "The minus sign in the expression of the potentials comes from the fact that those potentials are associated to the potential energy of an electron ($qV = -eV$). Introducing a disorder of 0.01 leads to peaks in longitudinal resistance but we retain anyway plateaus in Hall resistance.\n"
   ]
  },
  {
   "cell_type": "code",
   "execution_count": 8,
   "id": "f85fe69b",
   "metadata": {},
   "outputs": [],
   "source": [
    "def step_potential(x, y):\n",
    "\n",
    "    region_1 = 150e-9\n",
    "    w_pot = 0\n",
    "    \n",
    "    in_region_1 = abs(x) < region_1 and abs(y) < W / 2 - w_pot\n",
    "    \n",
    "    return (-1) * in_region_1 * v_tip\n",
    "\n",
    "\n",
    "def smooth_potential(x, y):\n",
    "    \n",
    "    region_1 = 150e-9\n",
    "    w_pot = 0\n",
    "    \n",
    "    in_region_1 = abs(x) < region_1 and abs(y) < W / 2 - w_pot\n",
    "    \n",
    "    return (-1) * in_region_1 * np.cos(abs(x) * np.pi / (2 * region_1)) * (v_tip - 0.01)\n",
    "\n",
    "\n",
    "def lorentzian_potential(x, y):\n",
    "    \n",
    "    a = v_tip**-1\n",
    "    \n",
    "    return (-1) * a / ((x * 1.1e8)**2 + (y * 1.1e8)**2 + a**2)\n",
    "\n",
    "\n",
    "def stair_potential(x, y):\n",
    "    \n",
    "    region_1 = 50e-9\n",
    "    region_2 = 200e-9\n",
    "    w_pot = 0 \n",
    "\n",
    "    in_region_2 = abs(x) < region_2 and abs(y) < W / 2 - w_pot\n",
    "    in_region_1 = abs(x) < region_1 and abs(y) < W / 2 - w_pot\n",
    "    \n",
    "    return (-1) * (in_region_1 + in_region_2) * v_tip / 2\n",
    "\n",
    "\n",
    "def disorder(pos):\n",
    "    x, y = pos\n",
    "    \n",
    "    # pot = 0.01 * random.uniform(-t / 2, t / 2)\n",
    "    pot = 0\n",
    "    \n",
    "    return pot"
   ]
  },
  {
   "cell_type": "markdown",
   "id": "174cd0d2",
   "metadata": {},
   "source": [
    "#### Defining onsite and hopping parameters"
   ]
  },
  {
   "cell_type": "code",
   "execution_count": 9,
   "id": "68423b85",
   "metadata": {},
   "outputs": [],
   "source": [
    "def onsite(site):\n",
    "    \"\"\"\n",
    "    Definition of the potential. To reach the bottom of the conduction band, the potential is set at 4*t.\n",
    "    A zone of potential v_tip (above the bottom of the conduction band) can be defined in a given zone \n",
    "    (square or circle here). \n",
    "    \"\"\"\n",
    "    x, y = site.pos\n",
    "    \n",
    "        \n",
    "    return potential_function(x, y) + disorder(site) "
   ]
  },
  {
   "cell_type": "markdown",
   "id": "8fd81382",
   "metadata": {},
   "source": [
    "#### Hopping parameter"
   ]
  },
  {
   "cell_type": "code",
   "execution_count": 10,
   "id": "49c70bf2",
   "metadata": {},
   "outputs": [],
   "source": [
    "def hopping(site_i, site_j):  \n",
    "    \n",
    "    xi, yi = site_i.pos\n",
    "    xj, yj = site_j.pos\n",
    "    \n",
    "    # The definition of hop to include the magnetic field Bfield in the definition of the hopping parameter\n",
    "    \n",
    "    hop = t * np.exp(1j * e * Bfield * (yi + yj) * (xj - xi) / (2 * h_bar))\n",
    "    \n",
    "    return hop"
   ]
  },
  {
   "cell_type": "markdown",
   "id": "d9b5d2f7",
   "metadata": {},
   "source": [
    "## Building the system"
   ]
  },
  {
   "cell_type": "code",
   "execution_count": 11,
   "id": "b0974cdf",
   "metadata": {},
   "outputs": [],
   "source": [
    "def sys_builder():\n",
    "    \n",
    "    graphene = kwant.lattice.general([(np.sqrt(3) * a, 0), (0, 3 * a)], \n",
    "                                     [(a * np.sqrt(3) / 2, 0), (0, a / 2), (0, 3 * a / 2), (a * np.sqrt(3) / 2, 2 * a)], \n",
    "                                     norbs = 1)\n",
    "    \n",
    "    A, B, C, D = graphene.sublattices\n",
    "      \n",
    "    sys = kwant.Builder()\n",
    "    sys[graphene.shape(geom, (0,0))] = onsite\n",
    "    \n",
    "    hoppings = (((0, 0), B, A), ((0, 0), C, B), ((0, 0), D, C), ((-1, 0), A, B), ((-1, 0), D, C), ((0, 1), A, D)) \n",
    "    sys[[kwant.builder.HoppingKind(*hopping) for hopping in hoppings]] = hopping\n",
    "\n",
    "# Schematic of the Hall bar\n",
    "#   ,----------o----Vxx----.--------------.\n",
    "#   |  Lead 3  |           |  Lead 5    __|__\n",
    "#  Vxy     __|   |_______|   |__        '''''    (ground)\n",
    "#   |               I\n",
    "#   | Lead 1      ----->      Lead 2\n",
    "#   |      __     _______     __\n",
    "#   |        |   |       |   |\n",
    "#   |  Lead 4  |               Lead 6\n",
    "#   `----------'\n",
    "    \n",
    "    \"\"\" Lead 1 \"\"\"\n",
    "    sym0 = kwant.TranslationalSymmetry(graphene.vec((-1, 0)))\n",
    "    lead0 = kwant.Builder(sym0)\n",
    "    lead0[graphene.shape(lead_shape, (0, 0))] = 0 # is it really zero here? I think yes\n",
    "    lead0[graphene.neighbors()] = hopping\n",
    "\n",
    "    \"\"\" Lead 2 \"\"\"\n",
    "    sym1 = kwant.TranslationalSymmetry(graphene.vec((1, 0)))\n",
    "    lead1 = kwant.Builder(sym1)\n",
    "    lead1[graphene.shape(lead_shape, (0, 0))] = 0    \n",
    "    lead1[graphene.neighbors()] = hopping\n",
    "\n",
    "    \"\"\" Lead 3 \"\"\"\n",
    "    sym2 = kwant.TranslationalSymmetry(graphene.vec((0, 1)))\n",
    "    lead2 = kwant.Builder(sym2)\n",
    "    lead2[graphene.shape(lead_shape_left, (-posL, 0))] = 0\n",
    "    lead2[graphene.neighbors()] = hopping\n",
    "\n",
    "    \"\"\" Lead 4 \"\"\"\n",
    "    sym3 = kwant.TranslationalSymmetry(graphene.vec((0, -1)))\n",
    "    lead3 = kwant.Builder(sym3)\n",
    "    lead3[graphene.shape(lead_shape_left, (-posL, 0))] = 0\n",
    "    lead3[graphene.neighbors()] = hopping\n",
    "\n",
    "    \"\"\" Lead 5 \"\"\" \n",
    "    lead4 = kwant.Builder(sym2)\n",
    "    lead4[graphene.shape(lead_shape_right, (posL, 0))] = 0\n",
    "    lead4[graphene.neighbors()] = hopping\n",
    "    \n",
    "    \"\"\"Lead 6\"\"\"\n",
    "    lead5 = kwant.Builder(sym3)\n",
    "    lead5[graphene.shape(lead_shape_right, (posL, 0))] = 0\n",
    "    lead5[graphene.neighbors()] = hopping\n",
    "    \n",
    "    \"\"\" The leads are attached \"\"\"\n",
    "    sys.attach_lead(lead0)\n",
    "    sys.attach_lead(lead1)\n",
    "    sys.attach_lead(lead2)\n",
    "    sys.attach_lead(lead3)\n",
    "    sys.attach_lead(lead4)\n",
    "    sys.attach_lead(lead5)\n",
    " \n",
    "    sys = sys.finalized()\n",
    "    \n",
    "    return sys   "
   ]
  },
  {
   "cell_type": "code",
   "execution_count": 12,
   "id": "7f92ff4b",
   "metadata": {},
   "outputs": [],
   "source": [
    "sys = sys_builder()"
   ]
  },
  {
   "cell_type": "markdown",
   "id": "5ce01c8e",
   "metadata": {},
   "source": [
    "#### Plotting the system"
   ]
  },
  {
   "cell_type": "code",
   "execution_count": 13,
   "id": "c576a2af",
   "metadata": {},
   "outputs": [
    {
     "data": {
      "image/png": "[encoded data removed]",
      "text/plain": [
       "<Figure size 432x288 with 1 Axes>"
      ]
     },
     "metadata": {
      "needs_background": "light"
     },
     "output_type": "display_data"
    },
    {
     "data": {
      "image/png": "[encoded data removed]",
      "text/plain": [
       "<Figure size 432x288 with 1 Axes>"
      ]
     },
     "execution_count": 13,
     "metadata": {},
     "output_type": "execute_result"
    }
   ],
   "source": [
    "kwant.plot(sys, site_size = 1e-9)"
   ]
  },
  {
   "cell_type": "markdown",
   "id": "7fdf8c5d",
   "metadata": {},
   "source": [
    "## Electronic properties"
   ]
  },
  {
   "cell_type": "code",
   "execution_count": 14,
   "id": "78c49cc5",
   "metadata": {},
   "outputs": [],
   "source": [
    "Ef = 0.17\n",
    "Bfield = 1.82\n",
    "v_tip = -0.1\n",
    "potential_function = lorentzian_potential\n",
    "\n",
    "params = dict(Bfield = Bfield, v_tip = v_tip) # params take the magnetic field as a parameter for the function hopping"
   ]
  },
  {
   "cell_type": "code",
   "execution_count": 15,
   "id": "f073c2d7",
   "metadata": {},
   "outputs": [],
   "source": [
    "# The wavelength must be (much more) larger than the lattice parameter \n",
    "# We can also check the width of the device w.r.t. the magnetic length, which is the extension of the wf \n",
    "\n",
    "lambda_F = 3 * np.pi * t* a /abs(Ef) # computation of the wavelength\n",
    "mag_length=np.sqrt(h_bar/(e*Bfield))\n",
    "\n",
    "if lambda_F/a < 2:\n",
    "    print('Warning : lambda_F must be larger than the lattice parameter a')\n",
    "    \n",
    "if mag_length > W/2:\n",
    "    print('Warning : wavefunctions extend across the whole bar')"
   ]
  },
  {
   "cell_type": "markdown",
   "id": "5b44c840",
   "metadata": {},
   "source": [
    "#### Visualization of the Landau Levels"
   ]
  },
  {
   "cell_type": "code",
   "execution_count": 16,
   "id": "2981ca22",
   "metadata": {
    "scrolled": false
   },
   "outputs": [
    {
     "name": "stdout",
     "output_type": "stream",
     "text": [
      "LL-4 = -0.22308232368408085\n",
      "LL-3 = -0.19319495944567694\n",
      "LL-2 = -0.15774302383986594\n",
      "LL-1 = -0.11154116184204042\n",
      "LL0 = -0.0\n",
      "LL1 = 0.11154116184204042\n",
      "LL2 = 0.15774302383986594\n",
      "LL3 = 0.19319495944567694\n",
      "LL4 = 0.22308232368408085\n",
      "Fermi Energy =0.17\n"
     ]
    },
    {
     "data": {
      "image/png": "[encoded data removed]",
      "text/plain": [
       "<Figure size 432x288 with 1 Axes>"
      ]
     },
     "metadata": {
      "needs_background": "light"
     },
     "output_type": "display_data"
    }
   ],
   "source": [
    "num_ll = 5\n",
    "ll_indexes = np.arange(0, num_ll)\n",
    "lls = -3 * t * a * np.sqrt(e  * ll_indexes * Bfield / (2 * h_bar))\n",
    "lls = np.append(lls[::-1], -lls[1:])\n",
    "\n",
    "plt.figure()\n",
    "\n",
    "for n, ll in enumerate(lls):\n",
    "     \n",
    "    # Landau levels as a function of the magnetic field Bfield and the Landau level label n\n",
    "    plt.hlines(ll, 0, 1, color=\"b\")\n",
    "    plt.hlines(ll, 0, 1, color=\"b\")\n",
    "    print(f'LL{n - (num_ll - 1)} = {ll}')\n",
    "    \n",
    "print (f'Fermi Energy ={Ef}')\n",
    "    \n",
    "plt.axhline(Ef, 0, 1, color='r', linestyle=\"dashed\", label='Fermi level', linewidth=1) # to plot the Fermi energy (in red)\n",
    "plt.xlabel('DOS [a.u.]')\n",
    "plt.ylabel('Energy [eV]')\n",
    "plt.legend()\n",
    "plt.show()"
   ]
  },
  {
   "cell_type": "markdown",
   "id": "eae3b8b8",
   "metadata": {},
   "source": [
    "### Visualization of the LL + step potential"
   ]
  },
  {
   "cell_type": "code",
   "execution_count": 17,
   "id": "5a71421e",
   "metadata": {
    "scrolled": false
   },
   "outputs": [
    {
     "data": {
      "image/png": "[encoded data removed]",
      "text/plain": [
       "<Figure size 432x288 with 1 Axes>"
      ]
     },
     "metadata": {
      "needs_background": "light"
     },
     "output_type": "display_data"
    },
    {
     "data": {
      "image/png": "[encoded data removed]",
      "text/plain": [
       "<Figure size 432x288 with 1 Axes>"
      ]
     },
     "metadata": {
      "needs_background": "light"
     },
     "output_type": "display_data"
    }
   ],
   "source": [
    "N=500\n",
    "x_positions = np.linspace(-L / 2, L / 2, N)\n",
    "y_positions = np.linspace(-W / 2, W / 2)\n",
    "ll_pot_matrix = np.zeros((2 * num_ll - 1, N))\n",
    "\n",
    "for x_idx, x_pos in enumerate(x_positions):\n",
    "    ll_pot_matrix[:, x_idx] = lls[:] + potential_function(x_pos, 0)\n",
    "\n",
    "plt.figure()\n",
    "for ll_row in ll_pot_matrix:\n",
    "    \n",
    "    plt.plot(x_positions, ll_row, color='blue')\n",
    "\n",
    "plt.axhline(Ef, color='red', linestyle=\"dashed\", label='Fermi level', linewidth=1)\n",
    "plt.xlabel('X position in the Hall bar')\n",
    "plt.ylabel('Energy [eV]')\n",
    "plt.title(f'LLs in a {potential_function.__name__.replace(\"_\", \" \")}')\n",
    "plt.legend()\n",
    "\n",
    "plt.figure()\n",
    "xx, yy = np.meshgrid(x_positions, y_positions)\n",
    "zz = lorentzian_potential(xx, yy)\n",
    "plt.contourf(xx, yy, zz, levels=50, cmap=\"jet\")\n",
    "plt.axis('equal')\n",
    "\n",
    "plt.show()"
   ]
  },
  {
   "cell_type": "markdown",
   "id": "e42e2aa3",
   "metadata": {},
   "source": [
    "### Current and wf density"
   ]
  },
  {
   "cell_type": "markdown",
   "id": "55774c9f",
   "metadata": {},
   "source": [
    "#### Wave function"
   ]
  },
  {
   "cell_type": "code",
   "execution_count": 18,
   "id": "6a643fc3",
   "metadata": {},
   "outputs": [],
   "source": [
    "wfs = kwant.wave_function(sys, energy=Ef, params = params) # the wf is obtained by giving the parameters in arguments\n",
    "scattering_wf = wfs(0) # all scattering wave functions from lead 0"
   ]
  },
  {
   "cell_type": "markdown",
   "id": "1feee122",
   "metadata": {},
   "source": [
    "#### Current density\n"
   ]
  },
  {
   "cell_type": "code",
   "execution_count": null,
   "id": "a3cc38b9",
   "metadata": {
    "scrolled": false
   },
   "outputs": [],
   "source": [
    "# To obtain edge states, a strong field is required, in order to be in the high magnetic field regime. 2 T gives edge states, \n",
    "# 0.1 T gives normal conduction\n",
    "\n",
    "J0 = kwant.operator.Current(sys)\n",
    "wf_left = wfs(0)\n",
    "wf_right = wfs(1)\n",
    "\n",
    "current = sum(J0(p, params = params) for p in wf_left) # to sum over all the lead's mode\n",
    "current_right=sum(J0(p, params = params) for p in wf_right)\n",
    "\n",
    "# kwant.plotter.current(sys, current, file=\"current.pdf\")\n",
    "kwant.plotter.current(sys, current, cmap=\"jet\", max_linewidth=0, min_linewidth=0, file=\"current_left.pdf\")\n",
    "kwant.plotter.current(sys, current_right, cmap=\"jet\", max_linewidth=0, min_linewidth=0, file=\"current_right.pdf\")\n",
    "plt.show()"
   ]
  },
  {
   "cell_type": "markdown",
   "id": "85219244",
   "metadata": {},
   "source": [
    "To have clear current plots you have to make sure the potential zone does not overlap with the leads."
   ]
  },
  {
   "cell_type": "markdown",
   "id": "69553cde",
   "metadata": {},
   "source": [
    "### Plotting Hall conductance as function of the back gate voltage applied (Fermi level)"
   ]
  },
  {
   "cell_type": "code",
   "execution_count": null,
   "id": "c5bcd78e",
   "metadata": {},
   "outputs": [],
   "source": [
    "Ef_min = lls[0 + (num_ll - 1)] + 5e-2  # at ll0\n",
    "Ef_max = lls[3 + (num_ll - 1)] + 5e-2  # at ll+3 \n",
    "num_it = 200 # discretization of the fermi level \n",
    "num_leads = 6\n",
    "\n",
    "fermi_energies = np.linspace(Ef_min, Ef_max, num_it)\n",
    "R = np.zeros((num_it, num_leads - 1)) # r_xx = R[:, 3] and r_xy = R[:, 4]\n",
    "\n",
    "params = dict(Bfield = Bfield, v_tip = v_tip)\n",
    "\n",
    "for idx, en in enumerate(fermi_energies):\n",
    "        \n",
    "    try:    \n",
    "        s = kwant.smatrix(sys, energy=en, params=params)\n",
    "        cond = np.array([[s.transmission(i, j) for j in range(num_leads)] for i in range(num_leads)])     \n",
    "        cond -= np.diag(cond.sum(axis=0))  \n",
    "        cm = s.conductance_matrix()[:-1, :-1] # we don't even use the cond matrix so what is the point?\n",
    "#         cm = cond[:-1, :-1]\n",
    "        \n",
    "        R[idx] = np.linalg.solve(cm, [1, -1, 0, 0, 0])\n",
    "    \n",
    "    except Exception as e:\n",
    "        \n",
    "        print(f'problem encountered at iteration {idx} with fermi energy {en} with the following error: \\n {e}')"
   ]
  },
  {
   "cell_type": "markdown",
   "id": "e46d74da",
   "metadata": {},
   "source": [
    "### Hall resistivity vs Fermi Energy"
   ]
  },
  {
   "cell_type": "code",
   "execution_count": null,
   "id": "fcc7dee3",
   "metadata": {},
   "outputs": [],
   "source": [
    "plt.figure()\n",
    "plt.title(\"Hall resistance w.r.t. the Fermi energy\")\n",
    "plt.plot(fermi_energies, R[:, 4], color='red', label=\"$V_{tip}=\" + f\"{v_tip}$\")\n",
    "\n",
    "for _, ll in enumerate(lls):\n",
    "    if(Ef_min < ll < Ef_max):\n",
    "        plt.axvline(x=ll, color='k', linestyle='--', linewidth=1)\n",
    "        \n",
    "plt.xlabel('Fermi Energy [eV]')\n",
    "plt.ylabel('$R_{xy}$ [h/2e²]')\n",
    "plt.legend()\n",
    "\n",
    "if(1):\n",
    "    plt.tight_layout()\n",
    "    plt.savefig('hr6_p02_nd.pdf')\n",
    "else: \n",
    "    plt.show()"
   ]
  },
  {
   "cell_type": "markdown",
   "id": "c5ae287c",
   "metadata": {},
   "source": [
    "### Longitudinal resistivity vs Fermi energy (with non-zero tip potential)"
   ]
  },
  {
   "cell_type": "code",
   "execution_count": null,
   "id": "8ab3b687",
   "metadata": {
    "scrolled": true
   },
   "outputs": [],
   "source": [
    "overhead_amount = 0 # 140\n",
    "plt.figure()\n",
    "plt.title(\"Longitudinal resistance w.r.t. the Fermi energy\")\n",
    "plt.plot(fermi_energies[overhead_amount:], R[overhead_amount:, 3], color='blue', label=\"$V_{tip}=\" + f\"{v_tip}$\")\n",
    "\n",
    "# plt.axhline(y=1/3, linestyle='--')\n",
    "# plt.axhline(y=1/2.5, color='k')\n",
    "\n",
    "for _, ll in enumerate(lls):\n",
    "    if(Ef_min < ll < Ef_max):\n",
    "        plt.axvline(x=ll, color='k', linestyle='--', linewidth=1)\n",
    "        \n",
    "plt.xlabel('Fermi energy [eV]')\n",
    "plt.ylabel('$R_{xx}$ [h/2e²]')\n",
    "plt.legend()\n",
    "\n",
    "if(0):\n",
    "    plt.tight_layout()\n",
    "    plt.savefig('lr6_p02_nd.pdf')\n",
    "else: \n",
    "    plt.show()"
   ]
  },
  {
   "cell_type": "code",
   "execution_count": null,
   "id": "0e54542a",
   "metadata": {},
   "outputs": [],
   "source": [
    "Ef_min = lls[0 + (num_ll - 1)] + 5e-2  # at ll0\n",
    "Ef_max = lls[3 + (num_ll - 1)] + 5e-2  # at ll+3 \n",
    "num_it = 100 # discretization of the fermi level \n",
    "num_leads = 6\n",
    "\n",
    "potential_function = step_potential\n",
    "v_tip = 0 # needed because previously assigned\n",
    "\n",
    "fermi_energies = np.linspace(Ef_min, Ef_max, num_it)\n",
    "R_0 = np.zeros((num_it, num_leads - 1)) # r_xx = R[:, 3] and r_xy = R[:, 4]\n",
    "\n",
    "params = dict(Bfield = Bfield, v_tip = v_tip)\n",
    "\n",
    "for idx, en in enumerate(fermi_energies):\n",
    "        \n",
    "    try:    \n",
    "        s = kwant.smatrix(sys, energy=en, params=params)\n",
    "        cond = np.array([[s.transmission(i, j) for j in range(num_leads)] for i in range(num_leads)])     \n",
    "        cond -= np.diag(cond.sum(axis=0))  \n",
    "        cm = s.conductance_matrix()[:-1, :-1] # we don't even use the cond matrix so what is the point?\n",
    "#         cm = cond[:-1, :-1]\n",
    "        \n",
    "        R_0[idx] = np.linalg.solve(cm, [1, -1, 0, 0, 0])\n",
    "    \n",
    "    except Exception as e:\n",
    "        \n",
    "        print(f'problem encountered at iteration {idx} with fermi energy {en} with the following error: \\n {e}')"
   ]
  },
  {
   "cell_type": "code",
   "execution_count": null,
   "id": "6f09fd8d",
   "metadata": {},
   "outputs": [],
   "source": [
    "plt.figure()\n",
    "plt.title(\"Hall resistance w.r.t. the Fermi energy\")\n",
    "plt.plot(fermi_energies, R[:, 4], color='red', label=\"$V_{tip} =\" + f\" -0.02$\")\n",
    "plt.plot(fermi_energies, R_0[:, 4], '--k', label=\"$V_{tip} = 0$\")\n",
    "\n",
    "for _, ll in enumerate(lls):\n",
    "    if(Ef_min < ll < Ef_max):\n",
    "        plt.axvline(x=ll, color='k', linestyle='--', linewidth=1)\n",
    "        \n",
    "# plt.axhline(y=1/3, color='k', linestyle='--', linewidth=1)   # v=6  v'=2  v=6\n",
    "# plt.axhline(y=1/10, color='k', linestyle='--', linewidth=1)  # v=10 v'=6  v=10\n",
    "# plt.axhline(y=1/35, color='k', linestyle='--', linewidth=1)  # v=14 v'=10 v=14\n",
    "\n",
    "        \n",
    "plt.xlabel('Fermi energy [eV]')\n",
    "plt.ylabel('$R_{xy}$ [h/2e²]')\n",
    "plt.legend()\n",
    "\n",
    "if(0):\n",
    "    plt.tight_layout()\n",
    "    plt.savefig('hb_base.pdf')\n",
    "else: \n",
    "    plt.show()"
   ]
  },
  {
   "cell_type": "code",
   "execution_count": null,
   "id": "424028e6",
   "metadata": {},
   "outputs": [],
   "source": [
    "overhead_amount = 0 # 140\n",
    "plt.figure()\n",
    "plt.title(\"Longitudinal resistance w.r.t. the Fermi energy\")\n",
    "plt.plot(fermi_energies[overhead_amount:], R[overhead_amount:, 3], color='blue', label=\"$V_{tip} = -0.02$\")\n",
    "plt.plot(fermi_energies[overhead_amount:], R_0[overhead_amount:, 3], '--k', label=\"$V_{tip} = 0$\")\n",
    "\n",
    "# plt.axhline(y=1/3, linestyle='--')\n",
    "# plt.axhline(y=1/2.5, color='k')\n",
    "\n",
    "for _, ll in enumerate(lls):\n",
    "    if(Ef_min < ll < Ef_max):\n",
    "        plt.axvline(x=ll, color='k', linestyle='--', linewidth=1)\n",
    "        \n",
    "plt.xlabel('Fermi energy [eV]')\n",
    "plt.ylabel('$R_{xx}$ [h/2e²]')\n",
    "plt.legend()\n",
    "\n",
    "if(0):\n",
    "    plt.tight_layout()\n",
    "    plt.savefig('longitudinal_resistivity.pdf')\n",
    "else: \n",
    "    plt.show()"
   ]
  }
 ],
 "metadata": {
  "kernelspec": {
   "display_name": "Python 3 (ipykernel)",
   "language": "python",
   "name": "python3"
  },
  "language_info": {
   "codemirror_mode": {
    "name": "ipython",
    "version": 3
   },
   "file_extension": ".py",
   "mimetype": "text/x-python",
   "name": "python",
   "nbconvert_exporter": "python",
   "pygments_lexer": "ipython3",
   "version": "3.8.10"
  }
 },
 "nbformat": 4,
 "nbformat_minor": 5
}
