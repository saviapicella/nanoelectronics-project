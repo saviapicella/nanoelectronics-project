{
 "cells": [
  {
   "cell_type": "markdown",
   "id": "7d211f71",
   "metadata": {},
   "source": [
    "# Graphene quantum Hall effect"
   ]
  },
  {
   "cell_type": "code",
   "execution_count": 211,
   "id": "a87a2a3c",
   "metadata": {},
   "outputs": [],
   "source": [
    "import kwant\n",
    "import scipy\n",
    "import numpy as np\n",
    "import random\n",
    "from matplotlib import pyplot as plt\n",
    "# A COMMENT TO COMMIT"
   ]
  },
  {
   "cell_type": "markdown",
   "id": "57b88c51",
   "metadata": {},
   "source": [
    "## Fundamental constants"
   ]
  },
  {
   "cell_type": "code",
   "execution_count": 212,
   "id": "c3929b67",
   "metadata": {},
   "outputs": [
    {
     "name": "stdout",
     "output_type": "stream",
     "text": [
      "1.0545716346179718e-34\n"
     ]
    }
   ],
   "source": [
    "h = 6.626069e-34  # Planck constant (Js)\n",
    "h_reduced=h/(2*np.pi)                            ##With h_reduced oom larger and Bmax=30, it works perfectly\n",
    "## Scaling factor of 10 required --> h_reduced normal, Bmax=3\n",
    "e = 1.602e-19      # electron charge (C)\n",
    "c = 299792458       # Light celerity (m/s)\n",
    "kB = 1.3806503e-23  # Boltzmann constant (kg m2/Ks2)\n",
    "m_e = 9.1e-31       # electron mass (kg)\n",
    "\n",
    "print(h_reduced)"
   ]
  },
  {
   "cell_type": "markdown",
   "id": "41f1f3c9",
   "metadata": {},
   "source": [
    "### Scaling"
   ]
  },
  {
   "cell_type": "code",
   "execution_count": 213,
   "id": "c471f4bd",
   "metadata": {},
   "outputs": [],
   "source": [
    "asquare = 1e-9 # [m] a is the lattice parameter\n",
    "tsquare = 1 # [eV] t is the hopping parameter\n",
    "\n",
    "scaling = 4 # scaling factor\n",
    "\n",
    "\"\"\"scaling\"\"\"\n",
    "\n",
    "a = asquare * scaling\n",
    "t = tsquare / scaling"
   ]
  },
  {
   "cell_type": "markdown",
   "id": "9514f54b",
   "metadata": {},
   "source": [
    "### Geometrical parameters"
   ]
  },
  {
   "cell_type": "code",
   "execution_count": 214,
   "id": "86f1afd4",
   "metadata": {},
   "outputs": [],
   "source": [
    "W=200e-9 ; L = 1000e-9 # width and length of the electronic system\n",
    "\n",
    "## For width smaller than 50 nm, the script does not work since the magnetic length is 30 nm so wf start to overlap (?)\n",
    "## Also for width slightly larger than that, the steps in the Hall resistance are lost. For w=200 nm they are recovered.\n",
    "length_lead=200e-9                                         \n",
    "posL = 300e-9 # pos of the leads along x\n",
    "lead_ext = posL + length_lead/2\n",
    "lead_int = posL - length_lead/2\n",
    "\n",
    "flag=0"
   ]
  },
  {
   "cell_type": "markdown",
   "id": "1c7558c3",
   "metadata": {},
   "source": [
    "#### Geometry of the device"
   ]
  },
  {
   "cell_type": "code",
   "execution_count": 215,
   "id": "9cd338d4",
   "metadata": {},
   "outputs": [],
   "source": [
    "def geom(pos):\n",
    "    x, y = pos\n",
    "    \n",
    "    if -L/2 < x < L/2 and -W/2 < y < W/2:\n",
    "        return True\n",
    "    else:\n",
    "        return False"
   ]
  },
  {
   "cell_type": "markdown",
   "id": "7d163064",
   "metadata": {},
   "source": [
    "#### Geometry of the leads"
   ]
  },
  {
   "cell_type": "code",
   "execution_count": 216,
   "id": "8e9136b8",
   "metadata": {},
   "outputs": [],
   "source": [
    "def lead_shape(pos):\n",
    "    x, y = pos\n",
    "    \n",
    "    return -W/2 < y < W/2\n",
    "\n",
    "def lead_shape_left(pos):\n",
    "    x, y = pos\n",
    "    \n",
    "    return -lead_ext < x < -lead_int\n",
    "\n",
    "def lead_shape_right(pos):\n",
    "    x, y = pos\n",
    "    \n",
    "    return lead_ext > x > lead_int"
   ]
  },
  {
   "cell_type": "markdown",
   "id": "174cd0d2",
   "metadata": {},
   "source": [
    "#### Defining onsite and hopping parameters"
   ]
  },
  {
   "cell_type": "code",
   "execution_count": 217,
   "id": "68423b85",
   "metadata": {},
   "outputs": [],
   "source": [
    "def onsite(site):\n",
    "    \"\"\"\n",
    "    Definition of the potential. To reach the bottom of the conduction band, the potential is set at 4*t.\n",
    "    A zone of potential Vg (above the bottom of the conduction band) can be defined in a given zone \n",
    "    (square or circle here). \n",
    "    \n",
    "    \"\"\"\n",
    "    x, y = site.pos\n",
    "    \n",
    "    #Theoretically we should insert the tip potential here (?)\n",
    "    #For now we set Vg=0\n",
    "    \n",
    "    rho = np.sqrt(x**2 + y**2)\n",
    "    \n",
    "    in_shape_1 = rho < radius\n",
    "    in_shape_2 = abs(x) < l_pot/2 and y > -W/2 + w_pot\n",
    "    \n",
    "    if in_shape_2:\n",
    "        pot=0 + Vg + disorder(site)\n",
    "    \n",
    "        return pot\n",
    "    else:\n",
    "        pot=0+disorder(site)\n",
    "        \n",
    "        return pot"
   ]
  },
  {
   "cell_type": "markdown",
   "id": "9e3c5c3f",
   "metadata": {},
   "source": [
    "#### Disorder potential"
   ]
  },
  {
   "cell_type": "code",
   "execution_count": 218,
   "id": "169ca1cd",
   "metadata": {},
   "outputs": [],
   "source": [
    "def disorder(pos):\n",
    "    x, y = pos\n",
    "    \n",
    "   \n",
    "    \n",
    "    #pot=0.01*random.uniform(0,t)\n",
    "    pot=0\n",
    "    \n",
    "    if (pot!=0):\n",
    "        flag=1\n",
    "        \n",
    "    \n",
    "    return pot"
   ]
  },
  {
   "cell_type": "markdown",
   "id": "8832d6e3",
   "metadata": {},
   "source": [
    "Introducing a disorder of 0.01 leads to peaks in longitudinal resistance but we retain anyway plateaus in Hall resistance."
   ]
  },
  {
   "cell_type": "markdown",
   "id": "8fd81382",
   "metadata": {},
   "source": [
    "#### Hopping parameter"
   ]
  },
  {
   "cell_type": "code",
   "execution_count": 219,
   "id": "49c70bf2",
   "metadata": {},
   "outputs": [],
   "source": [
    "def hopping(site_i, site_j):   \n",
    "    xi, yi = site_i.pos\n",
    "    xj, yj = site_j.pos\n",
    "    \n",
    "    \n",
    "\n",
    "    \"\"\" Change the definition of hop to include the magnetic field Bfield in the definition of the hopping parameter \"\"\"\n",
    "    \n",
    "    hop = t*np.exp(-1j*e*Bfield*(yi+yj)*(xj-xi)/(2*h_reduced))  # to be completed (as a function of Bfield) #I think there is a - in the exponent\n",
    "    \n",
    "    \n",
    "    #print('Hopping parameter is ',hop)\n",
    "    \n",
    "    return hop"
   ]
  },
  {
   "cell_type": "markdown",
   "id": "d9b5d2f7",
   "metadata": {},
   "source": [
    "## Building the system"
   ]
  },
  {
   "cell_type": "code",
   "execution_count": 220,
   "id": "b0974cdf",
   "metadata": {},
   "outputs": [],
   "source": [
    "def sys_builder():\n",
    "    lat=kwant.lattice.honeycomb(a, norbs=1)\n",
    "    \n",
    "    sys=kwant.Builder()\n",
    "    sys[lat.shape(geom, (0,0))]=onsite              #you assign to each site in lat.shape(geom, (0,0)) (all the lattice) the value onsite\n",
    "    sys[lat.neighbors()]=hopping\n",
    "\n",
    "    \n",
    "    \n",
    "  ### Schematic of the Hall bar ###\n",
    "\n",
    "#   ,----------o----Vxx----.--------------.\n",
    "#   |  Lead 3  |           |  Lead 5    __|__\n",
    "#  Vxy     __|   |_______|   |__        '''''    (ground)\n",
    "#   |               I\n",
    "#   | Lead 1      ----->      Lead 2\n",
    "#   |      __     _______     __\n",
    "#   |        |   |       |   |\n",
    "#   |  Lead 4  |               Lead 6\n",
    "#   `----------'\n",
    "    \n",
    "    \"\"\" Lead 1 \"\"\"\n",
    "    sym0 = kwant.TranslationalSymmetry(lat.vec((-1, 0)))\n",
    "    lead0 = kwant.Builder(sym0)\n",
    "    lead0[lat.shape(lead_shape, (0, 0))] = 0\n",
    "    lead0[lat.neighbors()] = hopping\n",
    "\n",
    "    \"\"\" Lead 2 \"\"\"\n",
    "    sym1 = kwant.TranslationalSymmetry(lat.vec((1, 0)))\n",
    "    lead1 = kwant.Builder(sym1)\n",
    "    lead1[lat.shape(lead_shape, (0, 0))] = 0    \n",
    "    lead1[lat.neighbors()] = hopping\n",
    "\n",
    "    \"\"\" Lead 3 \"\"\"\n",
    "    sym2 = kwant.TranslationalSymmetry(lat.vec((0, 1)))\n",
    "    lead2 = kwant.Builder(sym2)\n",
    "    lead2[lat.shape(lead_shape_left, (-posL, 0))] = 0\n",
    "    lead2[lat.neighbors()] = hopping\n",
    "\n",
    "    \"\"\" Lead 4 \"\"\"\n",
    "    sym3 = kwant.TranslationalSymmetry(lat.vec((0, -1)))\n",
    "    lead3 = kwant.Builder(sym3)\n",
    "    lead3[lat.shape(lead_shape_left, (-posL, 0))] = 0\n",
    "    lead3[lat.neighbors()] = hopping\n",
    "\n",
    "    \"\"\" Lead 5 \"\"\"                             #sym already created with the correct symmetry, you just need to put the correct position\n",
    "    lead4 = kwant.Builder(sym2)\n",
    "    lead4[lat.shape(lead_shape_right, (posL, 0))] = 0\n",
    "    lead4[lat.neighbors()] = hopping\n",
    "    \n",
    "    \"\"\"Lead 6\"\"\"\n",
    "    lead5 = kwant.Builder(sym3)\n",
    "    lead5[lat.shape(lead_shape_right, (posL,0))] = 0\n",
    "    lead5[lat.neighbors()]= hopping\n",
    "    \n",
    "    \"\"\" The leads are attached \"\"\"\n",
    "    sys.attach_lead(lead0)\n",
    "    sys.attach_lead(lead1)\n",
    "    sys.attach_lead(lead2)\n",
    "    sys.attach_lead(lead3)\n",
    "    sys.attach_lead(lead4)\n",
    "    sys.attach_lead(lead5)\n",
    " \n",
    "    sys = sys.finalized()\n",
    "    \n",
    "    \n",
    "    \n",
    "    return sys\n",
    "\n",
    "    "
   ]
  },
  {
   "cell_type": "code",
   "execution_count": 221,
   "id": "7f92ff4b",
   "metadata": {},
   "outputs": [],
   "source": [
    "sys= sys_builder()"
   ]
  },
  {
   "cell_type": "markdown",
   "id": "5ce01c8e",
   "metadata": {},
   "source": [
    "#### Plotting the system"
   ]
  },
  {
   "cell_type": "code",
   "execution_count": 222,
   "id": "c576a2af",
   "metadata": {},
   "outputs": [
    {
     "data": {
      "image/png": "[encoded data removed]",
      "text/plain": [
       "<Figure size 432x288 with 1 Axes>"
      ]
     },
     "metadata": {
      "needs_background": "light"
     },
     "output_type": "display_data"
    },
    {
     "data": {
      "image/png": "[encoded data removed]",
      "text/plain": [
       "<Figure size 432x288 with 1 Axes>"
      ]
     },
     "execution_count": 222,
     "metadata": {},
     "output_type": "execute_result"
    }
   ],
   "source": [
    "kwant.plot(sys, site_size = 1e-9)"
   ]
  },
  {
   "cell_type": "markdown",
   "id": "7fdf8c5d",
   "metadata": {},
   "source": [
    "## Electronic properties"
   ]
  },
  {
   "cell_type": "code",
   "execution_count": 246,
   "id": "78c49cc5",
   "metadata": {},
   "outputs": [
    {
     "name": "stdout",
     "output_type": "stream",
     "text": [
      "{'Bfield': 1.8285678225446869, 'Vg': -0.1}\n"
     ]
    }
   ],
   "source": [
    "Ef=0.05 #maybe it could be modified\n",
    "Bfield=2*abs(Ef)**2*h_reduced/(9*t**2*a**2*e*0.2)   #The Fermi energy should be in between two LL\n",
    "#Bfield=0.2\n",
    "\n",
    "\n",
    "\"\"\" Parameter for the zero density zone \"\"\"  #these could be modified for the tip potential\n",
    "Vg = -0.1\n",
    "l_pot = 300e-9\n",
    "w_pot = 0\n",
    "radius = 250e-9\n",
    "\n",
    "#print(Bfield)\n",
    "\n",
    "params = dict(Bfield=Bfield, Vg = Vg) # params take the magnetic field as a parameter for the function hopping\n",
    "print(params)\n",
    "\n"
   ]
  },
  {
   "cell_type": "code",
   "execution_count": 224,
   "id": "f073c2d7",
   "metadata": {},
   "outputs": [
    {
     "name": "stdout",
     "output_type": "stream",
     "text": [
      "lambda_F= 1.884955592153876e-07\n",
      "l_b= 1.8973665961010277e-08\n"
     ]
    }
   ],
   "source": [
    "\"\"\" The wavelength must be (much more) larger than the lattice parameter \"\"\"\n",
    "\"\"\" We can also check the width of the device wrt the magnetic length, which is the extension of the wf\"\"\"\n",
    "lambda_F = 3 * np.pi * t* a /abs(Ef) # computation of the wavelength\n",
    "mag_length=np.sqrt(h_reduced/(e*Bfield))\n",
    "\n",
    "print(\"lambda_F=\", lambda_F);\n",
    "print(\"l_b=\", mag_length)\n",
    "\n",
    "if lambda_F/a < 2:\n",
    "    print('Warning : lambda_F must be larger than the lattice parameter a')\n",
    "#if lambda_F > W/2:\n",
    "#    print('Warning : lambda_F larger than half width of the bar')\n",
    "if mag_length > W/2:\n",
    "    print('Warning : wavefunctions extend across the whole bar')"
   ]
  },
  {
   "cell_type": "markdown",
   "id": "5b44c840",
   "metadata": {},
   "source": [
    "#### Visualization of the Landau levels"
   ]
  },
  {
   "cell_type": "code",
   "execution_count": 256,
   "id": "2981ca22",
   "metadata": {},
   "outputs": [
    {
     "name": "stdout",
     "output_type": "stream",
     "text": [
      "LL n 0 = 0.0\n",
      "LL n 1 = 0.11180339887498948\n",
      "LL n 2 = 0.15811388300841897\n",
      "LL n 3 = 0.19364916731037082\n",
      "LL n 4 = 0.22360679774997896\n",
      "Fermi Energy = 0.05\n"
     ]
    },
    {
     "data": {
      "image/png": "[encoded data removed]",
      "text/plain": [
       "<Figure size 432x288 with 1 Axes>"
      ]
     },
     "metadata": {
      "needs_background": "light"
     },
     "output_type": "display_data"
    }
   ],
   "source": [
    "num_LL = 5\n",
    "\n",
    "plt.figure()\n",
    "\n",
    "for n in range(num_LL):\n",
    "    \n",
    "    \"\"\" \n",
    "    Change the definition of En to calculate the Landau levels energy as a function of\n",
    "    the magnetic field Bfield and the Landau level label n\n",
    "    \n",
    "    \"\"\"\n",
    "    En_plus = 3*t*a*np.sqrt(e/(2*h_reduced))*np.sqrt(n*Bfield) # to be completed\n",
    "    En_minus = -3*t*a*np.sqrt(e/(2*h_reduced))*np.sqrt(n*Bfield)\n",
    "    \n",
    "    x = np.array([0, 1]) ; \n",
    "    y_plus = En_plus*np.array([1, 1]) # in order to plot the Landau levels\n",
    "    y_minus = En_minus*np.array([1, 1])\n",
    "    plt.plot(x, y_plus, 'b')\n",
    "    plt.plot(x, y_minus, 'b')\n",
    "    \n",
    "    print('LL n',n, '=',En_plus)\n",
    "    \n",
    "print ('Fermi Energy =',Ef)\n",
    "    \n",
    "plt.plot(x, Ef*np.array([1, 1]), 'r-.') # to plot the Fermi energy (in red)\n",
    "\n",
    "plt.xlabel('DOS (a.u.)')\n",
    "plt.ylabel('Energy (eV)')\n",
    "\n",
    "plt.show()"
   ]
  },
  {
   "cell_type": "markdown",
   "id": "5d559540",
   "metadata": {},
   "source": [
    "#### Visualization of the LL + potential"
   ]
  },
  {
   "cell_type": "code",
   "execution_count": 237,
   "id": "5a71421e",
   "metadata": {
    "scrolled": false
   },
   "outputs": [
    {
     "name": "stdout",
     "output_type": "stream",
     "text": [
      "Vg =  -0.05\n",
      "n 0 LL + pot = 0.05\n",
      "n 0 LL + pot = 0.05\n",
      "n 1 LL + pot = 0.16180339887498948\n",
      "n -1 LL + pot = -0.06180339887498948\n",
      "n 2 LL + pot = 0.208113883008419\n",
      "n -2 LL + pot = -0.10811388300841897\n",
      "n 3 LL + pot = 0.24364916731037084\n",
      "n -3 LL + pot = -0.1436491673103708\n",
      "n 4 LL + pot = 0.273606797749979\n",
      "n -4 LL + pot = -0.17360679774997895\n",
      "Fermi Energy = 0.05\n"
     ]
    },
    {
     "data": {
      "image/png": "[encoded data removed]",
      "text/plain": [
       "<Figure size 432x288 with 1 Axes>"
      ]
     },
     "metadata": {
      "needs_background": "light"
     },
     "output_type": "display_data"
    }
   ],
   "source": [
    "\n",
    "N=500;\n",
    "\n",
    "plt.figure()\n",
    "d=np.linspace(0,L,N)\n",
    "\n",
    "print('Vg = ',Vg)\n",
    "\n",
    "LL_pot_plus = np.zeros(num_LL)\n",
    "LL_pot_minus = np.zeros(num_LL)\n",
    "En_plot_plus= np.zeros(num_LL)\n",
    "En_plot_minus = np.zeros(num_LL)\n",
    "\n",
    "for n in range(num_LL):\n",
    "    \n",
    "    \"\"\" \n",
    "    Change the definition of En to calculate the Landau levels energy as a function of\n",
    "    the magnetic field Bfield and the Landau level label n\n",
    "    \n",
    "    \"\"\"\n",
    "    \n",
    "    \n",
    "    \n",
    "    En_plus = 3*t*a*np.sqrt(e/(2*h_reduced))*np.sqrt(n*Bfield) # to be completed\n",
    "    En_minus = -3*t*a*np.sqrt(e/(2*h_reduced))*np.sqrt(n*Bfield)\n",
    "    \n",
    "    LL_pot_plus[n]=En_plus-Vg\n",
    "    LL_pot_minus[n]=En_minus-Vg\n",
    "    En_plot_plus[n]=LL_pot_plus[n] + Vg\n",
    "    En_plot_minus[n]=LL_pot_minus[n] + Vg\n",
    "    \n",
    "    En_plus_pot=np.zeros(N)\n",
    "    En_minus_pot=np.zeros(N)\n",
    "    \n",
    "    print('n', n,  'LL + pot =', LL_pot_plus[n])\n",
    "    print('n', -n, 'LL + pot =', LL_pot_minus[n])\n",
    "    \n",
    "    for i,X in enumerate(d):\n",
    "        En_plus_pot[i] = En_plus\n",
    "        En_minus_pot[i] = En_minus\n",
    "        if (X > (L-l_pot)/2  and X< (L+l_pot)/2 ):\n",
    "            En_plus_pot[i] = En_plus - Vg;\n",
    "            En_minus_pot[i] = En_minus - Vg;\n",
    "    \n",
    "    if (n==0):\n",
    "        plt.plot(d,En_plus_pot,'b', label = \"0th LL\") \n",
    "        plt.plot(d,En_minus_pot,'b')\n",
    "    elif (n==1):\n",
    "        plt.plot(d,En_plus_pot,'r', label = \"1st LL\")\n",
    "        plt.plot(d,En_minus_pot,'r')\n",
    "    elif (n==2):\n",
    "        plt.plot(d,En_plus_pot,'y', label = \"2nd LL\")\n",
    "        plt.plot(d,En_minus_pot,'y') \n",
    "    elif (n==3):\n",
    "        plt.plot(d,En_plus_pot,'g', label = \"3rd LL\")\n",
    "        plt.plot(d,En_minus_pot,'g')\n",
    "    elif (n==4):\n",
    "        plt.plot(d,En_plus_pot,'k', label = \"4th LL\")\n",
    "        plt.plot(d,En_minus_pot,'k')\n",
    "        \n",
    "        \n",
    "        \n",
    "print ('Fermi Energy =',Ef)\n",
    "    \n",
    "plt.plot(d, Ef*np.ones(N), 'r-.') # to plot the Fermi energy (in red)\n",
    "\n",
    "plt.xlabel('X position in the Hall bar')\n",
    "plt.ylabel('Energy (eV)')\n",
    "\n",
    "plt.ylim(-0.42,0.42)\n",
    "plt.text(0, -0.35, \"B = 1.82 T, Ef = 0.05 eV, V_tip=0.08 V\")\n",
    "\n",
    "plt.legend(loc =\"lower right\")\n",
    "plt.show()\n",
    "\n",
    "\n"
   ]
  },
  {
   "cell_type": "code",
   "execution_count": 227,
   "id": "8004b709",
   "metadata": {},
   "outputs": [
    {
     "name": "stdout",
     "output_type": "stream",
     "text": [
      "[-0.1 -0.1 -0.1 -0.1 -0.1 -0.1 -0.1 -0.1 -0.1 -0.1 -0.1 -0.1 -0.1 -0.1\n",
      " -0.1 -0.1 -0.1 -0.1 -0.1 -0.1 -0.1 -0.1 -0.1 -0.1 -0.1 -0.1 -0.1 -0.1\n",
      " -0.1 -0.1 -0.1 -0.1 -0.1 -0.1 -0.1 -0.1 -0.1 -0.1 -0.1 -0.1 -0.1 -0.1\n",
      " -0.1 -0.1 -0.1 -0.1 -0.1 -0.1 -0.1 -0.1 -0.1 -0.1 -0.1 -0.1 -0.1 -0.1\n",
      " -0.1 -0.1 -0.1 -0.1 -0.1 -0.1 -0.1 -0.1 -0.1 -0.1 -0.1 -0.1 -0.1 -0.1\n",
      " -0.1 -0.1 -0.1 -0.1 -0.1 -0.1 -0.1 -0.1 -0.1 -0.1 -0.1 -0.1 -0.1 -0.1\n",
      " -0.1 -0.1 -0.1 -0.1 -0.1 -0.1 -0.1 -0.1 -0.1 -0.1 -0.1 -0.1 -0.1 -0.1\n",
      " -0.1 -0.1 -0.1 -0.1 -0.1 -0.1 -0.1 -0.1 -0.1 -0.1 -0.1 -0.1 -0.1 -0.1\n",
      " -0.1 -0.1 -0.1 -0.1 -0.1 -0.1 -0.1 -0.1 -0.1 -0.1 -0.1 -0.1 -0.1 -0.1\n",
      " -0.1 -0.1 -0.1 -0.1 -0.1 -0.1 -0.1 -0.1 -0.1 -0.1 -0.1 -0.1 -0.1 -0.1\n",
      " -0.1 -0.1 -0.1 -0.1 -0.1 -0.1 -0.1 -0.1 -0.1 -0.1  0.   0.   0.   0.\n",
      "  0.   0.   0.   0.   0.   0.   0.   0.   0.   0.   0.   0.   0.   0.\n",
      "  0.   0.   0.   0.   0.   0.   0.   0.   0.   0.   0.   0.   0.   0.\n",
      "  0.   0.   0.   0.   0.   0.   0.   0.   0.   0.   0.   0.   0.   0.\n",
      "  0.   0.   0.   0.   0.1  0.1  0.1  0.1  0.1  0.1  0.1  0.1  0.1  0.1\n",
      "  0.1  0.1  0.1  0.1  0.1  0.1  0.1  0.1  0.1  0.1  0.1  0.1  0.1  0.1\n",
      "  0.1  0.1  0.1  0.1  0.1  0.1  0.1  0.1  0.1  0.1  0.1  0.1  0.1  0.1\n",
      "  0.1  0.1  0.1  0.1  0.1  0.1  0.1  0.1  0.1  0.1  0.1  0.1  0.1  0.1\n",
      "  0.1  0.1  0.1  0.1  0.1  0.1  0.1  0.1  0.1  0.1  0.1  0.1  0.1  0.1\n",
      "  0.1  0.1  0.1  0.1  0.1  0.1  0.1  0.1  0.1  0.1  0.1  0.1  0.1  0.1\n",
      "  0.1  0.1  0.1  0.1  0.1  0.1  0.1  0.1  0.1  0.1  0.1  0.1  0.1  0.1\n",
      "  0.1  0.1  0.1  0.1  0.1  0.1  0.   0.   0.   0.   0.   0.   0.   0.\n",
      "  0.   0.   0.   0.   0.   0.   0.   0.   0.   0.   0.   0.   0.   0.\n",
      "  0.   0.   0.   0.   0.   0.   0.   0.   0.   0.   0.   0.   0.   0.\n",
      "  0.   0.   0.   0.   0.   0.   0.   0.   0.   0.   0.   0.   0.   0.\n",
      " -0.1 -0.1 -0.1 -0.1 -0.1 -0.1 -0.1 -0.1 -0.1 -0.1 -0.1 -0.1 -0.1 -0.1\n",
      " -0.1 -0.1 -0.1 -0.1 -0.1 -0.1 -0.1 -0.1 -0.1 -0.1 -0.1 -0.1 -0.1 -0.1\n",
      " -0.1 -0.1 -0.1 -0.1 -0.1 -0.1 -0.1 -0.1 -0.1 -0.1 -0.1 -0.1 -0.1 -0.1\n",
      " -0.1 -0.1 -0.1 -0.1 -0.1 -0.1 -0.1 -0.1 -0.1 -0.1 -0.1 -0.1 -0.1 -0.1\n",
      " -0.1 -0.1 -0.1 -0.1 -0.1 -0.1 -0.1 -0.1 -0.1 -0.1 -0.1 -0.1 -0.1 -0.1\n",
      " -0.1 -0.1 -0.1 -0.1 -0.1 -0.1 -0.1 -0.1 -0.1 -0.1 -0.1 -0.1 -0.1 -0.1\n",
      " -0.1 -0.1 -0.1 -0.1 -0.1 -0.1 -0.1 -0.1 -0.1 -0.1 -0.1 -0.1 -0.1 -0.1\n",
      " -0.1 -0.1 -0.1 -0.1 -0.1 -0.1 -0.1 -0.1 -0.1 -0.1 -0.1 -0.1 -0.1 -0.1\n",
      " -0.1 -0.1 -0.1 -0.1 -0.1 -0.1 -0.1 -0.1 -0.1 -0.1 -0.1 -0.1 -0.1 -0.1\n",
      " -0.1 -0.1 -0.1 -0.1 -0.1 -0.1 -0.1 -0.1 -0.1 -0.1 -0.1 -0.1 -0.1 -0.1\n",
      " -0.1 -0.1 -0.1 -0.1 -0.1 -0.1 -0.1 -0.1 -0.1 -0.1]\n"
     ]
    },
    {
     "data": {
      "text/plain": [
       "Text(0, 0.5, 'Tip potential')"
      ]
     },
     "execution_count": 227,
     "metadata": {},
     "output_type": "execute_result"
    },
    {
     "data": {
      "image/png": "[encoded data removed]",
      "text/plain": [
       "<Figure size 432x288 with 1 Axes>"
      ]
     },
     "metadata": {
      "needs_background": "light"
     },
     "output_type": "display_data"
    }
   ],
   "source": [
    "\n",
    "N=500;\n",
    "\n",
    "plt.figure()\n",
    "d=np.linspace(0,L,N)\n",
    "potential =-0.1*np.ones(N)\n",
    "\n",
    "\n",
    "for i,X in enumerate(d):\n",
    "    if (X > 200e-9 and X < 800e-9):\n",
    "        potential[i]=-0.1\n",
    "    if (X > 300e-9 and X < 700e-9):\n",
    "        potential[i]=0\n",
    "    if (X > 400e-9 and X <600e-9):\n",
    "        potential[i]=0.1\n",
    "\n",
    "        \n",
    "print(potential)\n",
    "plt.plot(d,potential)\n",
    "\n",
    "plt.xlabel('X position in the Hall bar')\n",
    "plt.ylabel('Tip potential')\n"
   ]
  },
  {
   "cell_type": "markdown",
   "id": "e42e2aa3",
   "metadata": {},
   "source": [
    "### Current and wf density"
   ]
  },
  {
   "cell_type": "markdown",
   "id": "55774c9f",
   "metadata": {},
   "source": [
    "#### Wave function"
   ]
  },
  {
   "cell_type": "code",
   "execution_count": 247,
   "id": "6a643fc3",
   "metadata": {},
   "outputs": [
    {
     "name": "stdout",
     "output_type": "stream",
     "text": [
      "[[-0.01050766+2.46928080e-04j  0.01736606+9.71858758e-03j\n",
      "  -0.01385498-2.38164289e-02j ... -0.49715375+2.56210442e-01j\n",
      "   0.28324631+5.40652837e-01j  0.5793373 -3.08495155e-01j]]\n"
     ]
    }
   ],
   "source": [
    "wfs = kwant.wave_function(sys, energy=Ef, params = params ) # the wave function is obtained by giving the \n",
    "                                                    # parameters in arguments\n",
    "scattering_wf = wfs(0) # all scattering wave functions from lead 0\n",
    "\n",
    "print(scattering_wf)"
   ]
  },
  {
   "cell_type": "markdown",
   "id": "1feee122",
   "metadata": {},
   "source": [
    "#### Current density\n"
   ]
  },
  {
   "cell_type": "code",
   "execution_count": 248,
   "id": "a3cc38b9",
   "metadata": {},
   "outputs": [
    {
     "data": {
      "image/png": "[encoded data removed]",
      "text/plain": [
       "<Figure size 432x288 with 2 Axes>"
      ]
     },
     "metadata": {
      "needs_background": "light"
     },
     "output_type": "display_data"
    },
    {
     "name": "stderr",
     "output_type": "stream",
     "text": [
      "<ipython-input-248-5a435cfd63f1>:18: VisibleDeprecationWarning: Creating an ndarray from ragged nested sequences (which is a list-or-tuple of lists-or-tuples-or ndarrays with different lengths or shapes) is deprecated. If you meant to do this, you must specify 'dtype=object' when creating the ndarray.\n",
      "  kwant.plotter.current(sys, current, cmap='viridis')\n"
     ]
    },
    {
     "data": {
      "image/png": "[encoded data removed]",
      "text/plain": [
       "<Figure size 432x288 with 2 Axes>"
      ]
     },
     "metadata": {
      "needs_background": "light"
     },
     "output_type": "display_data"
    },
    {
     "name": "stdout",
     "output_type": "stream",
     "text": [
      "Disorder potential not activated\n"
     ]
    },
    {
     "name": "stderr",
     "output_type": "stream",
     "text": [
      "<ipython-input-248-5a435cfd63f1>:24: VisibleDeprecationWarning: Creating an ndarray from ragged nested sequences (which is a list-or-tuple of lists-or-tuples-or ndarrays with different lengths or shapes) is deprecated. If you meant to do this, you must specify 'dtype=object' when creating the ndarray.\n",
      "  kwant.plotter.current(sys, current_right, cmap='viridis')\n"
     ]
    }
   ],
   "source": [
    "## To obtain edge states, a strong field is required, in order to be in the high magnetic fiedl regime. 2 T gives edge states, \n",
    "## 0.1 T gives normal conduction\n",
    "\n",
    "J0 = kwant.operator.Current(sys)\n",
    "wf_left = wfs(0)\n",
    "wf_right=wfs(1)\n",
    "\n",
    "#np.append(wf_left,wf_right)\n",
    "current = sum(J0(p, params = params) for p in wf_left) # to sum over all the lead's mode\n",
    "\n",
    "\n",
    "current_right=sum(J0(p, params = params) for p in wf_right)\n",
    "\n",
    "\n",
    "#np.insert(current,1,current_right)\n",
    "\n",
    "\n",
    "kwant.plotter.current(sys, current, cmap='viridis')\n",
    "\n",
    "\n",
    "\n",
    "\n",
    "\n",
    "kwant.plotter.current(sys, current_right, cmap='viridis')\n",
    "\n",
    "\n",
    "if(flag==1):\n",
    "    print('Disorder potential activated')\n",
    "else:\n",
    "    print('Disorder potential not activated')"
   ]
  },
  {
   "cell_type": "markdown",
   "id": "85219244",
   "metadata": {},
   "source": [
    "To have clear current plots ypu have to make sure the potential zone does not overlap with the leads "
   ]
  },
  {
   "cell_type": "markdown",
   "id": "69553cde",
   "metadata": {},
   "source": [
    "### Plotting Hall conductance as function of the voltage applied (Fermi level)"
   ]
  },
  {
   "cell_type": "code",
   "execution_count": 180,
   "id": "c5bcd78e",
   "metadata": {},
   "outputs": [
    {
     "name": "stdout",
     "output_type": "stream",
     "text": [
      "The field is fixed and equal to  1.8285678225446869\n",
      "The tip potential is fixed and equal to  0\n",
      "The Fermi energy will be shifted from -0.22860679774997897 to 0.22860679774997897\n",
      "R hall= -0.0310916185855993\n",
      "R long= 0.0040202391400562185\n",
      "iteration 0 succeeded\n",
      "R hall= -0.03411643851263759\n",
      "R long= 0.003231527354225556\n",
      "iteration 1 succeeded\n",
      "R hall= -0.03735274862665238\n",
      "R long= 0.002815408340473683\n",
      "iteration 2 succeeded\n",
      "R hall= -0.04263375136347162\n",
      "R long= 0.0029936870599369418\n",
      "iteration 3 succeeded\n",
      "R hall= -0.052393904052808866\n",
      "R long= 0.00011757652428078002\n",
      "iteration 4 succeeded\n",
      "R hall= -0.058781093929398\n",
      "R long= 1.9143681790317738e-05\n",
      "iteration 5 succeeded\n",
      "R hall= -0.0666579572491389\n",
      "R long= 3.210033742602472e-06\n",
      "iteration 6 succeeded\n",
      "R hall= -0.07691585055260948\n",
      "R long= 2.1480709858838915e-06\n",
      "iteration 7 succeeded\n",
      "R hall= -0.07692145452073045\n",
      "R long= 8.556831830622362e-07\n",
      "iteration 8 succeeded\n",
      "R hall= -0.09090906896793512\n",
      "R long= 8.108130549153227e-09\n",
      "iteration 9 succeeded\n",
      "R hall= -0.1111111099247581\n",
      "R long= 1.7454213149571016e-10\n",
      "iteration 10 succeeded\n",
      "R hall= -0.14285709718329145\n",
      "R long= 4.330022415392858e-09\n",
      "iteration 11 succeeded\n",
      "R hall= -0.1428571428398298\n",
      "R long= 4.892244221626682e-13\n",
      "iteration 12 succeeded\n",
      "R hall= -0.19999999999409787\n",
      "R long= 1.3769946343842528e-12\n",
      "iteration 13 succeeded\n",
      "R hall= -0.19999999999992724\n",
      "R long= 9.481921172951789e-15\n",
      "iteration 14 succeeded\n",
      "R hall= -0.3333333333332802\n",
      "R long= 1.5918074840744343e-14\n",
      "iteration 15 succeeded\n",
      "R hall= -0.33333333333333587\n",
      "R long= -3.468542650532661e-16\n",
      "iteration 16 succeeded\n",
      "R hall= -0.3333333333333436\n",
      "R long= 4.775783324674256e-17\n",
      "iteration 17 succeeded\n",
      "R hall= -0.9999999999999771\n",
      "R long= 4.397916032262611e-16\n",
      "iteration 18 succeeded\n",
      "R hall= -0.9999999999999626\n",
      "R long= -5.4388246388232906e-17\n",
      "iteration 19 succeeded\n",
      "R hall= -1.0000000000000195\n",
      "R long= 1.7942779981970233e-16\n",
      "iteration 20 succeeded\n",
      "R hall= -0.9999999999999931\n",
      "R long= -1.7133340566879358e-16\n",
      "iteration 21 succeeded\n",
      "R hall= -0.9999999999999768\n",
      "R long= -6.765851084443195e-17\n",
      "iteration 22 succeeded\n",
      "R hall= -1.0000000000000429\n",
      "R long= 1.2062691850281797e-16\n",
      "iteration 23 succeeded\n",
      "R hall= -1.0000000000000677\n",
      "R long= -1.4311348228542272e-16\n",
      "iteration 24 succeeded\n",
      "R hall= 1.000000000000016\n",
      "R long= -2.352380233653908e-17\n",
      "iteration 25 succeeded\n",
      "R hall= 0.999999999999976\n",
      "R long= 2.238241408588607e-17\n",
      "iteration 26 succeeded\n",
      "R hall= 0.9999999999999845\n",
      "R long= -3.3025881773534165e-17\n",
      "iteration 27 succeeded\n",
      "R hall= 0.9999999999999719\n",
      "R long= 2.3922242388550548e-16\n",
      "iteration 28 succeeded\n",
      "R hall= 0.9999999999999175\n",
      "R long= 2.1655638020067602e-17\n",
      "iteration 29 succeeded\n",
      "R hall= 0.9999999999999476\n",
      "R long= 2.404100108748345e-16\n",
      "iteration 30 succeeded\n",
      "R hall= 0.9999999999999342\n",
      "R long= 6.108978507504751e-16\n",
      "iteration 31 succeeded\n",
      "R hall= 0.3333333333333321\n",
      "R long= -1.796269417023826e-16\n",
      "iteration 32 succeeded\n",
      "R hall= 0.3333333333333149\n",
      "R long= -2.1680822881223601e-16\n",
      "iteration 33 succeeded\n",
      "R hall= 0.33333333333329807\n",
      "R long= 1.851295958255715e-14\n",
      "iteration 34 succeeded\n",
      "R hall= 0.199999999999948\n",
      "R long= 1.042624560184191e-14\n",
      "iteration 35 succeeded\n",
      "R hall= 0.19999999999542867\n",
      "R long= 1.5360533904932712e-12\n",
      "iteration 36 succeeded\n",
      "R hall= 0.14285714284061513\n",
      "R long= 6.570882980397909e-13\n",
      "iteration 37 succeeded\n",
      "R hall= 0.14285709153091383\n",
      "R long= 3.8543865598247005e-09\n",
      "iteration 38 succeeded\n",
      "R hall= 0.11111110985836933\n",
      "R long= 1.6178204875318411e-10\n",
      "iteration 39 succeeded\n",
      "R hall= 0.09090906279590111\n",
      "R long= 7.449011312220708e-09\n",
      "iteration 40 succeeded\n",
      "R hall= 0.07692072861883538\n",
      "R long= 8.321047745088719e-07\n",
      "iteration 41 succeeded\n",
      "R hall= 0.07691635008528787\n",
      "R long= 2.09525459480878e-06\n",
      "iteration 42 succeeded\n",
      "R hall= 0.06665767302537069\n",
      "R long= 3.2068531493621823e-06\n",
      "iteration 43 succeeded\n",
      "R hall= 0.05877494503589249\n",
      "R long= 1.947797682731612e-05\n",
      "iteration 44 succeeded\n",
      "R hall= 0.05234955538597677\n",
      "R long= 0.00012000952985767054\n",
      "iteration 45 succeeded\n",
      "R hall= 0.040339999765885086\n",
      "R long= 0.003091956102846873\n",
      "iteration 46 succeeded\n",
      "R hall= 0.035087510072362646\n",
      "R long= 0.002801396576495274\n",
      "iteration 47 succeeded\n",
      "R hall= 0.03154064790137734\n",
      "R long= 0.003245730807160495\n",
      "iteration 48 succeeded\n",
      "R hall= 0.027535554923828778\n",
      "R long= 0.003977412592397951\n",
      "iteration 49 succeeded\n",
      "0\n"
     ]
    }
   ],
   "source": [
    "Vg=0\n",
    "\n",
    "print('The field is fixed and equal to ',Bfield)\n",
    "print('The tip potential is fixed and equal to ', Vg)\n",
    "Ef_min=En_minus - Vg-0.005\n",
    "Ef_max=En_plus - Vg +0.005\n",
    "n_iter=50;\n",
    "\n",
    "print('The Fermi energy will be shifted from' ,Ef_min, 'to', Ef_max )\n",
    "\n",
    "Ef_arr=np.linspace(Ef_min,Ef_max,n_iter)\n",
    "\n",
    "Rxx_Ef=np.zeros([len(Ef_arr),1])\n",
    "Rxy_Ef=np.zeros([len(Ef_arr),1])\n",
    "\n",
    "params=dict(Bfield=Bfield, Vg=Vg)\n",
    "\n",
    "for i,Ef_xy in enumerate(Ef_arr):\n",
    "        \n",
    "    try:\n",
    "        \n",
    "        s=kwant.smatrix(sys, energy=Ef_xy, params=params)\n",
    "        \n",
    "        #conductance matrix from the transmission matrix\n",
    "        cond = np.array([[s.transmission(i, j) for j in range(n)] for i in range(n)])\n",
    "        \n",
    "        cond -= np.diag(cond.sum(axis=0))\n",
    "        \n",
    "        cm = s.conductance_matrix()[:-1, :-1]\n",
    "        \n",
    "        Rxx = np.linalg.solve(cm, [1, -1, 0, 0, 0])\n",
    "        print('R hall=',Rxx[4])\n",
    "        print('R long=',Rxx[3])\n",
    "        \n",
    "        Rxx_Ef[i] = Rxx[3]\n",
    "        \n",
    "        Rxy_Ef[i] = Rxx[4]\n",
    "        \n",
    "        print('iteration',i,'succeeded')\n",
    "    except:\n",
    "        print('problem encountered at iteration', i)\n",
    "        \n",
    "print(flag)"
   ]
  },
  {
   "cell_type": "markdown",
   "id": "2cab3256",
   "metadata": {},
   "source": [
    "### Plotting Hall conductance as function of the magnetic field"
   ]
  },
  {
   "cell_type": "code",
   "execution_count": 144,
   "id": "e1b87cc4",
   "metadata": {},
   "outputs": [
    {
     "name": "stdout",
     "output_type": "stream",
     "text": [
      "The magnetic field will be shifted from 0 to 5\n",
      "The Fermi energy will be constant and set to 0.05\n",
      "The tip potential is fixed and equal to  0\n",
      "R hall =  -0.004153407430135079\n",
      "R long= 0.1085842847139745\n",
      "iteration 0 succeeded\n",
      "R hall =  0.0062479231969500785\n",
      "R long= 0.07946092232974349\n",
      "iteration 1 succeeded\n",
      "R hall =  0.028438140567541535\n",
      "R long= 0.0681663801748769\n",
      "iteration 2 succeeded\n",
      "R hall =  0.09838772698842346\n",
      "R long= 0.056661190918618605\n",
      "iteration 3 succeeded\n",
      "R hall =  0.16443578252392566\n",
      "R long= 0.013132949611224718\n",
      "iteration 4 succeeded\n",
      "R hall =  0.16402824138166386\n",
      "R long= 0.01336734828660512\n",
      "iteration 5 succeeded\n",
      "R hall =  0.3327151097519387\n",
      "R long= 0.0002971834442287656\n",
      "iteration 6 succeeded\n",
      "R hall =  0.33331574684105103\n",
      "R long= 2.809263747970866e-06\n",
      "iteration 7 succeeded\n",
      "R hall =  0.33333148678467267\n",
      "R long= 4.803417856295064e-08\n",
      "iteration 8 succeeded\n",
      "R hall =  0.33333328529957196\n",
      "R long= 2.166295509590459e-08\n",
      "iteration 9 succeeded\n",
      "R hall =  0.3333333127527134\n",
      "R long= 1.549531503682934e-09\n",
      "iteration 10 succeeded\n",
      "R hall =  0.9999998424243621\n",
      "R long= 1.9443821088023602e-08\n",
      "iteration 11 succeeded\n",
      "R hall =  0.999999999844806\n",
      "R long= 1.9759338524873768e-11\n",
      "iteration 12 succeeded\n",
      "R hall =  0.9999999999982133\n",
      "R long= 2.362593481105661e-13\n",
      "iteration 13 succeeded\n",
      "R hall =  1.000000000000025\n",
      "R long= 4.29125178525354e-15\n",
      "iteration 14 succeeded\n",
      "R hall =  0.9999999999999645\n",
      "R long= 2.802733056364879e-16\n",
      "iteration 15 succeeded\n",
      "R hall =  0.9999999999999771\n",
      "R long= 4.739195587459863e-16\n",
      "iteration 16 succeeded\n",
      "R hall =  1.0000000000000662\n",
      "R long= 3.060578203821721e-16\n",
      "iteration 17 succeeded\n",
      "R hall =  1.0000000000000748\n",
      "R long= 5.129717215732767e-16\n",
      "iteration 18 succeeded\n",
      "R hall =  1.0000000000000207\n",
      "R long= 4.472045819641635e-16\n",
      "iteration 19 succeeded\n",
      "R hall =  1.0000000000000104\n",
      "R long= 2.806530241371227e-16\n",
      "iteration 20 succeeded\n",
      "R hall =  0.9999999999999759\n",
      "R long= 8.39371967281444e-17\n",
      "iteration 21 succeeded\n",
      "R hall =  0.9999999999999731\n",
      "R long= 2.14515925715141e-16\n",
      "iteration 22 succeeded\n",
      "R hall =  0.9999999999999742\n",
      "R long= 2.6792858216359313e-16\n",
      "iteration 23 succeeded\n",
      "R hall =  0.9999999999999034\n",
      "R long= 6.924886708486699e-17\n",
      "iteration 24 succeeded\n",
      "R hall =  1.0000000000000298\n",
      "R long= 1.3770877201272353e-16\n",
      "iteration 25 succeeded\n",
      "R hall =  0.9999999999999891\n",
      "R long= 2.0262775542949052e-16\n",
      "iteration 26 succeeded\n",
      "R hall =  0.9999999999999396\n",
      "R long= 4.2186493087470136e-16\n",
      "iteration 27 succeeded\n",
      "R hall =  1.0000000000000062\n",
      "R long= -2.327775408389693e-16\n",
      "iteration 28 succeeded\n",
      "R hall =  1.000000000000064\n",
      "R long= 1.5591932759201846e-16\n",
      "iteration 29 succeeded\n",
      "R hall =  0.9999999999999827\n",
      "R long= -8.685082644541668e-18\n",
      "iteration 30 succeeded\n",
      "R hall =  1.0000000000000338\n",
      "R long= 1.050838111288733e-15\n",
      "iteration 31 succeeded\n",
      "R hall =  1.0000000000000093\n",
      "R long= 8.544822689980211e-15\n",
      "iteration 32 succeeded\n",
      "R hall =  0.9999999999999558\n",
      "R long= -8.539054043694165e-16\n",
      "iteration 33 succeeded\n",
      "R hall =  1.0000000000000064\n",
      "R long= -1.4584195698279339e-15\n",
      "iteration 34 succeeded\n",
      "R hall =  0.9999999999999848\n",
      "R long= 4.886273451847896e-15\n",
      "iteration 35 succeeded\n",
      "R hall =  0.9999999999999981\n",
      "R long= -3.929847212085294e-15\n",
      "iteration 36 succeeded\n",
      "R hall =  1.000000000000046\n",
      "R long= -3.439467689224939e-15\n",
      "iteration 37 succeeded\n",
      "R hall =  0.9999999999999951\n",
      "R long= 1.2622496719593224e-15\n",
      "iteration 38 succeeded\n",
      "R hall =  0.999999999999962\n",
      "R long= 9.663915994078017e-16\n",
      "iteration 39 succeeded\n",
      "R hall =  1.0000000000000082\n",
      "R long= 3.785213095714693e-15\n",
      "iteration 40 succeeded\n",
      "R hall =  1.0000000000000306\n",
      "R long= 3.06909153301091e-15\n",
      "iteration 41 succeeded\n",
      "R hall =  0.9999999999999748\n",
      "R long= 1.3877869226146836e-15\n",
      "iteration 42 succeeded\n",
      "R hall =  1.0000000000000124\n",
      "R long= -2.9996583923258554e-16\n",
      "iteration 43 succeeded\n",
      "R hall =  1.00000000000003\n",
      "R long= 3.756865459850935e-15\n",
      "iteration 44 succeeded\n",
      "R hall =  1.000000000000026\n",
      "R long= 4.8838828966235154e-15\n",
      "iteration 45 succeeded\n",
      "R hall =  0.9999999999999353\n",
      "R long= -2.9674899468337226e-15\n",
      "iteration 46 succeeded\n",
      "R hall =  1.0000000000000038\n",
      "R long= 4.283545007508335e-15\n",
      "iteration 47 succeeded\n",
      "R hall =  1.0000000000000617\n",
      "R long= 2.013763855446736e-14\n",
      "iteration 48 succeeded\n",
      "R hall =  1.000000000000083\n",
      "R long= 1.1686033267068802e-14\n",
      "iteration 49 succeeded\n"
     ]
    }
   ],
   "source": [
    "#Bmax=2*Ef**2*h_reduced/(9*t**2*a**2*e*1)\n",
    "Bmin=0;\n",
    "Bmax=3;                   ## Some Hall features are recovered looking at small foeld regions (Bmax = 1 T or less)\n",
    "print('The magnetic field will be shifted from', Bmin, 'to', Bmax)\n",
    "print('The Fermi energy will be constant and set to',Ef)\n",
    "print('The tip potential is fixed and equal to ', Vg)\n",
    "\n",
    "\n",
    "## With this method you keep E_f fixed and you sweep the field, so that the LL move.\n",
    "## If one keeps the field fixed (and the LL) and sweeps Ef, it should be the same.\n",
    "\n",
    "Bs=np.linspace(Bmin,Bmax,n_iter)\n",
    "\n",
    "Rxx_B=np.zeros([len(Bs),1])\n",
    "Rxy_B=np.zeros([len(Bs),1])\n",
    "\n",
    "for i,Bfield in enumerate(Bs):\n",
    "        \n",
    "    try:\n",
    "        params=dict(Bfield=Bfield, Vg=Vg)\n",
    "        s=kwant.smatrix(sys, energy=Ef, params=params)\n",
    "        \n",
    "        #conductance matrix from the transmission matrix\n",
    "        cond = np.array([[s.transmission(i, j) for j in range(n)] for i in range(n)])\n",
    "        \n",
    "        cond -= np.diag(cond.sum(axis=0))\n",
    "        \n",
    "        cm = s.conductance_matrix()[:-1, :-1]\n",
    "        \n",
    "        Rxx = np.linalg.solve(cm, [1, -1, 0, 0, 0])\n",
    "        \n",
    "        print('R hall = ',Rxx[4])\n",
    "        print('R long=',Rxx[3])\n",
    "        Rxx_B[i] = Rxx[3]\n",
    "        \n",
    "        Rxy_B[i] = Rxx[4]\n",
    "        \n",
    "        print('iteration',i,'succeeded')\n",
    "    except:\n",
    "        print('problem encountered at iteration', i)\n",
    "        \n"
   ]
  },
  {
   "cell_type": "markdown",
   "id": "b2132bb1",
   "metadata": {},
   "source": [
    "### Plotting Hall conductivity as function of local potential (tip potential)"
   ]
  },
  {
   "cell_type": "code",
   "execution_count": 253,
   "id": "d2ea67ef",
   "metadata": {},
   "outputs": [
    {
     "name": "stdout",
     "output_type": "stream",
     "text": [
      "The field is fixed and equal to 1.8285678225446869\n",
      "The Fermi level is fixed and equal to 0.05\n",
      "We will shift the tip potential from -0.17 to 0.09\n",
      "We should have crossing with the first positive and negative LL and 0th LL\n",
      "R hall =  0.7356265718943169\n",
      "R long= -0.02193870882049456\n",
      "iteration 0 succeeded\n",
      "R hall =  0.3090254154658047\n",
      "R long= -0.41115375193460757\n",
      "iteration 1 succeeded\n",
      "R hall =  0.29541352699851725\n",
      "R long= -0.43585479968751367\n",
      "iteration 2 succeeded\n",
      "R hall =  -0.003719789993930642\n",
      "R long= -0.5749933366141169\n",
      "iteration 3 succeeded\n",
      "R hall =  0.6480010351718041\n",
      "R long= 0.7203450765363077\n",
      "iteration 4 succeeded\n",
      "R hall =  -0.17509913967939436\n",
      "R long= -0.7434409204782904\n",
      "iteration 5 succeeded\n",
      "R hall =  0.14044577894851543\n",
      "R long= -0.44621489881730547\n",
      "iteration 6 succeeded\n",
      "R hall =  -0.4358920283723512\n",
      "R long= -0.6583494969761408\n",
      "iteration 7 succeeded\n",
      "R hall =  -0.09036380444215783\n",
      "R long= -0.6788564073246893\n",
      "iteration 8 succeeded\n",
      "R hall =  0.47064310896112743\n",
      "R long= -0.18083390045902528\n",
      "iteration 9 succeeded\n",
      "R hall =  0.26650062034567235\n",
      "R long= -0.5516029023849842\n",
      "iteration 10 succeeded\n",
      "R hall =  0.2480797419715568\n",
      "R long= -0.35921130313558103\n",
      "iteration 11 succeeded\n",
      "R hall =  0.3026846715082786\n",
      "R long= 0.04572187178499328\n",
      "iteration 12 succeeded\n",
      "R hall =  0.4472421053382795\n",
      "R long= -0.2929344835953517\n",
      "iteration 13 succeeded\n",
      "R hall =  0.8549403537463155\n",
      "R long= 0.02981484727296774\n",
      "iteration 14 succeeded\n",
      "R hall =  0.9231232649031864\n",
      "R long= 0.015303573371706843\n",
      "iteration 15 succeeded\n",
      "R hall =  0.5756764069494471\n",
      "R long= -0.21001643516675889\n",
      "iteration 16 succeeded\n",
      "R hall =  0.8137823668337869\n",
      "R long= -0.12178404272870884\n",
      "iteration 17 succeeded\n",
      "R hall =  0.9524951961747952\n",
      "R long= -0.014472549734197369\n",
      "iteration 18 succeeded\n",
      "R hall =  0.8493257567457162\n",
      "R long= -0.12376940273083091\n",
      "iteration 19 succeeded\n",
      "R hall =  0.9333990971331833\n",
      "R long= -0.03766786666151116\n",
      "iteration 20 succeeded\n",
      "R hall =  0.9098493489326366\n",
      "R long= -0.05523796031047214\n",
      "iteration 21 succeeded\n",
      "R hall =  0.825000938753071\n",
      "R long= -0.11331440455833118\n",
      "iteration 22 succeeded\n",
      "R hall =  0.13513223623676748\n",
      "R long= -0.6455175476457409\n",
      "iteration 23 succeeded\n",
      "R hall =  0.669595947897611\n",
      "R long= -0.20515202948189065\n",
      "iteration 24 succeeded\n",
      "R hall =  0.5977187517811453\n",
      "R long= -0.21862708173063314\n",
      "iteration 25 succeeded\n",
      "R hall =  0.700343663713336\n",
      "R long= -0.19264339378284942\n",
      "iteration 26 succeeded\n",
      "R hall =  0.3176881953247608\n",
      "R long= -0.44363536138516263\n",
      "iteration 27 succeeded\n",
      "R hall =  0.3147774717049982\n",
      "R long= -0.2304747068907408\n",
      "iteration 28 succeeded\n",
      "R hall =  0.22879750400247884\n",
      "R long= -0.5503270471443816\n",
      "iteration 29 succeeded\n",
      "R hall =  0.0677791692931177\n",
      "R long= -0.6664014902187717\n",
      "iteration 30 succeeded\n",
      "R hall =  0.3755265574310741\n",
      "R long= -0.44531452225359147\n",
      "iteration 31 succeeded\n",
      "R hall =  0.3053954729894126\n",
      "R long= -0.4794226466370287\n",
      "iteration 32 succeeded\n",
      "R hall =  -0.11121162393780896\n",
      "R long= -0.7941454821646136\n",
      "iteration 33 succeeded\n",
      "R hall =  0.3285089490660188\n",
      "R long= -0.5045290429174184\n",
      "iteration 34 succeeded\n",
      "R hall =  0.08388813041925669\n",
      "R long= -0.6741362990782931\n",
      "iteration 35 succeeded\n",
      "R hall =  -0.03684658569186565\n",
      "R long= -0.7334756492341994\n",
      "iteration 36 succeeded\n",
      "R hall =  0.6353844484200896\n",
      "R long= -0.2647675386060497\n",
      "iteration 37 succeeded\n",
      "R hall =  0.5271829291453682\n",
      "R long= -0.3679581024024091\n",
      "iteration 38 succeeded\n",
      "R hall =  0.4205035629959472\n",
      "R long= -0.40329759074916954\n",
      "iteration 39 succeeded\n",
      "R hall =  0.7228346724895366\n",
      "R long= -0.21359791165108805\n",
      "iteration 40 succeeded\n",
      "R hall =  0.712890778199828\n",
      "R long= -0.23750556740851514\n",
      "iteration 41 succeeded\n",
      "R hall =  0.93158228467473\n",
      "R long= -0.03921734449424442\n",
      "iteration 42 succeeded\n",
      "R hall =  0.6984386942383354\n",
      "R long= -0.2348223706246661\n",
      "iteration 43 succeeded\n",
      "R hall =  -0.17620790391898863\n",
      "R long= -0.7594059784608248\n",
      "iteration 44 succeeded\n",
      "R hall =  0.7890965993324188\n",
      "R long= -0.13893150693528622\n",
      "iteration 45 succeeded\n",
      "R hall =  0.4033444257568233\n",
      "R long= -0.47121509274159074\n",
      "iteration 46 succeeded\n",
      "R hall =  -0.11196864749080818\n",
      "R long= -0.643925782989408\n",
      "iteration 47 succeeded\n",
      "R hall =  0.6340751660941321\n",
      "R long= -0.21462866706405204\n",
      "iteration 48 succeeded\n",
      "R hall =  0.573890160654905\n",
      "R long= -0.28142940915682446\n",
      "iteration 49 succeeded\n",
      "R hall =  0.6929391966409849\n",
      "R long= -0.21885432712740416\n",
      "iteration 50 succeeded\n",
      "R hall =  0.7607733489464112\n",
      "R long= -0.1731347614014366\n",
      "iteration 51 succeeded\n",
      "R hall =  0.8371006231574049\n",
      "R long= -0.12316450329412808\n",
      "iteration 52 succeeded\n",
      "R hall =  0.7966699123510652\n",
      "R long= -0.15906629942282044\n",
      "iteration 53 succeeded\n",
      "R hall =  0.5617970795765921\n",
      "R long= -0.25946849900492197\n",
      "iteration 54 succeeded\n",
      "R hall =  0.7818265055586625\n",
      "R long= -0.15695667916347297\n",
      "iteration 55 succeeded\n",
      "R hall =  0.7723993733886755\n",
      "R long= -0.17072679977125693\n",
      "iteration 56 succeeded\n",
      "R hall =  0.48791344833557587\n",
      "R long= -0.39990887670759934\n",
      "iteration 57 succeeded\n",
      "R hall =  0.6435313675764048\n",
      "R long= -0.21913667034191997\n",
      "iteration 58 succeeded\n",
      "R hall =  0.9841661364088549\n",
      "R long= -0.012183174772380123\n",
      "iteration 59 succeeded\n",
      "R hall =  0.9999999998999047\n",
      "R long= -5.815851939630093e-11\n",
      "iteration 60 succeeded\n",
      "R hall =  0.9999999999887715\n",
      "R long= 5.024622465096803e-12\n",
      "iteration 61 succeeded\n",
      "R hall =  0.999999999998762\n",
      "R long= 2.482546485639957e-12\n",
      "iteration 62 succeeded\n",
      "R hall =  0.9999999999999438\n",
      "R long= 3.6178313124504226e-13\n",
      "iteration 63 succeeded\n",
      "R hall =  1.0000000000000366\n",
      "R long= 1.114801545631753e-14\n",
      "iteration 64 succeeded\n",
      "R hall =  1.000000000000042\n",
      "R long= 6.370942494833156e-16\n",
      "iteration 65 succeeded\n",
      "R hall =  1.0000000000000278\n",
      "R long= 7.734183476585e-14\n",
      "iteration 66 succeeded\n",
      "R hall =  0.9999999999999686\n",
      "R long= 8.993600719269393e-13\n",
      "iteration 67 succeeded\n",
      "R hall =  0.9999999999996928\n",
      "R long= 1.9482775214714535e-12\n",
      "iteration 68 succeeded\n",
      "R hall =  0.9999999999989777\n",
      "R long= 1.1956611715567628e-11\n",
      "iteration 69 succeeded\n",
      "R hall =  0.9999999999973773\n",
      "R long= 1.1143391193666554e-11\n",
      "iteration 70 succeeded\n",
      "R hall =  0.9999999999942811\n",
      "R long= 7.595989192598883e-11\n",
      "iteration 71 succeeded\n",
      "R hall =  0.9999999999887282\n",
      "R long= 4.037599147345465e-11\n",
      "iteration 72 succeeded\n",
      "R hall =  0.9999999999789513\n",
      "R long= 4.248986594998208e-10\n",
      "iteration 73 succeeded\n",
      "R hall =  0.9999999999618203\n",
      "R long= 6.368709613589955e-11\n",
      "iteration 74 succeeded\n",
      "R hall =  0.9999999999314019\n",
      "R long= 2.330657687550472e-09\n",
      "iteration 75 succeeded\n",
      "R hall =  0.9999999998750299\n",
      "R long= 8.937414120679686e-10\n",
      "iteration 76 succeeded\n",
      "R hall =  0.9999999997683402\n",
      "R long= 6.811215602750295e-09\n",
      "iteration 77 succeeded\n",
      "R hall =  0.9999999995514703\n",
      "R long= 3.487354709082062e-08\n",
      "iteration 78 succeeded\n",
      "R hall =  0.9999999990559176\n",
      "R long= 2.8826728314366693e-08\n",
      "iteration 79 succeeded\n",
      "R hall =  0.9999999976891046\n",
      "R long= 3.0453292284725013e-10\n",
      "iteration 80 succeeded\n",
      "R hall =  0.9999999926057848\n",
      "R long= -2.146146283289234e-09\n",
      "iteration 81 succeeded\n",
      "R hall =  0.999999963832897\n",
      "R long= 4.076650403059455e-06\n",
      "iteration 82 succeeded\n",
      "R hall =  0.9999996418701639\n",
      "R long= 4.087699785168495e-05\n",
      "iteration 83 succeeded\n",
      "R hall =  0.38604342667480424\n",
      "R long= 25.698507188216425\n",
      "iteration 84 succeeded\n",
      "R hall =  -0.10401598420918966\n",
      "R long= 4.044000235130628\n",
      "iteration 85 succeeded\n",
      "R hall =  0.07138071175296075\n",
      "R long= 0.3105305810781244\n",
      "iteration 86 succeeded\n",
      "R hall =  0.2394734272657614\n",
      "R long= 0.1452353130093337\n",
      "iteration 87 succeeded\n",
      "R hall =  0.21146924326745564\n",
      "R long= -0.1827205250618461\n",
      "iteration 88 succeeded\n",
      "R hall =  -1.7699034229226622\n",
      "R long= 0.594558332580384\n",
      "iteration 89 succeeded\n",
      "R hall =  -1.9916132109414755\n",
      "R long= 9.751943592172593\n",
      "iteration 90 succeeded\n",
      "R hall =  -1.811819195508855\n",
      "R long= 8.248576678925211\n",
      "iteration 91 succeeded\n",
      "R hall =  -0.795087233660457\n",
      "R long= -0.5015365377469504\n",
      "iteration 92 succeeded\n",
      "R hall =  -0.40334356063560556\n",
      "R long= 1.9475286009198007\n",
      "iteration 93 succeeded\n",
      "R hall =  -0.7498530570536723\n",
      "R long= 0.8981146690714487\n",
      "iteration 94 succeeded\n",
      "R hall =  0.13510011176137096\n",
      "R long= 0.1270456262500774\n",
      "iteration 95 succeeded\n",
      "R hall =  -0.07974570758051722\n",
      "R long= 0.6355413858069832\n",
      "iteration 96 succeeded\n",
      "R hall =  0.11772421050344081\n",
      "R long= 0.11443464935085655\n",
      "iteration 97 succeeded\n",
      "R hall =  0.17048300199512434\n",
      "R long= 0.361554592574964\n",
      "iteration 98 succeeded\n"
     ]
    },
    {
     "name": "stdout",
     "output_type": "stream",
     "text": [
      "R hall =  0.18305831198878517\n",
      "R long= 0.2791183331177392\n",
      "iteration 99 succeeded\n",
      "0\n"
     ]
    }
   ],
   "source": [
    "print('The field is fixed and equal to', Bfield)\n",
    "print('The Fermi level is fixed and equal to', Ef)\n",
    "\n",
    "Vg_min=-0.17\n",
    "Vg_max=0.09\n",
    "n_iter_Vg=100;\n",
    "print('We will shift the tip potential from', Vg_min, 'to', Vg_max)\n",
    "print('We should have crossing with the first positive and negative LL and 0th LL')\n",
    "\n",
    "Vg_arr=np.linspace(Vg_min,Vg_max,n_iter_Vg)\n",
    "Rxx_Vg=np.zeros([len(Vg_arr),1])\n",
    "Rxy_Vg=np.zeros([len(Vg_arr),1])\n",
    "\n",
    "\n",
    "for i,Vg in enumerate(Vg_arr):\n",
    "        \n",
    "    try:\n",
    "        params=dict(Bfield=Bfield, Vg=Vg)\n",
    "        s=kwant.smatrix(sys, energy=Ef, params=params)\n",
    "        \n",
    "        #conductance matrix from the transmission matrix\n",
    "        cond = np.array([[s.transmission(i, j) for j in range(n)] for i in range(n)])\n",
    "        \n",
    "        cond -= np.diag(cond.sum(axis=0))\n",
    "        \n",
    "        cm = s.conductance_matrix()[:-1, :-1]\n",
    "        \n",
    "        Rxx = np.linalg.solve(cm, [1, -1, 0, 0, 0])\n",
    "        \n",
    "        print('R hall = ',Rxx[4])\n",
    "        print('R long=',Rxx[3])\n",
    "        Rxx_Vg[i] = Rxx[3]\n",
    "        \n",
    "        Rxy_Vg[i] = Rxx[4]\n",
    "        \n",
    "        print('iteration',i,'succeeded')\n",
    "    except:\n",
    "        print('problem encountered at iteration', i)\n",
    "\n",
    "print(flag)"
   ]
  },
  {
   "cell_type": "markdown",
   "id": "bb34bf8b",
   "metadata": {},
   "source": [
    "With these values of Vg, one should have crossing of the modified LL for these values of tip potential:"
   ]
  },
  {
   "cell_type": "code",
   "execution_count": 257,
   "id": "c8748980",
   "metadata": {},
   "outputs": [
    {
     "name": "stdout",
     "output_type": "stream",
     "text": [
      "Vg =  -0.16180339887498948 for the -1 LL\n",
      "Vg =  -0.05 for the 0th LL\n",
      "Vg =  0.06180339887498948 for the 1st LL\n"
     ]
    }
   ],
   "source": [
    "Vg_minus_1 = En_plot_minus[1]-Ef\n",
    "Vg_0 = En_plot_plus[0]-Ef\n",
    "Vg_plus_1 = En_plot_plus[1] - Ef\n",
    "\n",
    "print('Vg = ', Vg_minus_1, 'for the -1 LL')\n",
    "print('Vg = ', Vg_0, 'for the 0th LL')\n",
    "print('Vg = ', Vg_plus_1, 'for the 1st LL')"
   ]
  },
  {
   "cell_type": "markdown",
   "id": "c3d3072f",
   "metadata": {},
   "source": [
    "Since the longitudinal resistance changes depending on how many edge states are bakcscattered, these should be the values for which peaks in the longitudinal resistance should appear"
   ]
  },
  {
   "cell_type": "markdown",
   "id": "ae3a7f7f",
   "metadata": {},
   "source": [
    "#### Hall resistivity vs magnetic field"
   ]
  },
  {
   "cell_type": "code",
   "execution_count": 145,
   "id": "440d6a30",
   "metadata": {
    "scrolled": true
   },
   "outputs": [
    {
     "data": {
      "image/png": "[encoded data removed]",
      "text/plain": [
       "<Figure size 432x288 with 1 Axes>"
      ]
     },
     "metadata": {
      "needs_background": "light"
     },
     "output_type": "display_data"
    }
   ],
   "source": [
    "\n",
    "plt.figure()\n",
    "plt.plot(Bs, Rxy_B, label = 'Hall resistivity')\n",
    "plt.plot(Bs, Rxx_B, label = 'Longitudinal resistivity')\n",
    "plt.legend()\n",
    "\n",
    "plt.xlabel('Magnetic field (T)')\n",
    "plt.ylabel('Resistivity (h/2e²)')\n",
    "plt.title(\"Hall resistivity vs magnetic field\")\n",
    "\n",
    "plt.show()"
   ]
  },
  {
   "cell_type": "markdown",
   "id": "e46d74da",
   "metadata": {},
   "source": [
    "#### Hall resistivity vs Fermi Energy"
   ]
  },
  {
   "cell_type": "code",
   "execution_count": 181,
   "id": "fcc7dee3",
   "metadata": {},
   "outputs": [
    {
     "data": {
      "image/png": "[encoded data removed]",
      "text/plain": [
       "<Figure size 432x288 with 1 Axes>"
      ]
     },
     "metadata": {
      "needs_background": "light"
     },
     "output_type": "display_data"
    }
   ],
   "source": [
    "\n",
    "plt.figure()\n",
    "plt.plot(Ef_arr, Rxy_Ef, label = 'Hall resistivity')\n",
    "plt.plot(Ef_arr, Rxx_Ef, label = 'Longitudinal resistivity')\n",
    "plt.legend()\n",
    "\n",
    "plt.xlabel('Fermi Energy (eV)')\n",
    "plt.ylabel('Resistivity (h/2e²)')\n",
    "plt.title(\"Hall resistivity vs Fermi energy\")\n",
    "\n",
    "plt.show()"
   ]
  },
  {
   "cell_type": "markdown",
   "id": "de6673ac",
   "metadata": {},
   "source": [
    "#### Hall resistivity vs tip potential"
   ]
  },
  {
   "cell_type": "code",
   "execution_count": 259,
   "id": "04ad974a",
   "metadata": {},
   "outputs": [
    {
     "data": {
      "image/png": "[encoded data removed]",
      "text/plain": [
       "<Figure size 432x288 with 1 Axes>"
      ]
     },
     "metadata": {
      "needs_background": "light"
     },
     "output_type": "display_data"
    }
   ],
   "source": [
    "plt.figure()\n",
    "plt.plot(Vg_arr, Rxy_Vg, label = 'Hall resistivity')\n",
    "#plt.plot(Vg_arr,Rxx_Vg, label = 'Longitudinal resistivity')\n",
    "\n",
    "plt.legend()\n",
    "\n",
    "plt.xlabel('Tip potential (V)')\n",
    "plt.ylabel('Resistivity (h/2e²)')\n",
    "#plt.text(-0.1, 0.98, \"B = 10 T, Ef = 0.05 eV\")\n",
    "plt.title(\"Hall resistivity vs tip potential\")\n",
    "\n",
    "#plt.axvline(Vg_minus_1, color = 'green')\n",
    "#plt.axvline(Vg_0, color = 'green')\n",
    "#plt.axvline(Vg_plus_1, color = 'green')\n",
    "\n",
    "plt.show()"
   ]
  },
  {
   "cell_type": "markdown",
   "id": "126e9c71",
   "metadata": {},
   "source": [
    "It seems like the transitions in the Hall resistance occur when Ef = LL at the edges, so R hall should not be influenced by the swiping of the potential. For these values of Ef and B, Rhall=1 (see figure Rh vs B) which is indeed what we get"
   ]
  },
  {
   "cell_type": "markdown",
   "id": "34b12dea",
   "metadata": {},
   "source": [
    "About the longitudinal resistance, a small peak is observed for Vg_minus_1 (crossing with LL -1), no peak is observed for Vg_0 (crossing with 0th LL) and a series of peaks is observed in the surroundings of Vg_plus_1 (crossing with first LL) anyway I cannot explain the other peaks in this region. No peak is observed for Vg_0 since for the interval Vg_0 < V < Vg_plus_1 you have the same filling factor all the device. "
   ]
  },
  {
   "cell_type": "markdown",
   "id": "ac8d7e3a",
   "metadata": {},
   "source": [
    "#### Conductivity vs magnetic field"
   ]
  },
  {
   "cell_type": "code",
   "execution_count": 188,
   "id": "d05600ca",
   "metadata": {},
   "outputs": [
    {
     "data": {
      "image/png": "[encoded data removed]",
      "text/plain": [
       "<Figure size 432x288 with 1 Axes>"
      ]
     },
     "metadata": {
      "needs_background": "light"
     },
     "output_type": "display_data"
    }
   ],
   "source": [
    "\n",
    "\n",
    "plt.figure()\n",
    "\n",
    "G_xy_B=np.power(Rxy_B,-1)\n",
    "plt.plot(Bs[3:],G_xy_B[3:])\n",
    "\n",
    "\n",
    "G_j=np.zeros(len(Ef_arr))\n",
    "for j in range (1,11,2):\n",
    "    G_j=j*np.ones(len(Ef_arr))\n",
    "    if (j==1):\n",
    "        plt.plot(Bs,G_j,'b-.', label =\"v = +- 2\")\n",
    "    elif(j==3):\n",
    "        plt.plot(Bs,G_j,'r-.', label=\"v = +- 6\")\n",
    "    elif(j==5):\n",
    "        plt.plot(Bs,G_j,'y-.',  label = \"v = +- 10\")\n",
    "    elif(j==7):\n",
    "        plt.plot(Bs,G_j,'g-.',  label = \"v = +- 14\")\n",
    "  \n",
    "    \n",
    "\n",
    "\n",
    "plt.xlabel('Magnetic field (T)')\n",
    "plt.ylabel('Conductivity (h/2e²)^-1')\n",
    "plt.title(\"Hall conductivity vs magnetic field\")\n",
    "#plt.text(2, 10, \"Ef = 0.05 eV, Vg = 0 V\")\n",
    "plt.legend(loc =\"upper right\")\n",
    "\n",
    "plt.show()\n"
   ]
  },
  {
   "cell_type": "markdown",
   "id": "2e821be5",
   "metadata": {},
   "source": [
    "Since the conductivity is defined in units of hbar/2e^2 the values of the filling factors which can be retrieved from the plot have to be multiplied by 2. Therefore one gets the usual succession of filling factors in graphene so 2,6,10 etc. with the spins and valley degeneracy, evein if the spin has not been explicitly considered in the calculations. The step for v=14 is anyway missing (crossing of third LL, n=3)."
   ]
  },
  {
   "cell_type": "markdown",
   "id": "321e2110",
   "metadata": {},
   "source": [
    "#### Conductivity vs Fermi energy"
   ]
  },
  {
   "cell_type": "code",
   "execution_count": 189,
   "id": "9dd38d3b",
   "metadata": {},
   "outputs": [
    {
     "data": {
      "image/png": "[encoded data removed]",
      "text/plain": [
       "<Figure size 432x288 with 1 Axes>"
      ]
     },
     "metadata": {
      "needs_background": "light"
     },
     "output_type": "display_data"
    }
   ],
   "source": [
    "\n",
    "plt.figure()\n",
    "\n",
    "G_xy_Ef=np.power(Rxy_Ef,-1)\n",
    "plt.plot(Ef_arr[8:42],G_xy_Ef[8:42])\n",
    "\n",
    "\n",
    "G_j=np.zeros(len(Ef_arr))\n",
    "for j in range (1,11,2):\n",
    "    G_plus_j=j*np.ones(len(Ef_arr))\n",
    "    G_minus_j=-j*np.ones(len(Ef_arr))\n",
    "    if (j==1):\n",
    "         plt.plot(Ef_arr,G_plus_j,'b-.', label=\"v = +- 2\")\n",
    "         plt.plot(Ef_arr,G_minus_j,'b-.')\n",
    "    elif(j==3):\n",
    "        plt.plot(Ef_arr,G_plus_j,'r-.', label=\"v = +- 6\")\n",
    "        plt.plot(Ef_arr,G_minus_j,'r-.')\n",
    "    elif(j==5):\n",
    "        plt.plot(Ef_arr,G_plus_j,'y-.', label = \"v = +- 10\")\n",
    "        plt.plot(Ef_arr,G_minus_j,'y-.')\n",
    "    elif(j==7):\n",
    "        plt.plot(Ef_arr,G_plus_j,'g-.', label = \"v = +- 14\")\n",
    "        plt.plot(Ef_arr,G_minus_j,'g-.')\n",
    "    \n",
    "    \n",
    "#print(Rxy_Ef)\n",
    "#print(G_xy_Ef)\n",
    "\n",
    "#for i in range (num_LL):\n",
    "#    plt.axvline(LL_pot_plus[i],color = 'green',linestyle = '-.')\n",
    "#    plt.axvline(LL_pot_minus[i],color = 'green',linestyle = '-.')\n",
    "#    plt.axvline(En_plus[i],color = 'black',linestyle = '-.')\n",
    "#    plt.axvline(En_minus[i], color = 'black',linestyle = '-.')\n",
    "\n",
    "\n",
    "\n",
    "\n",
    "\n",
    "plt.xlabel('Fermi energy (eV)')\n",
    "plt.ylabel('Conductivity (h/2e²)^-1')\n",
    "plt.title(\"Hall conductivity vs Fermi energy\")\n",
    "#plt.text(-0.3, 15, \"B = 1.82 T, Vg = 0 V\")\n",
    "plt.legend(loc =\"lower right\")\n",
    "\n",
    "plt.show()"
   ]
  },
  {
   "cell_type": "markdown",
   "id": "eeb914cd",
   "metadata": {},
   "source": [
    "#### Longitudinal conductivity vs tip potential"
   ]
  },
  {
   "cell_type": "code",
   "execution_count": 62,
   "id": "8abc418e",
   "metadata": {},
   "outputs": [
    {
     "data": {
      "image/png": "[encoded data removed]",
      "text/plain": [
       "<Figure size 432x288 with 1 Axes>"
      ]
     },
     "metadata": {
      "needs_background": "light"
     },
     "output_type": "display_data"
    }
   ],
   "source": [
    "\n",
    "plt.figure()\n",
    "\n",
    "G_xx_Vg=np.power(Rxx_Vg,-1)\n",
    "plt.plot(Vg_arr[2:],G_xx_Vg[2:])\n",
    "\n",
    "\n",
    "plt.xlabel('Tip potential (V)')\n",
    "plt.ylabel('Longitudinal Conductivity (h/2e²)^-1')\n",
    "#plt.text(0.05, 1.015, \"B = 10 T, Ef = 0.05 eV\")\n",
    "plt.title(\"Longitudinal conductivity vs tip potential\")\n",
    "\n",
    "plt.show()"
   ]
  },
  {
   "cell_type": "markdown",
   "id": "1a32ba3d",
   "metadata": {},
   "source": [
    "In this case clear steps of 2G0 are observed also for high filling factors but I don't really know to which transition they can be associated, since theoretically we have defined just 5 LL. Anyway, sweeping the gate voltage with opposite signs, the same fearures are obtained but with opposite signs, associated to the holes LL."
   ]
  },
  {
   "cell_type": "code",
   "execution_count": 37,
   "id": "b5e2952f",
   "metadata": {},
   "outputs": [
    {
     "name": "stdout",
     "output_type": "stream",
     "text": [
      "[[ 3.63124419e-02]\n",
      " [ 4.81757537e-02]\n",
      " [ 4.29405586e-02]\n",
      " [ 3.93628848e-01]\n",
      " [ 1.16973544e-02]\n",
      " [ 1.17957013e-02]\n",
      " [-9.61156715e-03]\n",
      " [ 6.31818702e-04]\n",
      " [ 5.12832846e-01]\n",
      " [ 5.33251649e-01]\n",
      " [-8.81119975e-02]\n",
      " [ 5.70826811e+00]\n",
      " [ 1.58858542e-01]\n",
      " [ 1.12135191e-01]\n",
      " [ 1.25547355e-01]\n",
      " [ 5.11171663e-03]\n",
      " [ 2.90237833e-02]\n",
      " [ 3.81290642e-04]\n",
      " [-1.60022604e-04]\n",
      " [ 1.81685405e-03]\n",
      " [ 1.17014862e-02]\n",
      " [ 4.04650998e-04]\n",
      " [ 3.28248308e-02]\n",
      " [-7.86874078e-03]\n",
      " [ 1.70157453e-02]\n",
      " [ 3.14407504e-03]\n",
      " [-2.01302193e-03]\n",
      " [ 2.12496494e-03]\n",
      " [ 1.87671749e-01]\n",
      " [ 1.36330156e-03]\n",
      " [ 3.53946709e-02]\n",
      " [ 1.20352484e-01]\n",
      " [-1.96372060e-04]\n",
      " [ 2.97318484e-03]\n",
      " [-4.53957005e-04]\n",
      " [ 5.73316538e-03]\n",
      " [ 1.12191843e-01]\n",
      " [-1.62858415e-04]\n",
      " [ 4.29861018e-05]\n",
      " [ 1.27275021e-02]\n",
      " [ 3.69699665e-04]\n",
      " [ 1.88064087e-03]\n",
      " [ 4.80517009e-03]\n",
      " [ 1.77070478e-03]\n",
      " [-2.48368973e-03]\n",
      " [ 1.07802245e-02]\n",
      " [ 1.11544599e-02]\n",
      " [ 2.86459395e+00]\n",
      " [ 2.18265987e-02]\n",
      " [ 1.71303770e-03]\n",
      " [ 5.68660414e-04]\n",
      " [ 2.25762176e-04]\n",
      " [ 1.32395765e-04]\n",
      " [ 1.31697254e-03]\n",
      " [ 6.86058849e-02]\n",
      " [ 2.77339965e-03]\n",
      " [ 1.36415443e-05]\n",
      " [ 3.97314972e-03]\n",
      " [ 4.38303263e-03]\n",
      " [ 9.58921966e-08]\n",
      " [ 7.64647671e-12]\n",
      " [ 4.52988482e-12]\n",
      " [ 1.44512044e-12]\n",
      " [ 3.97206079e-15]\n",
      " [ 1.31896892e-15]\n",
      " [ 3.42236252e-16]\n",
      " [ 3.42084874e-15]\n",
      " [ 1.77903542e-13]\n",
      " [ 3.41249147e-13]\n",
      " [ 5.07143530e-12]\n",
      " [ 6.21657281e-12]\n",
      " [ 4.84711281e-11]\n",
      " [ 3.86742162e-11]\n",
      " [ 3.66079314e-10]\n",
      " [ 5.76709111e-11]\n",
      " [ 2.50660988e-09]\n",
      " [ 5.65349574e-10]\n",
      " [ 8.43855216e-09]\n",
      " [ 3.83458024e-08]\n",
      " [ 2.96928902e-08]\n",
      " [ 4.75875259e-10]\n",
      " [ 3.38168582e-10]\n",
      " [ 4.36531115e-06]\n",
      " [ 4.47404013e-05]\n",
      " [ 9.15083339e+00]\n",
      " [ 4.34036924e-02]\n",
      " [ 2.19195547e+02]\n",
      " [ 5.55760268e+01]\n",
      " [ 2.47851455e+00]\n",
      " [ 1.31378850e+00]\n",
      " [ 1.06389626e+01]\n",
      " [ 1.37654887e+01]\n",
      " [ 3.22962306e-03]\n",
      " [ 5.81290107e+01]\n",
      " [ 9.14538945e+01]\n",
      " [ 1.04925246e+02]\n",
      " [ 7.35605925e+02]\n",
      " [ 1.34032235e-02]\n",
      " [ 2.11439654e+02]\n",
      " [ 1.04488524e+01]]\n"
     ]
    }
   ],
   "source": [
    "#print(Vg_arr)\n",
    "\n",
    "print(Rxx_Vg)"
   ]
  },
  {
   "cell_type": "markdown",
   "id": "5663a890",
   "metadata": {},
   "source": [
    "### Open issues\n",
    "#### - 2G0 steps (?)\n",
    "#### - Longitudinal resistivity null\n",
    "#### - Plateaus associated with transitions out of the 5 LL defined"
   ]
  },
  {
   "cell_type": "code",
   "execution_count": 43,
   "id": "8fabaee9",
   "metadata": {},
   "outputs": [
    {
     "name": "stdout",
     "output_type": "stream",
     "text": [
      "[9.58921966e-08]\n",
      "-0.015050505050505064\n"
     ]
    }
   ],
   "source": [
    "np.where(Rxx_Vg < 1e-08)\n",
    "print(Rxx_Vg[59])\n",
    "print(Vg_arr[59])\n"
   ]
  },
  {
   "cell_type": "code",
   "execution_count": 22,
   "id": "b9c7df46",
   "metadata": {},
   "outputs": [
    {
     "name": "stdout",
     "output_type": "stream",
     "text": [
      "[-2.95608398e-02  1.66912204e-08  2.95608231e-02 ... -4.07359647e-11\n",
      "  2.62241490e-03 -2.16840434e-17]\n",
      "[-3.17159304e-03  1.79039298e-09  3.17159125e-03 ... -4.02644699e-10\n",
      "  2.60325825e-02  1.30104261e-16]\n"
     ]
    }
   ],
   "source": [
    "print(current)\n",
    "print(current_right)"
   ]
  },
  {
   "cell_type": "code",
   "execution_count": null,
   "id": "44122bbf",
   "metadata": {},
   "outputs": [],
   "source": []
  },
  {
   "cell_type": "code",
   "execution_count": null,
   "id": "48057854",
   "metadata": {},
   "outputs": [],
   "source": []
  }
 ],
 "metadata": {
  "kernelspec": {
   "display_name": "Python 3",
   "language": "python",
   "name": "python3"
  },
  "language_info": {
   "codemirror_mode": {
    "name": "ipython",
    "version": 3
   },
   "file_extension": ".py",
   "mimetype": "text/x-python",
   "name": "python",
   "nbconvert_exporter": "python",
   "pygments_lexer": "ipython3",
   "version": "3.8.8"
  }
 },
 "nbformat": 4,
 "nbformat_minor": 5
}
