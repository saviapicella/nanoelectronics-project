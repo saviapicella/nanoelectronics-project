{
 "cells": [
  {
   "cell_type": "markdown",
   "id": "7d211f71",
   "metadata": {},
   "source": [
    "# <center>Graphene quantum Hall effect</center>\n",
    "<hr>"
   ]
  },
  {
   "cell_type": "code",
   "execution_count": 1,
   "id": "a87a2a3c",
   "metadata": {},
   "outputs": [],
   "source": [
    "import kwant\n",
    "import scipy\n",
    "import numpy as np\n",
    "import random\n",
    "from matplotlib import pyplot as plt"
   ]
  },
  {
   "cell_type": "markdown",
   "id": "57b88c51",
   "metadata": {},
   "source": [
    "### Fundamental constants"
   ]
  },
  {
   "cell_type": "code",
   "execution_count": 2,
   "id": "c3929b67",
   "metadata": {},
   "outputs": [],
   "source": [
    "h = 6.626069e-34  # Planck constant (Js)\n",
    "h_bar =h/(2*np.pi) # With h_bar oom larger and Bmax=30, it works perfectly\n",
    "\n",
    "# Scaling factor of 10 required --> h_bar normal, Bmax=3\n",
    "\n",
    "e = 1.602e-19      # electron charge (C)\n",
    "c = 299792458       # Light celerity (m/s)\n",
    "kB = 1.3806503e-23  # Boltzmann constant (kg m2/Ks2)\n",
    "m_e = 9.1e-31       # electron mass (kg)"
   ]
  },
  {
   "cell_type": "markdown",
   "id": "41f1f3c9",
   "metadata": {},
   "source": [
    "### Scaling"
   ]
  },
  {
   "cell_type": "code",
   "execution_count": 3,
   "id": "8cdae985",
   "metadata": {},
   "outputs": [],
   "source": [
    "asquare = 1e-9 # [m] a is the lattice parameter\n",
    "tsquare = 1 # [eV] t is the hopping parameter\n",
    "\n",
    "# scaling\n",
    "\n",
    "scaling = 4 # scaling factor\n",
    "a = asquare * scaling\n",
    "t = tsquare / scaling"
   ]
  },
  {
   "cell_type": "markdown",
   "id": "9514f54b",
   "metadata": {},
   "source": [
    "### Geometrical parameters"
   ]
  },
  {
   "cell_type": "code",
   "execution_count": 4,
   "id": "86f1afd4",
   "metadata": {},
   "outputs": [],
   "source": [
    "W=200e-9 ; L = 1000e-9 # width and length of the electronic system\n",
    "\n",
    "# For width smaller than 50 nm, the script does not work since the magnetic length is 30 nm so wf start to overlap (?)\n",
    "# Also for width slightly larger than that, the steps in the Hall resistance are lost. For w=200 nm they are recovered.\n",
    "\n",
    "width_lead=20e-9                                         \n",
    "posL = 350e-9 # pos of the leads along x\n",
    "lead_ext = posL + width_lead / 2\n",
    "lead_int = posL - width_lead / 2\n",
    "\n",
    "flag=0"
   ]
  },
  {
   "cell_type": "markdown",
   "id": "1c7558c3",
   "metadata": {},
   "source": [
    "#### Geometry of the device"
   ]
  },
  {
   "cell_type": "code",
   "execution_count": 5,
   "id": "9cd338d4",
   "metadata": {},
   "outputs": [],
   "source": [
    "def geom(pos):\n",
    "    x, y = pos\n",
    "    return abs(x) < L / 2 and abs(y) < W / 2"
   ]
  },
  {
   "cell_type": "markdown",
   "id": "7d163064",
   "metadata": {},
   "source": [
    "#### Geometry of the leads"
   ]
  },
  {
   "cell_type": "code",
   "execution_count": 6,
   "id": "8e9136b8",
   "metadata": {},
   "outputs": [],
   "source": [
    "def lead_shape(pos):\n",
    "    x, y = pos\n",
    "    return -W/2 < y < W/2\n",
    "\n",
    "\n",
    "def lead_shape_left(pos):\n",
    "    x, y = pos\n",
    "    return -lead_ext < x < -lead_int\n",
    "\n",
    "\n",
    "def lead_shape_right(pos):\n",
    "    x, y = pos    \n",
    "    return lead_int < x < lead_ext"
   ]
  },
  {
   "cell_type": "markdown",
   "id": "13cacfe0",
   "metadata": {},
   "source": [
    "#### Geometry of the potentials"
   ]
  },
  {
   "cell_type": "code",
   "execution_count": 7,
   "id": "f85fe69b",
   "metadata": {},
   "outputs": [],
   "source": [
    "def one_step_potential(x, y):\n",
    "\n",
    "    region_1 = 150e-9\n",
    "    w_pot = 0\n",
    "    \n",
    "    in_region_1 = abs(x) < region_1 and abs(y) < W / 2 - w_pot\n",
    "    \n",
    "    return in_region_1 * v_tip\n",
    "\n",
    "\n",
    "def smooth_potential(x, y):\n",
    "    \n",
    "    region_1 = 150e-9\n",
    "    w_pot = 0\n",
    "    \n",
    "    in_region_1 = abs(x) < region_1 and abs(y) < W / 2 - w_pot\n",
    "    \n",
    "    return in_region_1 * np.cos(abs(x) * np.pi / (2 * region_1)) * (v_tip - 0.01)\n",
    "\n",
    "\n",
    "def two_steps_potential(x, y):\n",
    "    \n",
    "    region_1 = 100e-9\n",
    "    region_2 = 200e-9\n",
    "    w_pot = 0 \n",
    "\n",
    "    in_region_2 = abs(x) < region_2 and abs(y) < W / 2 - w_pot\n",
    "    in_region_1 = abs(x) < region_1 and abs(y) < W / 2 - w_pot\n",
    "    \n",
    "    return (in_region_1 + in_region_2) * v_tip / 2"
   ]
  },
  {
   "cell_type": "markdown",
   "id": "174cd0d2",
   "metadata": {},
   "source": [
    "#### Defining onsite and hopping parameters"
   ]
  },
  {
   "cell_type": "code",
   "execution_count": 8,
   "id": "68423b85",
   "metadata": {},
   "outputs": [],
   "source": [
    "def onsite(site):\n",
    "    \"\"\"\n",
    "    Definition of the potential. To reach the bottom of the conduction band, the potential is set at 4*t.\n",
    "    A zone of potential v_tip (above the bottom of the conduction band) can be defined in a given zone \n",
    "    (square or circle here). \n",
    "    \"\"\"\n",
    "    x, y = site.pos\n",
    "    \n",
    "        \n",
    "    return -one_step_potential(x, y) + disorder(site)"
   ]
  },
  {
   "cell_type": "markdown",
   "id": "9e3c5c3f",
   "metadata": {},
   "source": [
    "#### Disorder potential"
   ]
  },
  {
   "cell_type": "code",
   "execution_count": 9,
   "id": "169ca1cd",
   "metadata": {},
   "outputs": [],
   "source": [
    "def disorder(pos):\n",
    "    x, y = pos\n",
    "    \n",
    "    #pot=0.05*random.uniform(0,t)\n",
    "    pot=0\n",
    "    \n",
    "    flag = 1 if (pot != 0) else 0\n",
    "    \n",
    "    return pot"
   ]
  },
  {
   "cell_type": "markdown",
   "id": "8832d6e3",
   "metadata": {},
   "source": [
    "Introducing a disorder of 0.01 leads to peaks in longitudinal resistance but we retain anyway plateaus in Hall resistance."
   ]
  },
  {
   "cell_type": "markdown",
   "id": "8fd81382",
   "metadata": {},
   "source": [
    "#### Hopping parameter"
   ]
  },
  {
   "cell_type": "code",
   "execution_count": 10,
   "id": "49c70bf2",
   "metadata": {},
   "outputs": [],
   "source": [
    "def hopping(site_i, site_j):  \n",
    "    \n",
    "    xi, yi = site_i.pos\n",
    "    xj, yj = site_j.pos\n",
    "    \n",
    "    # The definition of hop to include the magnetic field Bfield in the definition of the hopping parameter\n",
    "    \n",
    "    hop = t * np.exp(1j * e * Bfield * (yi + yj) * (xj - xi) / (2 * h_bar))\n",
    "    \n",
    "    return hop"
   ]
  },
  {
   "cell_type": "markdown",
   "id": "d9b5d2f7",
   "metadata": {},
   "source": [
    "## Building the system"
   ]
  },
  {
   "cell_type": "code",
   "execution_count": 11,
   "id": "b0974cdf",
   "metadata": {},
   "outputs": [],
   "source": [
    "def sys_builder():\n",
    "    \n",
    "    graphene = kwant.lattice.general([(np.sqrt(3) * a, 0), (0, 3 * a)], \n",
    "                                     [(a * np.sqrt(3) / 2, 0), (0, a / 2), (0, 3 * a / 2), (a * np.sqrt(3) / 2, 2 * a)], \n",
    "                                     norbs = 1)\n",
    "    \n",
    "    A, B, C, D = graphene.sublattices\n",
    "      \n",
    "    sys = kwant.Builder()\n",
    "    sys[graphene.shape(geom, (0,0))] = onsite\n",
    "    \n",
    "    hoppings = (((0, 0), B, A), ((0, 0), C, B), ((0, 0), D, C), ((-1, 0), A, B), ((-1, 0), D, C), ((0, 1), A, D)) \n",
    "    sys[[kwant.builder.HoppingKind(*hopping) for hopping in hoppings]] = hopping\n",
    "\n",
    "# Schematic of the Hall bar\n",
    "#   ,----------o----Vxx----.--------------.\n",
    "#   |  Lead 3  |           |  Lead 5    __|__\n",
    "#  Vxy     __|   |_______|   |__        '''''    (ground)\n",
    "#   |               I\n",
    "#   | Lead 1      ----->      Lead 2\n",
    "#   |      __     _______     __\n",
    "#   |        |   |       |   |\n",
    "#   |  Lead 4  |               Lead 6\n",
    "#   `----------'\n",
    "    \n",
    "    \"\"\" Lead 1 \"\"\"\n",
    "    sym0 = kwant.TranslationalSymmetry(graphene.vec((-1, 0)))\n",
    "    lead0 = kwant.Builder(sym0)\n",
    "    lead0[graphene.shape(lead_shape, (0, 0))] = 0 # is it really zero here? I think yes\n",
    "    lead0[graphene.neighbors()] = hopping\n",
    "\n",
    "    \"\"\" Lead 2 \"\"\"\n",
    "    sym1 = kwant.TranslationalSymmetry(graphene.vec((1, 0)))\n",
    "    lead1 = kwant.Builder(sym1)\n",
    "    lead1[graphene.shape(lead_shape, (0, 0))] = 0    \n",
    "    lead1[graphene.neighbors()] = hopping\n",
    "\n",
    "    \"\"\" Lead 3 \"\"\"\n",
    "    sym2 = kwant.TranslationalSymmetry(graphene.vec((0, 1)))\n",
    "    lead2 = kwant.Builder(sym2)\n",
    "    lead2[graphene.shape(lead_shape_left, (-posL, 0))] = 0\n",
    "    lead2[graphene.neighbors()] = hopping\n",
    "\n",
    "    \"\"\" Lead 4 \"\"\"\n",
    "    sym3 = kwant.TranslationalSymmetry(graphene.vec((0, -1)))\n",
    "    lead3 = kwant.Builder(sym3)\n",
    "    lead3[graphene.shape(lead_shape_left, (-posL, 0))] = 0\n",
    "    lead3[graphene.neighbors()] = hopping\n",
    "\n",
    "    \"\"\" Lead 5 \"\"\" \n",
    "    lead4 = kwant.Builder(sym2)\n",
    "    lead4[graphene.shape(lead_shape_right, (posL, 0))] = 0\n",
    "    lead4[graphene.neighbors()] = hopping\n",
    "    \n",
    "    \"\"\"Lead 6\"\"\"\n",
    "    lead5 = kwant.Builder(sym3)\n",
    "    lead5[graphene.shape(lead_shape_right, (posL, 0))] = 0\n",
    "    lead5[graphene.neighbors()] = hopping\n",
    "    \n",
    "    \"\"\" The leads are attached \"\"\"\n",
    "    sys.attach_lead(lead0)\n",
    "    sys.attach_lead(lead1)\n",
    "    sys.attach_lead(lead2)\n",
    "    sys.attach_lead(lead3)\n",
    "    sys.attach_lead(lead4)\n",
    "    sys.attach_lead(lead5)\n",
    " \n",
    "    sys = sys.finalized()\n",
    "    \n",
    "    return sys   "
   ]
  },
  {
   "cell_type": "code",
   "execution_count": 12,
   "id": "7f92ff4b",
   "metadata": {},
   "outputs": [],
   "source": [
    "sys = sys_builder()"
   ]
  },
  {
   "cell_type": "markdown",
   "id": "5ce01c8e",
   "metadata": {},
   "source": [
    "#### Plotting the system"
   ]
  },
  {
   "cell_type": "code",
   "execution_count": 13,
   "id": "c576a2af",
   "metadata": {},
   "outputs": [
    {
     "data": {
      "image/png": "[encoded data removed]",
      "text/plain": [
       "<Figure size 432x288 with 1 Axes>"
      ]
     },
     "metadata": {
      "needs_background": "light"
     },
     "output_type": "display_data"
    },
    {
     "data": {
      "image/png": "[encoded data removed]",
      "text/plain": [
       "<Figure size 432x288 with 1 Axes>"
      ]
     },
     "execution_count": 13,
     "metadata": {},
     "output_type": "execute_result"
    }
   ],
   "source": [
    "kwant.plot(sys, site_size = 1e-9)"
   ]
  },
  {
   "cell_type": "markdown",
   "id": "7fdf8c5d",
   "metadata": {},
   "source": [
    "## Electronic properties"
   ]
  },
  {
   "cell_type": "code",
   "execution_count": 14,
   "id": "78c49cc5",
   "metadata": {},
   "outputs": [],
   "source": [
    "Ef = 0.13 # maybe it could be modified\n",
    "Bfield = 3\n",
    "v_tip = -0.1 # max potential below the tip\n",
    "\n",
    "params = dict(Bfield = Bfield, v_tip = v_tip) # params take the magnetic field as a parameter for the function hopping"
   ]
  },
  {
   "cell_type": "code",
   "execution_count": 15,
   "id": "f073c2d7",
   "metadata": {},
   "outputs": [],
   "source": [
    "# The wavelength must be (much more) larger than the lattice parameter \n",
    "# We can also check the width of the device w.r.t. the magnetic length, which is the extension of the wf \n",
    "\n",
    "lambda_F = 3 * np.pi * t* a /abs(Ef) # computation of the wavelength\n",
    "mag_length=np.sqrt(h_bar/(e*Bfield))\n",
    "\n",
    "if lambda_F/a < 2:\n",
    "    print('Warning : lambda_F must be larger than the lattice parameter a')\n",
    "    \n",
    "if mag_length > W/2:\n",
    "    print('Warning : wavefunctions extend across the whole bar')"
   ]
  },
  {
   "cell_type": "markdown",
   "id": "5b44c840",
   "metadata": {},
   "source": [
    "#### Visualization of the Landau Levels"
   ]
  },
  {
   "cell_type": "code",
   "execution_count": 16,
   "id": "2981ca22",
   "metadata": {
    "scrolled": false
   },
   "outputs": [
    {
     "name": "stdout",
     "output_type": "stream",
     "text": [
      "LL-4 = -0.2864112633429544\n",
      "LL-3 = -0.24803942998499326\n",
      "LL-2 = -0.20252334651800907\n",
      "LL-1 = -0.1432056316714772\n",
      "LL0 = -0.0\n",
      "LL1 = 0.1432056316714772\n",
      "LL2 = 0.20252334651800907\n",
      "LL3 = 0.24803942998499326\n",
      "LL4 = 0.2864112633429544\n",
      "Fermi Energy =0.13\n"
     ]
    },
    {
     "data": {
      "image/png": "[encoded data removed]",
      "text/plain": [
       "<Figure size 432x288 with 1 Axes>"
      ]
     },
     "metadata": {
      "needs_background": "light"
     },
     "output_type": "display_data"
    }
   ],
   "source": [
    "ll_num = 5\n",
    "ll_indexes = np.arange(0, ll_num)\n",
    "lls = -3 * t * a * np.sqrt(e  * ll_indexes * Bfield / (2 * h_bar))\n",
    "lls = np.append(lls[::-1], -lls[1:])\n",
    "\n",
    "plt.figure()\n",
    "\n",
    "for n, ll in enumerate(lls):\n",
    "     \n",
    "    # Landau levels as a function of the magnetic field Bfield and the Landau level label n\n",
    "    plt.hlines(ll, 0, 1, color=\"b\")\n",
    "    plt.hlines(ll, 0, 1, color=\"b\")\n",
    "    print(f'LL{n - (ll_num - 1)} = {ll}')\n",
    "    \n",
    "print (f'Fermi Energy ={Ef}')\n",
    "    \n",
    "plt.hlines(Ef, 0, 1, colors='r', linestyles=\"dashed\", label='Fermi level') # to plot the Fermi energy (in red)\n",
    "plt.xlabel('DOS [a.u.]')\n",
    "plt.ylabel('Energy [eV]')\n",
    "plt.legend()\n",
    "plt.show()"
   ]
  },
  {
   "cell_type": "markdown",
   "id": "b4491cd1",
   "metadata": {},
   "source": [
    "#### Definition of the stairwell tip potential"
   ]
  },
  {
   "cell_type": "code",
   "execution_count": 17,
   "id": "8004b709",
   "metadata": {},
   "outputs": [
    {
     "data": {
      "image/png": "[encoded data removed]",
      "text/plain": [
       "<Figure size 432x288 with 1 Axes>"
      ]
     },
     "metadata": {
      "needs_background": "light"
     },
     "output_type": "display_data"
    }
   ],
   "source": [
    "N=500\n",
    "x_positions = np.linspace(-L / 2, L / 2, N) \n",
    "stair_potential = np.zeros(N)\n",
    "\n",
    "for x_idx, x_pos in enumerate(x_positions):\n",
    "            stair_potential[x_idx] = two_steps_potential(x_pos, 0)\n",
    "\n",
    "plt.figure()       \n",
    "plt.plot(x_positions, stair_potential)\n",
    "plt.xlabel('X position in the Hall bar')\n",
    "plt.ylabel('Tip potential')\n",
    "plt.show()"
   ]
  },
  {
   "cell_type": "markdown",
   "id": "eae3b8b8",
   "metadata": {},
   "source": [
    "### Visualization of the LL + step potential"
   ]
  },
  {
   "cell_type": "code",
   "execution_count": 18,
   "id": "5a71421e",
   "metadata": {
    "scrolled": false
   },
   "outputs": [
    {
     "data": {
      "image/png": "[encoded data removed]",
      "text/plain": [
       "<Figure size 432x288 with 1 Axes>"
      ]
     },
     "metadata": {
      "needs_background": "light"
     },
     "output_type": "display_data"
    },
    {
     "data": {
      "image/png": "[encoded data removed]",
      "text/plain": [
       "<Figure size 432x288 with 1 Axes>"
      ]
     },
     "metadata": {
      "needs_background": "light"
     },
     "output_type": "display_data"
    }
   ],
   "source": [
    "ll_step_matrix = np.zeros((2 * ll_num - 1, N))\n",
    "ll_stair_matrix = np.zeros((2 * ll_num - 1, N))\n",
    "\n",
    "for x_idx, x_pos in enumerate(x_positions):\n",
    "    ll_step_matrix[:, x_idx] = lls[:] - one_step_potential(x_pos, 0)\n",
    "    ll_stair_matrix[:, x_idx] = lls[:] - two_steps_potential(x_pos, 0)\n",
    "    \n",
    "plt.figure()\n",
    "for ll_row in ll_step_matrix:\n",
    "    \n",
    "    plt.plot(x_positions, ll_row)\n",
    "\n",
    "plt.hlines(Ef, -L/2, L/2, colors='k', linestyles=\"dashed\", label='Fermi level')\n",
    "plt.xlabel('X position in the Hall bar')\n",
    "plt.ylabel('Energy (eV)')\n",
    "plt.title('LL with a step tip potential')\n",
    "\n",
    "plt.figure()\n",
    "for ll_row in ll_stair_matrix:\n",
    "    \n",
    "    plt.plot(x_positions, ll_row)\n",
    "\n",
    "plt.hlines(Ef, -L/2, L/2, colors='k', linestyles=\"dashed\", label='Fermi level')\n",
    "plt.xlabel('X position in the Hall bar')\n",
    "plt.ylabel('Energy (eV)')\n",
    "plt.title('LL with a stair tip potential')\n",
    "\n",
    "plt.show()"
   ]
  },
  {
   "cell_type": "markdown",
   "id": "e42e2aa3",
   "metadata": {},
   "source": [
    "### Current and wf density"
   ]
  },
  {
   "cell_type": "markdown",
   "id": "55774c9f",
   "metadata": {},
   "source": [
    "#### Wave function"
   ]
  },
  {
   "cell_type": "code",
   "execution_count": 19,
   "id": "6a643fc3",
   "metadata": {},
   "outputs": [],
   "source": [
    "wfs = kwant.wave_function(sys, energy=Ef, params = params) # the wf is obtained by giving the parameters in arguments\n",
    "scattering_wf = wfs(0) # all scattering wave functions from lead 0"
   ]
  },
  {
   "cell_type": "markdown",
   "id": "1feee122",
   "metadata": {},
   "source": [
    "#### Current density\n"
   ]
  },
  {
   "cell_type": "code",
   "execution_count": 20,
   "id": "a3cc38b9",
   "metadata": {
    "scrolled": false
   },
   "outputs": [
    {
     "data": {
      "image/png": "[encoded data removed]",
      "text/plain": [
       "<Figure size 432x288 with 2 Axes>"
      ]
     },
     "metadata": {
      "needs_background": "light"
     },
     "output_type": "display_data"
    },
    {
     "data": {
      "image/png": "[encoded data removed]",
      "text/plain": [
       "<Figure size 432x288 with 2 Axes>"
      ]
     },
     "metadata": {
      "needs_background": "light"
     },
     "output_type": "display_data"
    },
    {
     "name": "stdout",
     "output_type": "stream",
     "text": [
      "Disorder potential not activated\n"
     ]
    }
   ],
   "source": [
    "# To obtain edge states, a strong field is required, in order to be in the high magnetic field regime. 2 T gives edge states, \n",
    "# 0.1 T gives normal conduction\n",
    "\n",
    "J0 = kwant.operator.Current(sys)\n",
    "wf_left = wfs(0)\n",
    "wf_right = wfs(1)\n",
    "\n",
    "current = sum(J0(p, params = params) for p in wf_left) # to sum over all the lead's mode\n",
    "current_right=sum(J0(p, params = params) for p in wf_right)\n",
    "\n",
    "kwant.plotter.current(sys, current, cmap='viridis')\n",
    "kwant.plotter.current(sys, current_right, cmap='viridis')\n",
    "\n",
    "if(flag==1):\n",
    "    print('Disorder potential activated')\n",
    "else:\n",
    "    print('Disorder potential not activated')"
   ]
  },
  {
   "cell_type": "markdown",
   "id": "85219244",
   "metadata": {},
   "source": [
    "To have clear current plots you have to make sure the potential zone does not overlap with the leads."
   ]
  },
  {
   "cell_type": "markdown",
   "id": "69553cde",
   "metadata": {},
   "source": [
    "### Plotting Hall conductance as function of the back gate voltage applied (Fermi level)"
   ]
  },
  {
   "cell_type": "code",
   "execution_count": 28,
   "id": "c5bcd78e",
   "metadata": {},
   "outputs": [],
   "source": [
    "Ef_min = 0.06 # just above LL n = 0\n",
    "Ef_max = 0.18 # just below LL n = 2\n",
    "num_it = 20\n",
    "num_leads = 6\n",
    "\n",
    "fermi_energies = np.linspace(Ef_min, Ef_max, num_it)\n",
    "\n",
    "Rxx = np.zeros(num_it)\n",
    "Rxy = np.zeros(num_it)\n",
    "\n",
    "params = dict(Bfield = Bfield, v_tip = v_tip)\n",
    "\n",
    "for idx, en in enumerate(fermi_energies):\n",
    "        \n",
    "    try:    \n",
    "        s = kwant.smatrix(sys, energy=en, params=params)\n",
    "        \n",
    "        # conductance matrix from the transmission matrix\n",
    "        cond = np.array([[s.transmission(i, j) for j in range(num_leads)] for i in range(num_leads)])\n",
    "        \n",
    "        cond -= np.diag(cond.sum(axis=0))\n",
    "        \n",
    "        cm = s.conductance_matrix()[:-1, :-1]\n",
    "        \n",
    "        R = np.linalg.solve(cm, [1, -1, 0, 0, 0])\n",
    "        Rxx[idx] = R[3]\n",
    "        Rxy[idx] = R[4]\n",
    "    \n",
    "    except Exception as e:\n",
    "        print(f'problem encountered at iteration {idx} with the following error: \\n {e}')"
   ]
  },
  {
   "cell_type": "markdown",
   "id": "e46d74da",
   "metadata": {},
   "source": [
    "### Hall resistivity vs Fermi Energy"
   ]
  },
  {
   "cell_type": "code",
   "execution_count": 29,
   "id": "fcc7dee3",
   "metadata": {},
   "outputs": [
    {
     "data": {
      "image/png": "[encoded data removed]",
      "text/plain": [
       "<Figure size 432x288 with 1 Axes>"
      ]
     },
     "metadata": {
      "needs_background": "light"
     },
     "output_type": "display_data"
    }
   ],
   "source": [
    "plt.figure()\n",
    "plt.title(\"Hall resistivity vs Fermi energy\")\n",
    "plt.plot(fermi_energies, Rxy, label = 'Hall resistivity')\n",
    "plt.xlabel('Fermi Energy (eV)')\n",
    "plt.ylabel('Resistivity (h/2e²)')\n",
    "plt.legend()\n",
    "plt.show()"
   ]
  },
  {
   "cell_type": "markdown",
   "id": "c5ae287c",
   "metadata": {},
   "source": [
    "### Longitudinal resistivity vs Fermi energy (with non-zero tip potential)"
   ]
  },
  {
   "cell_type": "code",
   "execution_count": 30,
   "id": "8ab3b687",
   "metadata": {},
   "outputs": [
    {
     "data": {
      "image/png": "[encoded data removed]",
      "text/plain": [
       "<Figure size 432x288 with 1 Axes>"
      ]
     },
     "metadata": {
      "needs_background": "light"
     },
     "output_type": "display_data"
    }
   ],
   "source": [
    "# indices=np.where(Rxx_Ef > 10)\n",
    "# Rxx_Ef[indices] = 0\n",
    "\n",
    "plt.figure()\n",
    "plt.title(\"Longitudinal resistivity vs Fermi energy\")\n",
    "plt.hlines(1/3, Ef_min, Ef_max)\n",
    "plt.plot(fermi_energies, Rxx, label = 'Longitudinal resistivity')\n",
    "plt.xlabel('Fermi Energy (eV)')\n",
    "plt.ylabel('Resistivity (h/2e²)')\n",
    "plt.legend()\n",
    "plt.show()"
   ]
  },
  {
   "cell_type": "code",
   "execution_count": 24,
   "id": "4215ff2d",
   "metadata": {},
   "outputs": [],
   "source": [
    "# Ef_1 = modified_LL[0,2]\n",
    "# Ef_2 = modified_LL[2,0]\n",
    "# Ef_3 = modified_LL[1,2]\n",
    "# Ef_4 = modified_LL[0,0]\n",
    "\n",
    "# print(f'For {Ef_min:6.5f} < Ef < {Ef_1:6.5f} partial bs regime (-6, -2, -6)')\n",
    "# print(f'For {Ef_1:6.5f} < Ef < {Ef_2:6.5f} partial bs regime and full bs regime (-6, -2, 2, -2, -6)')\n",
    "# print(f'For {Ef_2:6.5f} < Ef < {Ef_3:6.5f} full bs regime (-2, 2, -2)')\n",
    "# print(f'For {Ef_3:6.5f} < Ef < {Ef_4:6.5f} full bs regime and indirect bs regime (-2, 2, 6, 2, -2)')\n",
    "# print(f'For {Ef_4:6.5f} < Ef < {Ef_max:6.5f} indirect bs regime (2, 6, 2)')"
   ]
  },
  {
   "cell_type": "markdown",
   "id": "b2132bb1",
   "metadata": {},
   "source": [
    "### Plotting Hall conductivity as function of local potential (tip potential)"
   ]
  },
  {
   "cell_type": "code",
   "execution_count": 25,
   "id": "d2ea67ef",
   "metadata": {},
   "outputs": [],
   "source": [
    "v_tip_min=-0.17\n",
    "v_tip_max=0.09\n",
    "n_iter_v_tip =100;\n",
    "\n",
    "v_tip_arr = np.linspace(v_tip_min,v_tip_max,n_iter_v_tip)\n",
    "Rxx_v_tip = np.zeros([len(v_tip_arr),1])\n",
    "Rxy_v_tip = np.zeros([len(v_tip_arr),1])\n",
    "\n",
    "for idx, v_tip in enumerate(v_tip_arr):\n",
    "        \n",
    "    try:\n",
    "        params = dict(Bfield = Bfield, v_tip = v_tip)\n",
    "        s = kwant.smatrix(sys, energy=Ef, params=params)\n",
    "        \n",
    "        #conductance matrix from the transmission matrix\n",
    "        cond = np.array([[s.transmission(i, j) for j in range(num_leads)] for i in range(num_leads)])\n",
    "        cond -= np.diag(cond.sum(axis=0))\n",
    "        cm = s.conductance_matrix()[:-1, :-1]\n",
    "        R = np.linalg.solve(cm, [1, -1, 0, 0, 0])\n",
    "        Rxx_v_tip[idx] = R[3]\n",
    "        Rxy_v_tip[idx] = R[4]\n",
    "        \n",
    "    except Exception as e:\n",
    "        print(f'problem encountered at iteration {i} with the following error: \\n {e}')\n"
   ]
  },
  {
   "cell_type": "markdown",
   "id": "de6673ac",
   "metadata": {},
   "source": [
    "### Hall resistivity vs tip potential"
   ]
  },
  {
   "cell_type": "code",
   "execution_count": 26,
   "id": "04ad974a",
   "metadata": {},
   "outputs": [],
   "source": [
    "# plt.figure()\n",
    "# plt.title(\"Hall resistivity vs tip potential\")\n",
    "# #plt.plot(Vg_arr, Rxy_Vg, label = 'Hall resistivity')\n",
    "# plt.plot(v_tip_arr,Rxx_v_tip, label = 'Longitudinal resistivity')\n",
    "# plt.xlabel('Tip potential (V)')\n",
    "# plt.ylabel('Resistivity (h/2e²)')\n",
    "# plt.legend()\n",
    "# plt.show()"
   ]
  },
  {
   "cell_type": "markdown",
   "id": "126e9c71",
   "metadata": {},
   "source": [
    "It seems like the transitions in the Hall resistance occur when Ef = LL at the edges, so R hall should not be influenced by the swiping of the potential. For these values of Ef and B, Rhall=1 (see figure Rh vs B) which is indeed what we get"
   ]
  },
  {
   "cell_type": "markdown",
   "id": "34b12dea",
   "metadata": {},
   "source": [
    "About the longitudinal resistance, a small peak is observed for Vg_minus_1 (crossing with LL -1), no peak is observed for Vg_0 (crossing with 0th LL) and a series of peaks is observed in the surroundings of Vg_plus_1 (crossing with first LL) anyway I cannot explain the other peaks in this region. No peak is observed for Vg_0 since for the interval Vg_0 < V < Vg_plus_1 you have the same filling factor all the device. "
   ]
  },
  {
   "cell_type": "markdown",
   "id": "2e821be5",
   "metadata": {},
   "source": [
    "Since the conductivity is defined in units of hbar/2e^2 the values of the filling factors which can be retrieved from the plot have to be multiplied by 2. Therefore one gets the usual succession of filling factors in graphene so 2,6,10 etc. with the spins and valley degeneracy, evein if the spin has not been explicitly considered in the calculations. The step for v=14 is anyway missing (crossing of third LL, n=3)."
   ]
  },
  {
   "cell_type": "markdown",
   "id": "321e2110",
   "metadata": {},
   "source": [
    "### Conductivity vs Fermi energy"
   ]
  },
  {
   "cell_type": "code",
   "execution_count": 27,
   "id": "9dd38d3b",
   "metadata": {},
   "outputs": [
    {
     "ename": "NameError",
     "evalue": "name 'Rxy_Ef' is not defined",
     "output_type": "error",
     "traceback": [
      "\u001b[0;31m---------------------------------------------------------------------------\u001b[0m",
      "\u001b[0;31mNameError\u001b[0m                                 Traceback (most recent call last)",
      "\u001b[0;32m/tmp/ipykernel_7249/2530479572.py\u001b[0m in \u001b[0;36m<module>\u001b[0;34m\u001b[0m\n\u001b[1;32m      1\u001b[0m \u001b[0mplt\u001b[0m\u001b[0;34m.\u001b[0m\u001b[0mfigure\u001b[0m\u001b[0;34m(\u001b[0m\u001b[0;34m)\u001b[0m\u001b[0;34m\u001b[0m\u001b[0;34m\u001b[0m\u001b[0m\n\u001b[1;32m      2\u001b[0m \u001b[0;34m\u001b[0m\u001b[0m\n\u001b[0;32m----> 3\u001b[0;31m \u001b[0mG_xy_Ef\u001b[0m \u001b[0;34m=\u001b[0m \u001b[0mnp\u001b[0m\u001b[0;34m.\u001b[0m\u001b[0mpower\u001b[0m\u001b[0;34m(\u001b[0m\u001b[0mRxy_Ef\u001b[0m\u001b[0;34m,\u001b[0m\u001b[0;34m-\u001b[0m\u001b[0;36m1\u001b[0m\u001b[0;34m)\u001b[0m\u001b[0;34m\u001b[0m\u001b[0;34m\u001b[0m\u001b[0m\n\u001b[0m\u001b[1;32m      4\u001b[0m \u001b[0mplt\u001b[0m\u001b[0;34m.\u001b[0m\u001b[0mplot\u001b[0m\u001b[0;34m(\u001b[0m\u001b[0mEf_arr\u001b[0m\u001b[0;34m[\u001b[0m\u001b[0;36m8\u001b[0m\u001b[0;34m:\u001b[0m\u001b[0;36m42\u001b[0m\u001b[0;34m]\u001b[0m\u001b[0;34m,\u001b[0m\u001b[0mG_xy_Ef\u001b[0m\u001b[0;34m[\u001b[0m\u001b[0;36m8\u001b[0m\u001b[0;34m:\u001b[0m\u001b[0;36m42\u001b[0m\u001b[0;34m]\u001b[0m\u001b[0;34m)\u001b[0m\u001b[0;34m\u001b[0m\u001b[0;34m\u001b[0m\u001b[0m\n\u001b[1;32m      5\u001b[0m \u001b[0;34m\u001b[0m\u001b[0m\n",
      "\u001b[0;31mNameError\u001b[0m: name 'Rxy_Ef' is not defined"
     ]
    },
    {
     "data": {
      "text/plain": [
       "<Figure size 432x288 with 0 Axes>"
      ]
     },
     "metadata": {},
     "output_type": "display_data"
    }
   ],
   "source": [
    "plt.figure()\n",
    "\n",
    "G_xy_Ef = np.power(Rxy_Ef,-1)\n",
    "plt.plot(Ef_arr[8:42],G_xy_Ef[8:42])\n",
    "\n",
    "G_j=np.zeros(len(Ef_arr))\n",
    "for j in range (1,11,2):\n",
    "    G_plus_j=j*np.ones(len(Ef_arr))\n",
    "    G_minus_j=-j*np.ones(len(Ef_arr))\n",
    "    if (j==1):\n",
    "         plt.plot(Ef_arr,G_plus_j,'b-.', label=\"v = +- 2\")\n",
    "         plt.plot(Ef_arr,G_minus_j,'b-.')\n",
    "    elif(j==3):\n",
    "        plt.plot(Ef_arr,G_plus_j,'r-.', label=\"v = +- 6\")\n",
    "        plt.plot(Ef_arr,G_minus_j,'r-.')\n",
    "    elif(j==5):\n",
    "        plt.plot(Ef_arr,G_plus_j,'y-.', label = \"v = +- 10\")\n",
    "        plt.plot(Ef_arr,G_minus_j,'y-.')\n",
    "    elif(j==7):\n",
    "        plt.plot(Ef_arr,G_plus_j,'g-.', label = \"v = +- 14\")\n",
    "        plt.plot(Ef_arr,G_minus_j,'g-.')\n",
    "\n",
    "plt.xlabel('Fermi energy (eV)')\n",
    "plt.ylabel('Conductivity (h/2e²)^-1')\n",
    "plt.title(\"Hall conductivity vs Fermi energy\")\n",
    "#plt.text(-0.3, 15, \"B = 1.82 T, Vg = 0 V\")\n",
    "plt.legend(loc =\"lower right\")\n",
    "\n",
    "plt.show()"
   ]
  },
  {
   "cell_type": "raw",
   "id": "0b3b705b",
   "metadata": {},
   "source": [
    "### Open issues\n",
    "#### - 2G0 steps (?)\n",
    "#### - Longitudinal resistivity null\n",
    "#### - Plateaus associated with transitions out of the 5 LL defined"
   ]
  }
 ],
 "metadata": {
  "kernelspec": {
   "display_name": "Python 3 (ipykernel)",
   "language": "python",
   "name": "python3"
  },
  "language_info": {
   "codemirror_mode": {
    "name": "ipython",
    "version": 3
   },
   "file_extension": ".py",
   "mimetype": "text/x-python",
   "name": "python",
   "nbconvert_exporter": "python",
   "pygments_lexer": "ipython3",
   "version": "3.8.10"
  }
 },
 "nbformat": 4,
 "nbformat_minor": 5
}
